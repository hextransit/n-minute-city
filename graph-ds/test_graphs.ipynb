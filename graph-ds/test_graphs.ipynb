{
 "cells": [
  {
   "cell_type": "code",
   "execution_count": null,
   "metadata": {
    "vscode": {
     "languageId": "rust"
    }
   },
   "outputs": [],
   "source": [
    ":dep graph-ds = { path = \".\", default-features = false }\n",
    ":dep anyhow = \"1.0\"\n",
    ":dep h3o = \"0.3.0\"\n",
    "// :dep plotters = \"0.3.4\""
   ]
  },
  {
   "cell_type": "code",
   "execution_count": null,
   "metadata": {
    "vscode": {
     "languageId": "rust"
    }
   },
   "outputs": [],
   "source": [
    "use graph_ds::{Graph, Node, Edge, AStarResult};\n",
    "use graph_ds::hexagon_graph::{cell_graph_from_mpk, h3_network_from_osm, h3_network_from_gtfs, cell::HexCell, h3cell::H3Cell, osm::OSMLayer, OSMOptions, WeightModifier};\n",
    "\n",
    "use std::time::Instant;\n",
    "use std::sync::{Arc, RwLock, RwLockWriteGuard};\n",
    "use std::collections::BTreeSet;\n",
    "use std::collections::hash_map::DefaultHasher;\n",
    "use std::hash::{Hash, Hasher};\n",
    "\n",
    "use std::convert::TryInto;\n"
   ]
  },
  {
   "cell_type": "markdown",
   "metadata": {},
   "source": [
    "## Cell Graph"
   ]
  },
  {
   "cell_type": "code",
   "execution_count": null,
   "metadata": {
    "vscode": {
     "languageId": "rust"
    }
   },
   "outputs": [],
   "source": [
    "let mut graph : Graph<HexCell> = cell_graph_from_mpk(\"../..resources/de_mirage_hexagons.mpk.br\")?;\n",
    "println!(\"Graph has {} nodes\", graph.nr_nodes());\n",
    "graph.node_hash()"
   ]
  },
  {
   "cell_type": "code",
   "execution_count": null,
   "metadata": {
    "vscode": {
     "languageId": "rust"
    }
   },
   "outputs": [],
   "source": [
    "fn heuristic(start_cell: &HexCell, end_cell: &HexCell) -> f64 {\n",
    "    let dx = (start_cell.a - end_cell.a).abs();\n",
    "    let dy = (start_cell.b - end_cell.b).abs();\n",
    "    let dz = (start_cell.a + start_cell.b - end_cell.a - end_cell.b).abs();\n",
    "    let dlayer = (start_cell.layer - end_cell.layer).abs();\n",
    "    ((dx + dy + dz) as f64 / 2.0 + dlayer as f64) * (start_cell.radius * 2) as f64\n",
    "}"
   ]
  },
  {
   "cell_type": "code",
   "execution_count": null,
   "metadata": {
    "vscode": {
     "languageId": "rust"
    }
   },
   "outputs": [],
   "source": [
    "let start = graph.get_random_node().unwrap();\n",
    "let end = graph.get_random_node().unwrap();\n",
    "\n",
    "println!(\"Start: {:?}\", start);\n",
    "println!(\"End: {:?}\", end);"
   ]
  },
  {
   "cell_type": "code",
   "execution_count": null,
   "metadata": {
    "vscode": {
     "languageId": "rust"
    }
   },
   "outputs": [],
   "source": [
    "let start = HexCell { a: -43, b: 41, radius: 24, layer: 1 };\n",
    "let end = HexCell { a: 38, b: -9, radius: 24, layer: 0 };"
   ]
  },
  {
   "cell_type": "code",
   "execution_count": null,
   "metadata": {
    "vscode": {
     "languageId": "rust"
    }
   },
   "outputs": [],
   "source": [
    "println!(\"BFS start: {:?}, end: {:?}\", start, end);\n",
    "let now = Instant::now();\n",
    "let (bfs_path, bfs_distance) = graph.bfs(start, Some(end), &None)?;\n",
    "println!(\"time: {:?} µs\", now.elapsed().as_micros());\n",
    "println!(\"distance: {:?}\", bfs_distance[0]);\n",
    "println!(\"path length: {:?}\", bfs_path);\n",
    "\n",
    "println!(\"---\");\n",
    "\n",
    "println!(\"AStar start: {:?}, end: {:?}\", start, end);\n",
    "let now = Instant::now();\n",
    "let astar_result = graph.astar(start, Some(end), &None, None, heuristic)?;\n",
    "println!(\"time: {:?} µs\", now.elapsed().as_micros());\n",
    "println!(\"distance: {:?}\", astar_result.distances.first().unwrap());\n",
    "println!(\"path length: {:?}\", astar_result.path.unwrap().len());"
   ]
  },
  {
   "attachments": {},
   "cell_type": "markdown",
   "metadata": {},
   "source": [
    "## OSM + GTFS H3 Graph"
   ]
  },
  {
   "cell_type": "code",
   "execution_count": null,
   "metadata": {
    "vscode": {
     "languageId": "rust"
    }
   },
   "outputs": [],
   "source": [
    "let mut osm_g : Graph<H3Cell> = h3_network_from_osm(\"../resources/copenhagen/copenhagen-processed.osm.pbf\", &OSMOptions::default())?;\n",
    "println!(\"Graph has {} nodes, hash: {}\", osm_g.nr_nodes(), osm_g.node_hash());"
   ]
  },
  {
   "cell_type": "code",
   "execution_count": null,
   "metadata": {
    "vscode": {
     "languageId": "rust"
    }
   },
   "outputs": [],
   "source": [
    "let (mut gtfs_g, _) = h3_network_from_gtfs(&WeightModifier::default(), \"../resources/copenhagen/rejseplanen.zip\", 0)?;\n",
    "println!(\"Graph has {} nodes, hash: {}\", gtfs_g.nr_nodes(), gtfs_g.node_hash());"
   ]
  },
  {
   "cell_type": "code",
   "execution_count": null,
   "metadata": {
    "vscode": {
     "languageId": "rust"
    }
   },
   "outputs": [],
   "source": [
    "let edge_weights = gtfs_g.edges.as_ref().read().unwrap().iter().flat_map(|(id, set)| {\n",
    "    set.iter().map(|e| {\n",
    "        let weight = e.weight.unwrap();\n",
    "        (weight * 1000.0) as i64\n",
    "    }).collect::<Vec<i64>>()\n",
    "}).collect::<Vec<i64>>();"
   ]
  },
  {
   "cell_type": "code",
   "execution_count": null,
   "metadata": {
    "vscode": {
     "languageId": "rust"
    }
   },
   "outputs": [],
   "source": [
    "*edge_weights.iter().min().unwrap() as f64 / 1000.0"
   ]
  },
  {
   "cell_type": "code",
   "execution_count": null,
   "metadata": {
    "vscode": {
     "languageId": "rust"
    }
   },
   "outputs": [],
   "source": [
    "let mut ew = edge_weights.clone();\n",
    "ew.sort();\n",
    "ew"
   ]
  },
  {
   "cell_type": "code",
   "execution_count": null,
   "metadata": {
    "vscode": {
     "languageId": "rust"
    }
   },
   "outputs": [],
   "source": [
    "// get the mean of the edge weights\n",
    "let mean = edge_weights.iter().sum::<i64>() as f64 / edge_weights.len() as f64;\n",
    "mean / 1000.0"
   ]
  },
  {
   "cell_type": "code",
   "execution_count": null,
   "metadata": {
    "vscode": {
     "languageId": "rust"
    }
   },
   "outputs": [],
   "source": [
    "let mut count = 0;\n",
    "edge_weights.iter().for_each(|w| {\n",
    "    if w == &0 {\n",
    "        count +=1;\n",
    "    }\n",
    "});\n",
    "println!(\"{} edges have weight 0\", count);"
   ]
  },
  {
   "cell_type": "code",
   "execution_count": null,
   "metadata": {
    "vscode": {
     "languageId": "rust"
    }
   },
   "outputs": [],
   "source": [
    "osm_g.merge(&mut gtfs_g)"
   ]
  },
  {
   "cell_type": "code",
   "execution_count": null,
   "metadata": {
    "vscode": {
     "languageId": "rust"
    }
   },
   "outputs": [],
   "source": [
    "//631051737789436415, 631049684202690047, 631049684202697215\n",
    "\n",
    "let start = H3Cell {\n",
    "    cell: 0x8c1f0598d763dff.try_into().unwrap(),\n",
    "    layer: -1,\n",
    "};\n",
    "\n",
    "let end = H3Cell {\n",
    "    cell: 0x8c1f059890183ff.try_into().unwrap(),\n",
    "    layer: -1,\n",
    "};\n",
    "\n",
    "fn h(start_cell: &H3Cell, end_cell: &H3Cell) -> f64 {\n",
    "    start_cell\n",
    "        .cell\n",
    "        .grid_distance(end_cell.cell)\n",
    "        .unwrap_or(i32::MAX) as f64\n",
    "}\n",
    "\n",
    "osm_g.astar(start, Some(end), &None, None, h)"
   ]
  },
  {
   "cell_type": "code",
   "execution_count": null,
   "metadata": {
    "vscode": {
     "languageId": "rust"
    }
   },
   "outputs": [],
   "source": [
    "let a = H3Cell {\n",
    "    cell: 0x8c1f0582686e5ff.try_into().unwrap(),\n",
    "    layer: -1,\n",
    "};\n",
    "\n",
    "let b = H3Cell {\n",
    "    cell: 0x8c1f0582686edff.try_into().unwrap(),\n",
    "    layer: -1,\n",
    "};\n",
    "\n",
    "let c = H3Cell {\n",
    "    cell: 0x8c1f05902b4d1ff.try_into().unwrap(),\n",
    "    layer: -1,\n",
    "};"
   ]
  },
  {
   "cell_type": "code",
   "execution_count": null,
   "metadata": {
    "vscode": {
     "languageId": "rust"
    }
   },
   "outputs": [],
   "source": [
    "let origins = vec![start, end];\n",
    "let destinations = vec![a, b, c, end];\n",
    "\n",
    "let res = osm_g.matrix_astar_distance(origins, Some(destinations), true, None, h);\n",
    "\n",
    "println!(\"{:#?}\", res);"
   ]
  },
  {
   "cell_type": "code",
   "execution_count": null,
   "metadata": {
    "vscode": {
     "languageId": "rust"
    }
   },
   "outputs": [],
   "source": [
    "osm_g.node_map.as_ref().read().unwrap().get_by_left(&start)"
   ]
  },
  {
   "cell_type": "code",
   "execution_count": null,
   "metadata": {
    "vscode": {
     "languageId": "rust"
    }
   },
   "outputs": [],
   "source": [
    "// osm_g.edges.as_ref().read().unwrap().get(&439124)"
   ]
  }
 ],
 "metadata": {
  "kernelspec": {
   "display_name": "Rust",
   "language": "rust",
   "name": "rust"
  },
  "language_info": {
   "codemirror_mode": "rust",
   "file_extension": ".rs",
   "mimetype": "text/rust",
   "name": "Rust",
   "pygment_lexer": "rust",
   "version": ""
  },
  "vscode": {
   "interpreter": {
    "hash": "eb4a0ac80907d7f44e1a5e88d3d3381b33e3dbedd3a24d113e876f30a0c46bee"
   }
  }
 },
 "nbformat": 4,
 "nbformat_minor": 2
}
