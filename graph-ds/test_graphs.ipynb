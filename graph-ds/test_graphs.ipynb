{
 "cells": [
  {
   "cell_type": "code",
   "execution_count": 81,
   "metadata": {},
   "outputs": [],
   "source": [
    ":dep graph-ds = { path = \".\" }"
   ]
  },
  {
   "cell_type": "code",
   "execution_count": 82,
   "metadata": {},
   "outputs": [],
   "source": [
    "use graph_ds::{Graph, Node, Edge};"
   ]
  },
  {
   "cell_type": "code",
   "execution_count": 83,
   "metadata": {},
   "outputs": [],
   "source": [
    "let mut graph : Graph<u64> = Graph::new();\n",
    "\n",
    "// add a few nodes\n",
    "let nodes : Vec<Node<u64>> = (0 .. 10).map(|i| {\n",
    "    Node {\n",
    "        id: i as u64,\n",
    "        layer: None,\n",
    "    }\n",
    "}).collect::<_>();\n",
    "\n",
    "// make a few edges\n",
    "graph.build_and_add_egde(&nodes[0], &nodes[1], Some(1.0), None);\n",
    "graph.build_and_add_egde(&nodes[1], &nodes[0], Some(1.0), None);\n",
    "graph.build_and_add_egde(&nodes[1], &nodes[2], Some(1.0), None);"
   ]
  },
  {
   "cell_type": "code",
   "execution_count": 84,
   "metadata": {},
   "outputs": [
    {
     "data": {
      "text/plain": [
       "Ok(true)"
      ]
     },
     "execution_count": 84,
     "metadata": {},
     "output_type": "execute_result"
    }
   ],
   "source": [
    "graph.remove_node(&nodes[0])"
   ]
  },
  {
   "cell_type": "code",
   "execution_count": 85,
   "metadata": {},
   "outputs": [
    {
     "data": {
      "text/plain": [
       "{1: [Edge { from: (Weak), to: (Weak), weight: Some(1.0), capacity: None }, Edge { from: (Weak), to: (Weak), weight: Some(1.0), capacity: None }]}"
      ]
     },
     "execution_count": 85,
     "metadata": {},
     "output_type": "execute_result"
    }
   ],
   "source": [
    "graph.edges"
   ]
  },
  {
   "cell_type": "code",
   "execution_count": 86,
   "metadata": {},
   "outputs": [
    {
     "name": "stdout",
     "output_type": "stream",
     "text": [
      "Edge { from: Some(Node { id: 1, layer: None }), to: None, weight: Some(1.0), capacity: None }\n"
     ]
    },
    {
     "data": {
      "text/plain": [
       "()"
      ]
     },
     "execution_count": 86,
     "metadata": {},
     "output_type": "execute_result"
    }
   ],
   "source": [
    "println!(\"{}\", graph.edges.get(&1).unwrap().first().unwrap())"
   ]
  },
  {
   "cell_type": "code",
   "execution_count": 87,
   "metadata": {},
   "outputs": [
    {
     "data": {
      "text/plain": [
       "[None, Some(Node { id: 1, layer: None }), Some(Node { id: 2, layer: None })]"
      ]
     },
     "execution_count": 87,
     "metadata": {},
     "output_type": "execute_result"
    }
   ],
   "source": [
    "graph.nodes"
   ]
  }
 ],
 "metadata": {
  "kernelspec": {
   "display_name": "Rust",
   "language": "rust",
   "name": "rust"
  },
  "language_info": {
   "codemirror_mode": "rust",
   "file_extension": ".rs",
   "mimetype": "text/rust",
   "name": "Rust",
   "pygment_lexer": "rust",
   "version": ""
  }
 },
 "nbformat": 4,
 "nbformat_minor": 2
}
