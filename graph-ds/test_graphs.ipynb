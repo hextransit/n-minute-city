{
 "cells": [
  {
   "cell_type": "code",
   "execution_count": 2,
   "metadata": {
    "vscode": {
     "languageId": "rust"
    }
   },
   "outputs": [],
   "source": [
    ":dep graph-ds = { path = \".\", default-features = false }\n",
    ":dep anyhow = \"1.0\"\n",
    "// :dep h3o = \"0.3.0\"\n",
    "// :dep plotters = \"0.3.4\""
   ]
  },
  {
   "cell_type": "code",
   "execution_count": 3,
   "metadata": {
    "vscode": {
     "languageId": "rust"
    }
   },
   "outputs": [],
   "source": [
    "use graph_ds::{Graph, Node, Edge, AStarResult};\n",
    "use graph_ds::hexagon_graph::{cell_graph_from_mpk, h3_network_from_osm, h3_network_from_gtfs, cell::Cell, h3cell::H3Cell, osm::OSMLayer};\n",
    "\n",
    "use std::time::Instant;\n",
    "use std::sync::{Arc, RwLock, RwLockWriteGuard};\n",
    "use std::collections::BTreeSet;\n",
    "use std::collections::hash_map::DefaultHasher;\n",
    "use std::hash::{Hash, Hasher};\n"
   ]
  },
  {
   "cell_type": "code",
   "execution_count": 4,
   "metadata": {
    "vscode": {
     "languageId": "rust"
    }
   },
   "outputs": [],
   "source": [
    "let set_1 = BTreeSet::from([1, 2, 3]);\n",
    "let set_2 = BTreeSet::from([3, 2, 1]);\n",
    "\n",
    "let mut h1 = DefaultHasher::new();\n",
    "set_1.hash(&mut h1);\n",
    "let mut h2 = DefaultHasher::new();\n",
    "set_2.hash(&mut h2);\n",
    "\n",
    "assert!(h1.finish() == h2.finish());"
   ]
  },
  {
   "cell_type": "markdown",
   "metadata": {},
   "source": [
    "## Cell Graph"
   ]
  },
  {
   "cell_type": "code",
   "execution_count": 14,
   "metadata": {
    "vscode": {
     "languageId": "rust"
    }
   },
   "outputs": [
    {
     "name": "stdout",
     "output_type": "stream",
     "text": [
      "Graph has 7935 nodes\n"
     ]
    }
   ],
   "source": [
    "let mut graph : Graph<Cell> = cell_graph_from_mpk(\"../resources/de_mirage_hexagons.mpk\")?;\n",
    "println!(\"Graph has {} nodes\", graph.nr_nodes());"
   ]
  },
  {
   "cell_type": "code",
   "execution_count": 15,
   "metadata": {
    "vscode": {
     "languageId": "rust"
    }
   },
   "outputs": [
    {
     "data": {
      "text/plain": [
       "7302240096543813149"
      ]
     },
     "execution_count": 15,
     "metadata": {},
     "output_type": "execute_result"
    }
   ],
   "source": [
    "graph.node_hash()"
   ]
  },
  {
   "cell_type": "code",
   "execution_count": 7,
   "metadata": {
    "vscode": {
     "languageId": "rust"
    }
   },
   "outputs": [],
   "source": [
    "fn heuristic(start_cell: &Cell, end_cell: &Cell) -> f64 {\n",
    "    let dx = (start_cell.a - end_cell.a).abs();\n",
    "    let dy = (start_cell.b - end_cell.b).abs();\n",
    "    let dz = (start_cell.a + start_cell.b - end_cell.a - end_cell.b).abs();\n",
    "    let dlayer = (start_cell.layer - end_cell.layer).abs();\n",
    "    ((dx + dy + dz) as f64 / 2.0 + dlayer as f64) * (start_cell.radius * 2) as f64\n",
    "}"
   ]
  },
  {
   "cell_type": "code",
   "execution_count": 8,
   "metadata": {
    "vscode": {
     "languageId": "rust"
    }
   },
   "outputs": [
    {
     "name": "stdout",
     "output_type": "stream",
     "text": [
      "Start: Cell { a: -25, b: 27, radius: 24, layer: 0 }\n",
      "End: Cell { a: -42, b: -5, radius: 24, layer: 0 }\n"
     ]
    }
   ],
   "source": [
    "let start = graph.get_random_node().unwrap();\n",
    "let end = graph.get_random_node().unwrap();\n",
    "\n",
    "println!(\"Start: {:?}\", start);\n",
    "println!(\"End: {:?}\", end);"
   ]
  },
  {
   "cell_type": "code",
   "execution_count": 11,
   "metadata": {
    "vscode": {
     "languageId": "rust"
    }
   },
   "outputs": [
    {
     "name": "stdout",
     "output_type": "stream",
     "text": [
      "BFS start: Cell { a: -25, b: 27, radius: 24, layer: 0 }, end: Cell { a: -42, b: -5, radius: 24, layer: 0 }\n",
      "[backtrace] found start node\n",
      "time: 582 µs\n",
      "distance: 106.0\n",
      "path length: 60\n",
      "---\n",
      "---\n",
      "AStar start: Cell { a: -25, b: 27, radius: 24, layer: 0 }, end: Cell { a: -42, b: -5, radius: 24, layer: 0 }\n",
      "[backtrace] found start node\n",
      "time: 929 µs\n",
      "distance: 2784.315170288086\n",
      "path length: 61\n"
     ]
    }
   ],
   "source": [
    "println!(\"BFS start: {:?}, end: {:?}\", start, end);\n",
    "let now = Instant::now();\n",
    "let (bfs_path, bfs_distance) = graph.bfs(start, Some(end), &None)?;\n",
    "println!(\"time: {:?} µs\", now.elapsed().as_micros());\n",
    "println!(\"distance: {:?}\", bfs_distance[0].unwrap());\n",
    "println!(\"path length: {:?}\", bfs_path.as_ref().unwrap().len());\n",
    "\n",
    "println!(\"---\");\n",
    "\n",
    "// println!(\"matrix bfs\");\n",
    "// let now = Instant::now();\n",
    "// graph.matrix_bfs_distance(vec![start; 10], Some(vec![end; 10]), true);\n",
    "// println!(\"time: {:?} µs\", now.elapsed().as_micros());\n",
    "// let distances = distances.into_iter().flatten().collect::<Vec<_>>();\n",
    "// println!(\"distances: {:?}\", distances);\n",
    "\n",
    "println!(\"---\");\n",
    "\n",
    "println!(\"AStar start: {:?}, end: {:?}\", start, end);\n",
    "let now = Instant::now();\n",
    "let astar_result = graph.astar(start, Some(end), &None, None, heuristic)?;\n",
    "println!(\"time: {:?} µs\", now.elapsed().as_micros());\n",
    "println!(\"distance: {:?}\", astar_result.distances.first().unwrap());\n",
    "println!(\"path length: {:?}\", astar_result.path.unwrap().len());"
   ]
  },
  {
   "attachments": {},
   "cell_type": "markdown",
   "metadata": {},
   "source": [
    "## OSM + GTFS H3 Graph"
   ]
  },
  {
   "cell_type": "code",
   "execution_count": 12,
   "metadata": {
    "vscode": {
     "languageId": "rust"
    }
   },
   "outputs": [
    {
     "name": "stdout",
     "output_type": "stream",
     "text": [
      "processing osm pbf file: ../resources/copenhagen-processed.osm.pbf\n",
      "converted OSM file into 446019 edges\n",
      "Graph has 364511 nodes, hash: 1372348476429501945\n"
     ]
    }
   ],
   "source": [
    "let mut osm_g : Graph<H3Cell> = h3_network_from_osm(\"../resources/copenhagen-processed.osm.pbf\", OSMLayer::Walking)?;\n",
    "println!(\"Graph has {} nodes, hash: {}\", osm_g.nr_nodes(), osm_g.node_hash());"
   ]
  },
  {
   "cell_type": "code",
   "execution_count": 13,
   "metadata": {
    "vscode": {
     "languageId": "rust"
    }
   },
   "outputs": [
    {
     "name": "stdout",
     "output_type": "stream",
     "text": [
      "getting GTFS feed from ../resources/rejseplanen.zip\n",
      "routes: 1631\n",
      "Graph has 103525 nodes, hash: 11658248065950047293\n"
     ]
    }
   ],
   "source": [
    "let mut gtfs_g : Graph<H3Cell> = h3_network_from_gtfs(\"../resources/rejseplanen.zip\")?;\n",
    "println!(\"Graph has {} nodes, hash: {}\", gtfs_g.nr_nodes(), gtfs_g.node_hash());"
   ]
  }
 ],
 "metadata": {
  "kernelspec": {
   "display_name": "Rust",
   "language": "rust",
   "name": "rust"
  },
  "language_info": {
   "codemirror_mode": "rust",
   "file_extension": ".rs",
   "mimetype": "text/rust",
   "name": "Rust",
   "pygment_lexer": "rust",
   "version": ""
  },
  "vscode": {
   "interpreter": {
    "hash": "eb4a0ac80907d7f44e1a5e88d3d3381b33e3dbedd3a24d113e876f30a0c46bee"
   }
  }
 },
 "nbformat": 4,
 "nbformat_minor": 2
}
