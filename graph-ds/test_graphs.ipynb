{
 "cells": [
  {
   "cell_type": "code",
   "execution_count": 163,
   "metadata": {},
   "outputs": [],
   "source": [
    ":dep graph-ds = { path = \".\", default-features = false }\n",
    ":dep anyhow = \"1.0\"\n",
    ":dep h3o = \"0.3.0\"\n",
    "// :dep plotters = \"0.3.4\""
   ]
  },
  {
   "cell_type": "code",
   "execution_count": 164,
   "metadata": {},
   "outputs": [],
   "source": [
    "use graph_ds::{Graph, Node, Edge, AStarResult};\n",
    "use graph_ds::hexagon_graph::{cell_graph_from_mpk, h3_network_from_osm, h3_network_from_gtfs, cell::Cell, h3cell::H3Cell, osm::OSMLayer};\n",
    "\n",
    "use std::time::Instant;\n",
    "use std::sync::{Arc, RwLock, RwLockWriteGuard};\n",
    "use std::collections::BTreeSet;\n",
    "use std::collections::hash_map::DefaultHasher;\n",
    "use std::hash::{Hash, Hasher};\n",
    "\n",
    "use std::convert::TryInto;\n"
   ]
  },
  {
   "cell_type": "markdown",
   "metadata": {},
   "source": [
    "## Cell Graph"
   ]
  },
  {
   "cell_type": "code",
   "execution_count": 165,
   "metadata": {},
   "outputs": [
    {
     "name": "stdout",
     "output_type": "stream",
     "text": [
      "Graph has 7935 nodes\n"
     ]
    }
   ],
   "source": [
    "let mut graph : Graph<Cell> = cell_graph_from_mpk(\"../resources/de_mirage_hexagons.mpk\")?;\n",
    "println!(\"Graph has {} nodes\", graph.nr_nodes());"
   ]
  },
  {
   "cell_type": "code",
   "execution_count": 166,
   "metadata": {},
   "outputs": [
    {
     "data": {
      "text/plain": [
       "7302240096543813149"
      ]
     },
     "execution_count": 166,
     "metadata": {},
     "output_type": "execute_result"
    }
   ],
   "source": [
    "graph.node_hash()"
   ]
  },
  {
   "cell_type": "code",
   "execution_count": 167,
   "metadata": {},
   "outputs": [],
   "source": [
    "fn heuristic(start_cell: &Cell, end_cell: &Cell) -> f64 {\n",
    "    let dx = (start_cell.a - end_cell.a).abs();\n",
    "    let dy = (start_cell.b - end_cell.b).abs();\n",
    "    let dz = (start_cell.a + start_cell.b - end_cell.a - end_cell.b).abs();\n",
    "    let dlayer = (start_cell.layer - end_cell.layer).abs();\n",
    "    ((dx + dy + dz) as f64 / 2.0 + dlayer as f64) * (start_cell.radius * 2) as f64\n",
    "}"
   ]
  },
  {
   "cell_type": "code",
   "execution_count": 168,
   "metadata": {},
   "outputs": [
    {
     "name": "stdout",
     "output_type": "stream",
     "text": [
      "Start: Cell { a: -28, b: 9, radius: 24, layer: 0 }\n",
      "End: Cell { a: -39, b: 39, radius: 24, layer: 0 }\n"
     ]
    }
   ],
   "source": [
    "let start = graph.get_random_node().unwrap();\n",
    "let end = graph.get_random_node().unwrap();\n",
    "\n",
    "println!(\"Start: {:?}\", start);\n",
    "println!(\"End: {:?}\", end);"
   ]
  },
  {
   "cell_type": "code",
   "execution_count": 178,
   "metadata": {},
   "outputs": [],
   "source": [
    "let start = Cell { a: -43, b: 41, radius: 24, layer: 1 };\n",
    "let end = Cell { a: 38, b: -9, radius: 24, layer: 0 };"
   ]
  },
  {
   "cell_type": "code",
   "execution_count": 179,
   "metadata": {},
   "outputs": [
    {
     "name": "stdout",
     "output_type": "stream",
     "text": [
      "BFS start: Cell { a: -43, b: 41, radius: 24, layer: 1 }, end: Cell { a: 38, b: -9, radius: 24, layer: 0 }\n",
      "time: 1013 µs\n",
      "distance: None\n",
      "path length: None\n",
      "---\n",
      "AStar start: Cell { a: -43, b: 41, radius: 24, layer: 1 }, end: Cell { a: 38, b: -9, radius: 24, layer: 0 }\n"
     ]
    },
    {
     "name": "stderr",
     "output_type": "stream",
     "text": [
      "no path found\n"
     ]
    }
   ],
   "source": [
    "println!(\"BFS start: {:?}, end: {:?}\", start, end);\n",
    "let now = Instant::now();\n",
    "let (bfs_path, bfs_distance) = graph.bfs(start, Some(end), &None)?;\n",
    "println!(\"time: {:?} µs\", now.elapsed().as_micros());\n",
    "println!(\"distance: {:?}\", bfs_distance[0]);\n",
    "println!(\"path length: {:?}\", bfs_path);\n",
    "\n",
    "println!(\"---\");\n",
    "\n",
    "println!(\"AStar start: {:?}, end: {:?}\", start, end);\n",
    "let now = Instant::now();\n",
    "let astar_result = graph.astar(start, Some(end), &None, None, heuristic)?;\n",
    "println!(\"time: {:?} µs\", now.elapsed().as_micros());\n",
    "println!(\"distance: {:?}\", astar_result.distances.first().unwrap());\n",
    "println!(\"path length: {:?}\", astar_result.path.unwrap().len());"
   ]
  },
  {
   "attachments": {},
   "cell_type": "markdown",
   "metadata": {},
   "source": [
    "## OSM + GTFS H3 Graph"
   ]
  },
  {
   "cell_type": "code",
   "execution_count": 171,
   "metadata": {},
   "outputs": [
    {
     "name": "stdout",
     "output_type": "stream",
     "text": [
      "processing osm pbf file: ../resources/copenhagen-processed.osm.pbf\n",
      "converted OSM file into 490098 edges\n",
      "Graph has 418149 nodes, hash: 14980095458091112916\n"
     ]
    }
   ],
   "source": [
    "let mut osm_g : Graph<H3Cell> = h3_network_from_osm(\"../resources/copenhagen-processed.osm.pbf\", None)?;\n",
    "println!(\"Graph has {} nodes, hash: {}\", osm_g.nr_nodes(), osm_g.node_hash());"
   ]
  },
  {
   "cell_type": "code",
   "execution_count": 172,
   "metadata": {},
   "outputs": [
    {
     "name": "stdout",
     "output_type": "stream",
     "text": [
      "getting GTFS feed from ../resources/rejseplanen.zip\n",
      "routes: 1631\n",
      "Graph has 103525 nodes, hash: 11658248065950047293\n"
     ]
    }
   ],
   "source": [
    "let mut gtfs_g : Graph<H3Cell> = h3_network_from_gtfs(\"../resources/rejseplanen.zip\")?;\n",
    "println!(\"Graph has {} nodes, hash: {}\", gtfs_g.nr_nodes(), gtfs_g.node_hash());"
   ]
  },
  {
   "cell_type": "code",
   "execution_count": 173,
   "metadata": {},
   "outputs": [
    {
     "data": {
      "text/plain": [
       "Ok(())"
      ]
     },
     "execution_count": 173,
     "metadata": {},
     "output_type": "execute_result"
    }
   ],
   "source": [
    "osm_g.merge(&mut gtfs_g)"
   ]
  },
  {
   "cell_type": "code",
   "execution_count": 174,
   "metadata": {},
   "outputs": [
    {
     "name": "stdout",
     "output_type": "stream",
     "text": [
      "[backtrace] found start node\n"
     ]
    },
    {
     "data": {
      "text/plain": [
       "Ok(AStarResult { path: Some([H3Cell { cell: 15-405440255150777 (8c1f05902b4d1ff), layer: -1 }, H3Cell { cell: 15-405440255150777 (8c1f05902b4d1ff), layer: 1606 }, H3Cell { cell: 15-405440251613777 (8c1f05902a717ff), layer: 1606 }, H3Cell { cell: 15-405440251613777 (8c1f05902a717ff), layer: -1 }]), single_target: true, distances: [24.333333333333332] })"
      ]
     },
     "execution_count": 174,
     "metadata": {},
     "output_type": "execute_result"
    }
   ],
   "source": [
    "let start = H3Cell {\n",
    "    cell: 0x8c1f05902b4d1ff_u64.try_into().unwrap(),\n",
    "    layer: -1,\n",
    "};\n",
    "\n",
    "let end = H3Cell {\n",
    "    cell: 0x8c1f05902a717ff_u64.try_into().unwrap(),\n",
    "    layer: -1,\n",
    "};\n",
    "\n",
    "fn h(start_cell: &H3Cell, end_cell: &H3Cell) -> f64 {\n",
    "    start_cell\n",
    "        .cell\n",
    "        .grid_distance(end_cell.cell)\n",
    "        .unwrap_or(i32::MAX) as f64\n",
    "}\n",
    "\n",
    "osm_g.astar(start, Some(end), &None, None, h)"
   ]
  },
  {
   "cell_type": "code",
   "execution_count": 175,
   "metadata": {},
   "outputs": [
    {
     "data": {
      "text/plain": [
       "Some(459416)"
      ]
     },
     "execution_count": 175,
     "metadata": {},
     "output_type": "execute_result"
    }
   ],
   "source": [
    "osm_g.node_map.as_ref().read().unwrap().get_by_left(&start)"
   ]
  },
  {
   "cell_type": "code",
   "execution_count": 176,
   "metadata": {},
   "outputs": [],
   "source": [
    "// osm_g.edges.as_ref().read().unwrap().get(&439124)"
   ]
  }
 ],
 "metadata": {
  "kernelspec": {
   "display_name": "Rust",
   "language": "rust",
   "name": "rust"
  },
  "language_info": {
   "codemirror_mode": "rust",
   "file_extension": ".rs",
   "mimetype": "text/rust",
   "name": "rust",
   "pygment_lexer": "rust",
   "version": ""
  },
  "vscode": {
   "interpreter": {
    "hash": "eb4a0ac80907d7f44e1a5e88d3d3381b33e3dbedd3a24d113e876f30a0c46bee"
   }
  }
 },
 "nbformat": 4,
 "nbformat_minor": 2
}
