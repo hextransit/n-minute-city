{
 "cells": [
  {
   "cell_type": "code",
   "execution_count": 2,
   "metadata": {
    "vscode": {
     "languageId": "rust"
    }
   },
   "outputs": [],
   "source": [
    ":dep graph-ds = { path = \".\" }"
   ]
  },
  {
   "cell_type": "code",
   "execution_count": 3,
   "metadata": {
    "vscode": {
     "languageId": "rust"
    }
   },
   "outputs": [],
   "source": [
    "use graph_ds::{Graph, Node, Edge};\n",
    "use graph_ds::hexagon_graph::{hexagon_graph_from_file, cell::Cell};\n",
    "use std::time::Instant;"
   ]
  },
  {
   "cell_type": "code",
   "execution_count": 4,
   "metadata": {
    "vscode": {
     "languageId": "rust"
    }
   },
   "outputs": [],
   "source": [
    "let mut graph : Graph<Cell> = hexagon_graph_from_file(\"de_inferno_hexagons.mpk\")?;"
   ]
  },
  {
   "cell_type": "code",
   "execution_count": 5,
   "metadata": {
    "vscode": {
     "languageId": "rust"
    }
   },
   "outputs": [],
   "source": [
    "let start = Cell {\n",
    "    a: 60,\n",
    "    b: -33,\n",
    "    radius: 24,\n",
    "    layer: 3,\n",
    "};\n",
    "let end = Cell {\n",
    "    a: 5,\n",
    "    b: 61,\n",
    "    radius: 24,\n",
    "    layer: 3,\n",
    "};"
   ]
  },
  {
   "cell_type": "code",
   "execution_count": 22,
   "metadata": {
    "vscode": {
     "languageId": "rust"
    }
   },
   "outputs": [
    {
     "name": "stdout",
     "output_type": "stream",
     "text": [
      "start: Cell { a: 60, b: -33, radius: 24, layer: 3 }, end: Cell { a: 5, b: 61, radius: 24, layer: 3 }\n",
      "found target: 4543\n",
      "117\n",
      "time: 407 µs\n"
     ]
    }
   ],
   "source": [
    "println!(\"start: {:?}, end: {:?}\", start, end);\n",
    "let now = Instant::now();\n",
    "graph.bfs(start, Some(end))?;\n",
    "println!(\"time: {:?} µs\", now.elapsed().as_micros());"
   ]
  }
 ],
 "metadata": {
  "kernelspec": {
   "display_name": "Rust",
   "language": "rust",
   "name": "rust"
  },
  "language_info": {
   "codemirror_mode": "rust",
   "file_extension": ".rs",
   "mimetype": "text/rust",
   "name": "Rust",
   "pygment_lexer": "rust",
   "version": ""
  }
 },
 "nbformat": 4,
 "nbformat_minor": 2
}
