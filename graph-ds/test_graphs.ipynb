{
 "cells": [
  {
   "cell_type": "code",
   "execution_count": 324,
   "metadata": {
    "vscode": {
     "languageId": "rust"
    }
   },
   "outputs": [],
   "source": [
    ":dep graph-ds = { path = \".\", default-features = false }\n",
    ":dep anyhow = \"1.0\"\n",
    "// :dep h3o = \"0.3.0\"\n",
    "// :dep plotters = \"0.3.4\""
   ]
  },
  {
   "cell_type": "code",
   "execution_count": 325,
   "metadata": {
    "vscode": {
     "languageId": "rust"
    }
   },
   "outputs": [],
   "source": [
    "use graph_ds::{Graph, Node, Edge};\n",
    "use graph_ds::hexagon_graph::{cell_graph_from_mpk, cell::Cell};\n",
    "// use h3o::Resolution;\n",
    "use std::time::Instant;\n",
    "use std::sync::{Arc, RwLock, RwLockWriteGuard};\n",
    "\n",
    "\n",
    "use std::collections::hash_map::DefaultHasher;\n",
    "use std::hash::{Hash, Hasher};\n"
   ]
  },
  {
   "cell_type": "code",
   "execution_count": 329,
   "metadata": {
    "vscode": {
     "languageId": "rust"
    }
   },
   "outputs": [
    {
     "name": "stdout",
     "output_type": "stream",
     "text": [
      "Graph has 7935 nodes\n"
     ]
    }
   ],
   "source": [
    "let mut graph : Graph<Cell> = cell_graph_from_mpk(\"../resources/de_mirage_hexagons.mpk\")?;\n",
    "println!(\"Graph has {} nodes\", graph.nr_nodes());"
   ]
  },
  {
   "cell_type": "code",
   "execution_count": 330,
   "metadata": {
    "vscode": {
     "languageId": "rust"
    }
   },
   "outputs": [
    {
     "data": {
      "text/plain": [
       "14821309618286519929"
      ]
     },
     "execution_count": 330,
     "metadata": {},
     "output_type": "execute_result"
    }
   ],
   "source": [
    "graph.node_hash()"
   ]
  },
  {
   "cell_type": "code",
   "execution_count": null,
   "metadata": {
    "vscode": {
     "languageId": "rust"
    }
   },
   "outputs": [],
   "source": [
    "fn heuristic(start_cell: &Cell, end_cell: &Cell) -> f64 {\n",
    "    let dx = (start_cell.a - end_cell.a).abs();\n",
    "    let dy = (start_cell.b - end_cell.b).abs();\n",
    "    let dz = (start_cell.a + start_cell.b - end_cell.a - end_cell.b).abs();\n",
    "    let dlayer = (start_cell.layer - end_cell.layer).abs();\n",
    "    ((dx + dy + dz) as f64 / 2.0 + dlayer as f64) * (start_cell.radius * 2) as f64\n",
    "}"
   ]
  },
  {
   "cell_type": "code",
   "execution_count": null,
   "metadata": {
    "vscode": {
     "languageId": "rust"
    }
   },
   "outputs": [
    {
     "name": "stdout",
     "output_type": "stream",
     "text": [
      "Start: Cell { a: -9, b: -11, radius: 24, layer: 0 }\n",
      "End: Cell { a: -39, b: -18, radius: 24, layer: -1 }\n"
     ]
    }
   ],
   "source": [
    "let start = graph.get_random_node().unwrap();\n",
    "let end = graph.get_random_node().unwrap();\n",
    "\n",
    "println!(\"Start: {:?}\", start);\n",
    "println!(\"End: {:?}\", end);"
   ]
  },
  {
   "cell_type": "code",
   "execution_count": null,
   "metadata": {
    "vscode": {
     "languageId": "rust"
    }
   },
   "outputs": [
    {
     "name": "stdout",
     "output_type": "stream",
     "text": [
      "BFS start: Cell { a: -9, b: -11, radius: 24, layer: 0 }, end: Cell { a: -39, b: -18, radius: 24, layer: -1 }\n",
      "[backtrace] found start node\n",
      "time: 670 µs\n",
      "distance: 2642.506072998047\n",
      "path length: 56\n",
      "---\n",
      "---\n",
      "AStar start: Cell { a: -9, b: -11, radius: 24, layer: 0 }, end: Cell { a: -39, b: -18, radius: 24, layer: -1 }\n",
      "[backtrace] found start node\n",
      "time: 920 µs\n",
      "distance: 2611.0711669921875\n",
      "path length: 56\n"
     ]
    }
   ],
   "source": [
    "println!(\"BFS start: {:?}, end: {:?}\", start, end);\n",
    "let now = Instant::now();\n",
    "let (bfs_path, bfs_distance) = graph.bfs(start, Some(end), &None)?;\n",
    "println!(\"time: {:?} µs\", now.elapsed().as_micros());\n",
    "println!(\"distance: {:?}\", bfs_distance[0].unwrap());\n",
    "println!(\"path length: {:?}\", bfs_path.as_ref().unwrap().len());\n",
    "\n",
    "println!(\"---\");\n",
    "\n",
    "// println!(\"matrix bfs\");\n",
    "// let now = Instant::now();\n",
    "// graph.matrix_bfs_distance(vec![start; 10], Some(vec![end; 10]), true);\n",
    "// println!(\"time: {:?} µs\", now.elapsed().as_micros());\n",
    "// let distances = distances.into_iter().flatten().collect::<Vec<_>>();\n",
    "// println!(\"distances: {:?}\", distances);\n",
    "\n",
    "println!(\"---\");\n",
    "\n",
    "println!(\"AStar start: {:?}, end: {:?}\", start, end);\n",
    "let now = Instant::now();\n",
    "let (astar_path, astar_distance) = graph.astar(start, end, heuristic)?;\n",
    "println!(\"time: {:?} µs\", now.elapsed().as_micros());\n",
    "println!(\"distance: {:?}\", astar_distance);\n",
    "println!(\"path length: {:?}\", astar_path.len());"
   ]
  },
  {
   "cell_type": "code",
   "execution_count": null,
   "metadata": {
    "vscode": {
     "languageId": "rust"
    }
   },
   "outputs": [
    {
     "name": "stdout",
     "output_type": "stream",
     "text": [
      "[Cell { a: -9, b: -11, radius: 24, layer: 0 }, Cell { a: -10, b: -11, radius: 24, layer: 0 }, Cell { a: -10, b: -11, radius: 24, layer: -1 }, Cell { a: -11, b: -11, radius: 24, layer: -1 }, Cell { a: -12, b: -11, radius: 24, layer: -1 }, Cell { a: -13, b: -10, radius: 24, layer: -1 }, Cell { a: -14, b: -10, radius: 24, layer: -1 }, Cell { a: -15, b: -10, radius: 24, layer: -1 }, Cell { a: -16, b: -9, radius: 24, layer: -1 }, Cell { a: -17, b: -9, radius: 24, layer: -1 }, Cell { a: -18, b: -9, radius: 24, layer: -1 }, Cell { a: -19, b: -9, radius: 24, layer: -1 }, Cell { a: -20, b: -9, radius: 24, layer: -1 }, Cell { a: -21, b: -8, radius: 24, layer: -1 }, Cell { a: -22, b: -8, radius: 24, layer: -1 }, Cell { a: -22, b: -8, radius: 24, layer: 0 }, Cell { a: -23, b: -7, radius: 24, layer: 0 }, Cell { a: -24, b: -7, radius: 24, layer: 0 }, Cell { a: -25, b: -6, radius: 24, layer: 0 }, Cell { a: -26, b: -5, radius: 24, layer: 0 }, Cell { a: -27, b: -4, radius: 24, layer: 0 }, Cell { a: -28, b: -3, radius: 24, layer: 0 }, Cell { a: -29, b: -2, radius: 24, layer: 0 }, Cell { a: -30, b: -1, radius: 24, layer: 0 }, Cell { a: -31, b: -1, radius: 24, layer: 0 }, Cell { a: -31, b: -2, radius: 24, layer: 0 }, Cell { a: -32, b: -2, radius: 24, layer: 0 }, Cell { a: -32, b: -3, radius: 24, layer: 0 }, Cell { a: -32, b: -4, radius: 24, layer: 0 }, Cell { a: -33, b: -4, radius: 24, layer: 0 }, Cell { a: -33, b: -5, radius: 24, layer: 0 }, Cell { a: -34, b: -5, radius: 24, layer: 0 }, Cell { a: -35, b: -5, radius: 24, layer: 0 }, Cell { a: -36, b: -5, radius: 24, layer: 0 }, Cell { a: -37, b: -5, radius: 24, layer: 0 }, Cell { a: -38, b: -5, radius: 24, layer: 0 }, Cell { a: -39, b: -5, radius: 24, layer: 0 }, Cell { a: -39, b: -6, radius: 24, layer: 0 }, Cell { a: -40, b: -6, radius: 24, layer: 0 }, Cell { a: -41, b: -6, radius: 24, layer: 0 }, Cell { a: -41, b: -7, radius: 24, layer: 0 }, Cell { a: -42, b: -7, radius: 24, layer: 0 }, Cell { a: -42, b: -8, radius: 24, layer: 0 }, Cell { a: -42, b: -8, radius: 24, layer: -1 }, Cell { a: -42, b: -9, radius: 24, layer: -1 }, Cell { a: -42, b: -10, radius: 24, layer: -1 }, Cell { a: -42, b: -11, radius: 24, layer: -1 }, Cell { a: -42, b: -12, radius: 24, layer: -1 }, Cell { a: -42, b: -13, radius: 24, layer: -1 }, Cell { a: -42, b: -14, radius: 24, layer: -1 }, Cell { a: -42, b: -15, radius: 24, layer: -1 }, Cell { a: -42, b: -16, radius: 24, layer: -1 }, Cell { a: -42, b: -17, radius: 24, layer: -1 }, Cell { a: -41, b: -18, radius: 24, layer: -1 }, Cell { a: -40, b: -18, radius: 24, layer: -1 }, Cell { a: -39, b: -18, radius: 24, layer: -1 }]\n"
     ]
    }
   ],
   "source": [
    "println!(\"{:?}\", bfs_path.unwrap());"
   ]
  },
  {
   "cell_type": "code",
   "execution_count": null,
   "metadata": {
    "vscode": {
     "languageId": "rust"
    }
   },
   "outputs": [
    {
     "name": "stdout",
     "output_type": "stream",
     "text": [
      "[Cell { a: -9, b: -11, radius: 24, layer: 0 }, Cell { a: -10, b: -11, radius: 24, layer: 0 }, Cell { a: -10, b: -11, radius: 24, layer: -1 }, Cell { a: -11, b: -10, radius: 24, layer: -1 }, Cell { a: -12, b: -9, radius: 24, layer: -1 }, Cell { a: -13, b: -8, radius: 24, layer: -1 }, Cell { a: -14, b: -7, radius: 24, layer: -1 }, Cell { a: -15, b: -6, radius: 24, layer: -1 }, Cell { a: -16, b: -5, radius: 24, layer: -1 }, Cell { a: -17, b: -5, radius: 24, layer: -1 }, Cell { a: -18, b: -4, radius: 24, layer: -1 }, Cell { a: -19, b: -4, radius: 24, layer: -1 }, Cell { a: -20, b: -3, radius: 24, layer: -1 }, Cell { a: -20, b: -3, radius: 24, layer: 0 }, Cell { a: -21, b: -3, radius: 24, layer: 0 }, Cell { a: -22, b: -2, radius: 24, layer: 0 }, Cell { a: -23, b: -2, radius: 24, layer: 0 }, Cell { a: -24, b: -1, radius: 24, layer: 0 }, Cell { a: -25, b: -1, radius: 24, layer: 0 }, Cell { a: -26, b: -1, radius: 24, layer: 0 }, Cell { a: -27, b: -1, radius: 24, layer: 0 }, Cell { a: -28, b: -1, radius: 24, layer: 0 }, Cell { a: -29, b: -1, radius: 24, layer: 0 }, Cell { a: -30, b: -1, radius: 24, layer: 0 }, Cell { a: -31, b: -1, radius: 24, layer: 0 }, Cell { a: -31, b: -2, radius: 24, layer: 0 }, Cell { a: -32, b: -2, radius: 24, layer: 0 }, Cell { a: -32, b: -3, radius: 24, layer: 0 }, Cell { a: -33, b: -3, radius: 24, layer: 0 }, Cell { a: -33, b: -4, radius: 24, layer: 0 }, Cell { a: -34, b: -4, radius: 24, layer: 0 }, Cell { a: -35, b: -4, radius: 24, layer: 0 }, Cell { a: -35, b: -5, radius: 24, layer: 0 }, Cell { a: -36, b: -5, radius: 24, layer: 0 }, Cell { a: -37, b: -5, radius: 24, layer: 0 }, Cell { a: -38, b: -5, radius: 24, layer: 0 }, Cell { a: -39, b: -5, radius: 24, layer: 0 }, Cell { a: -40, b: -5, radius: 24, layer: 0 }, Cell { a: -41, b: -5, radius: 24, layer: 0 }, Cell { a: -41, b: -6, radius: 24, layer: 0 }, Cell { a: -42, b: -6, radius: 24, layer: 0 }, Cell { a: -42, b: -7, radius: 24, layer: 0 }, Cell { a: -42, b: -8, radius: 24, layer: 0 }, Cell { a: -42, b: -8, radius: 24, layer: -1 }, Cell { a: -42, b: -9, radius: 24, layer: -1 }, Cell { a: -42, b: -10, radius: 24, layer: -1 }, Cell { a: -42, b: -11, radius: 24, layer: -1 }, Cell { a: -42, b: -12, radius: 24, layer: -1 }, Cell { a: -42, b: -13, radius: 24, layer: -1 }, Cell { a: -42, b: -14, radius: 24, layer: -1 }, Cell { a: -42, b: -15, radius: 24, layer: -1 }, Cell { a: -42, b: -16, radius: 24, layer: -1 }, Cell { a: -42, b: -17, radius: 24, layer: -1 }, Cell { a: -41, b: -17, radius: 24, layer: -1 }, Cell { a: -40, b: -18, radius: 24, layer: -1 }, Cell { a: -39, b: -18, radius: 24, layer: -1 }]\n"
     ]
    }
   ],
   "source": [
    "println!(\"{:?}\", astar_path);"
   ]
  }
 ],
 "metadata": {
  "kernelspec": {
   "display_name": "Rust",
   "language": "rust",
   "name": "rust"
  },
  "language_info": {
   "codemirror_mode": "rust",
   "file_extension": ".rs",
   "mimetype": "text/rust",
   "name": "Rust",
   "pygment_lexer": "rust",
   "version": ""
  },
  "vscode": {
   "interpreter": {
    "hash": "eb4a0ac80907d7f44e1a5e88d3d3381b33e3dbedd3a24d113e876f30a0c46bee"
   }
  }
 },
 "nbformat": 4,
 "nbformat_minor": 2
}
