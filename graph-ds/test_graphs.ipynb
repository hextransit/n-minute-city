{
 "cells": [
  {
   "cell_type": "code",
   "execution_count": 5,
   "metadata": {
    "vscode": {
     "languageId": "rust"
    }
   },
   "outputs": [],
   "source": [
    ":dep graph-ds = { path = \".\" }"
   ]
  },
  {
   "cell_type": "code",
   "execution_count": 6,
   "metadata": {
    "vscode": {
     "languageId": "rust"
    }
   },
   "outputs": [],
   "source": [
    "use graph_ds::{Graph, Node, Edge};\n",
    "use graph_ds::hexagon_graph::{hexagon_graph_from_file, cell::Cell};\n",
    "use std::time::Instant;"
   ]
  },
  {
   "cell_type": "code",
   "execution_count": 7,
   "metadata": {
    "vscode": {
     "languageId": "rust"
    }
   },
   "outputs": [],
   "source": [
    "let mut graph : Graph<Cell> = hexagon_graph_from_file(\"de_inferno_hexagons.mpk\")?;"
   ]
  },
  {
   "cell_type": "code",
   "execution_count": 8,
   "metadata": {
    "vscode": {
     "languageId": "rust"
    }
   },
   "outputs": [],
   "source": [
    "let start = Cell {\n",
    "    a: 60,\n",
    "    b: -33,\n",
    "    radius: 24,\n",
    "    layer: 3,\n",
    "};\n",
    "let end = Cell {\n",
    "    a: 5,\n",
    "    b: 61,\n",
    "    radius: 24,\n",
    "    layer: 3,\n",
    "};"
   ]
  },
  {
   "cell_type": "code",
   "execution_count": 9,
   "metadata": {
    "vscode": {
     "languageId": "rust"
    }
   },
   "outputs": [],
   "source": [
    "fn heuristic(start_cell: &Cell, end_cell: &Cell) -> f64 {\n",
    "    let dx = (start_cell.a - end_cell.a).abs();\n",
    "    let dy = (start_cell.b - end_cell.b).abs();\n",
    "    let dz = (start_cell.a + start_cell.b - end_cell.a - end_cell.b).abs();\n",
    "    let dlayer = (start_cell.layer - end_cell.layer).abs();\n",
    "    ((dx + dy + dz) as f64 / 2.0 + dlayer as f64) * (start_cell.radius * 2) as f64\n",
    "}"
   ]
  },
  {
   "cell_type": "code",
   "execution_count": 22,
   "metadata": {
    "vscode": {
     "languageId": "rust"
    }
   },
   "outputs": [
    {
     "name": "stdout",
     "output_type": "stream",
     "text": [
      "BFS start: Cell { a: 60, b: -33, radius: 24, layer: 3 }, end: Cell { a: 5, b: 61, radius: 24, layer: 3 }\n",
      "time: 602 µs\n",
      "distance: 117\n",
      "---\n",
      "AStar start: Cell { a: 60, b: -33, radius: 24, layer: 3 }, end: Cell { a: 5, b: 61, radius: 24, layer: 3 }\n",
      "time: 2111 µs\n",
      "distance: 117.0\n"
     ]
    }
   ],
   "source": [
    "println!(\"BFS start: {:?}, end: {:?}\", start, end);\n",
    "let now = Instant::now();\n",
    "let (path, _) = graph.bfs(start, Some(end))?;\n",
    "println!(\"time: {:?} µs\", now.elapsed().as_micros());\n",
    "println!(\"distance: {:?}\", path.unwrap().len());\n",
    "\n",
    "println!(\"---\");\n",
    "\n",
    "println!(\"AStar start: {:?}, end: {:?}\", start, end);\n",
    "let now = Instant::now();\n",
    "let (_, distance) = graph.astar(start, end, heuristic)?;\n",
    "println!(\"time: {:?} µs\", now.elapsed().as_micros());\n",
    "println!(\"distance: {:?}\", distance);"
   ]
  }
 ],
 "metadata": {
  "kernelspec": {
   "display_name": "Rust",
   "language": "rust",
   "name": "rust"
  },
  "language_info": {
   "codemirror_mode": "rust",
   "file_extension": ".rs",
   "mimetype": "text/rust",
   "name": "Rust",
   "pygment_lexer": "rust",
   "version": ""
  }
 },
 "nbformat": 4,
 "nbformat_minor": 2
}
