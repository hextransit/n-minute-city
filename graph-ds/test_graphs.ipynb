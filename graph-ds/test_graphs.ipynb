{
 "cells": [
  {
   "cell_type": "code",
   "execution_count": 9,
   "metadata": {},
   "outputs": [],
   "source": [
    ":dep graph-ds = { path = \".\" }\n",
    ":dep h3o = \"0.3.0\"\n",
    ":dep plotters = \"0.3.4\""
   ]
  },
  {
   "cell_type": "code",
   "execution_count": 12,
   "metadata": {},
   "outputs": [],
   "source": [
    "use graph_ds::{Graph, Node, Edge};\n",
    "use graph_ds::hexagon_graph::{hexagon_graph_from_file, cell::Cell, h3_network_from_gtfs, h3_network_from_osm, osm::{process_osm_pbf, OSMLayer}};\n",
    "use h3o::Resolution;\n",
    "use std::time::Instant;"
   ]
  },
  {
   "cell_type": "code",
   "execution_count": 13,
   "metadata": {},
   "outputs": [
    {
     "name": "stdout",
     "output_type": "stream",
     "text": [
      "converted OSM file into 14263558 edges\n"
     ]
    },
    {
     "ename": "Error",
     "evalue": "Subprocess terminated with status: signal: 9 (SIGKILL)",
     "output_type": "error",
     "traceback": [
      "Subprocess terminated with status: signal: 9 (SIGKILL)"
     ]
    }
   ],
   "source": [
    "let osm_graph = h3_network_from_osm(\"../resources/denmark-with-ways.osm.pbf\", OSMLayer::Walking).unwrap();\n",
    "println!(\"osm graph created with {} nodes\", osm_graph.nr_nodes())"
   ]
  },
  {
   "cell_type": "code",
   "execution_count": null,
   "metadata": {},
   "outputs": [],
   "source": [
    "let gtfs_graph = h3_network_from_gtfs(\"../resources/rejseplanen.zip\").unwrap();\n",
    "println!(\"gtfs graph created with {} nodes\", gtfs_graph.nr_nodes())"
   ]
  },
  {
   "cell_type": "code",
   "execution_count": null,
   "metadata": {},
   "outputs": [],
   "source": [
    "let mut graph : Graph<Cell> = hexagon_graph_from_file(\"de_inferno_hexagons.mpk\")?;\n",
    "println!(\"Graph has {} nodes\", graph.nr_nodes());"
   ]
  },
  {
   "cell_type": "code",
   "execution_count": null,
   "metadata": {},
   "outputs": [],
   "source": [
    "let start = Cell {\n",
    "    a: 60,\n",
    "    b: -33,\n",
    "    radius: 24,\n",
    "    layer: 3,\n",
    "};\n",
    "let end = Cell {\n",
    "    a: 5,\n",
    "    b: 61,\n",
    "    radius: 24,\n",
    "    layer: 3,\n",
    "};"
   ]
  },
  {
   "cell_type": "code",
   "execution_count": null,
   "metadata": {},
   "outputs": [],
   "source": [
    "fn heuristic(start_cell: &Cell, end_cell: &Cell) -> f64 {\n",
    "    let dx = (start_cell.a - end_cell.a).abs();\n",
    "    let dy = (start_cell.b - end_cell.b).abs();\n",
    "    let dz = (start_cell.a + start_cell.b - end_cell.a - end_cell.b).abs();\n",
    "    let dlayer = (start_cell.layer - end_cell.layer).abs();\n",
    "    ((dx + dy + dz) as f64 / 2.0 + dlayer as f64) * (start_cell.radius * 2) as f64\n",
    "}"
   ]
  },
  {
   "cell_type": "code",
   "execution_count": null,
   "metadata": {},
   "outputs": [],
   "source": [
    "println!(\"BFS start: {:?}, end: {:?}\", start, end);\n",
    "let now = Instant::now();\n",
    "let (path, _) = graph.bfs(start, Some(end))?;\n",
    "println!(\"time: {:?} µs\", now.elapsed().as_micros());\n",
    "println!(\"distance: {:?}\", path.unwrap().len());\n",
    "\n",
    "println!(\"---\");\n",
    "\n",
    "println!(\"AStar start: {:?}, end: {:?}\", start, end);\n",
    "let now = Instant::now();\n",
    "let (_, distance) = graph.astar(start, end, heuristic)?;\n",
    "println!(\"time: {:?} µs\", now.elapsed().as_micros());\n",
    "println!(\"distance: {:?}\", distance);"
   ]
  }
 ],
 "metadata": {
  "kernelspec": {
   "display_name": "Rust",
   "language": "rust",
   "name": "rust"
  },
  "language_info": {
   "codemirror_mode": "rust",
   "file_extension": ".rs",
   "mimetype": "text/rust",
   "name": "rust",
   "pygment_lexer": "rust",
   "version": ""
  },
  "vscode": {
   "interpreter": {
    "hash": "eb4a0ac80907d7f44e1a5e88d3d3381b33e3dbedd3a24d113e876f30a0c46bee"
   }
  }
 },
 "nbformat": 4,
 "nbformat_minor": 2
}
