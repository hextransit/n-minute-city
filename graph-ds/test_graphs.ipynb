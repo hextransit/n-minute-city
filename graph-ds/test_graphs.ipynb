{
 "cells": [
  {
   "cell_type": "code",
   "execution_count": 2,
   "metadata": {
    "vscode": {
     "languageId": "rust"
    }
   },
   "outputs": [],
   "source": [
    ":dep graph-ds = { path = \".\", default-features = false }\n",
    ":dep anyhow = \"1.0\"\n",
    ":dep h3o = \"0.3.0\"\n",
    "// :dep plotters = \"0.3.4\""
   ]
  },
  {
   "cell_type": "code",
   "execution_count": 3,
   "metadata": {
    "vscode": {
     "languageId": "rust"
    }
   },
   "outputs": [],
   "source": [
    "use graph_ds::{Graph, Node, Edge, AStarResult};\n",
    "use graph_ds::hexagon_graph::{cell_graph_from_mpk, h3_network_from_osm, h3_network_from_gtfs, cell::Cell, h3cell::H3Cell, osm::OSMLayer, OSMOptions};\n",
    "\n",
    "use std::time::Instant;\n",
    "use std::sync::{Arc, RwLock, RwLockWriteGuard};\n",
    "use std::collections::BTreeSet;\n",
    "use std::collections::hash_map::DefaultHasher;\n",
    "use std::hash::{Hash, Hasher};\n",
    "\n",
    "use std::convert::TryInto;\n"
   ]
  },
  {
   "cell_type": "markdown",
   "metadata": {},
   "source": [
    "## Cell Graph"
   ]
  },
  {
   "cell_type": "code",
   "execution_count": 8,
   "metadata": {
    "vscode": {
     "languageId": "rust"
    }
   },
   "outputs": [
    {
     "name": "stderr",
     "output_type": "stream",
     "text": [
      "No such file or directory (os error 2)\n"
     ]
    }
   ],
   "source": [
    "let mut graph : Graph<Cell> = cell_graph_from_mpk(\"../..resources/de_mirage_hexagons.mpk.br\")?;\n",
    "println!(\"Graph has {} nodes\", graph.nr_nodes());\n",
    "graph.node_hash()"
   ]
  },
  {
   "cell_type": "code",
   "execution_count": null,
   "metadata": {
    "vscode": {
     "languageId": "rust"
    }
   },
   "outputs": [],
   "source": [
    "fn heuristic(start_cell: &Cell, end_cell: &Cell) -> f64 {\n",
    "    let dx = (start_cell.a - end_cell.a).abs();\n",
    "    let dy = (start_cell.b - end_cell.b).abs();\n",
    "    let dz = (start_cell.a + start_cell.b - end_cell.a - end_cell.b).abs();\n",
    "    let dlayer = (start_cell.layer - end_cell.layer).abs();\n",
    "    ((dx + dy + dz) as f64 / 2.0 + dlayer as f64) * (start_cell.radius * 2) as f64\n",
    "}"
   ]
  },
  {
   "cell_type": "code",
   "execution_count": null,
   "metadata": {
    "vscode": {
     "languageId": "rust"
    }
   },
   "outputs": [
    {
     "name": "stdout",
     "output_type": "stream",
     "text": [
      "Start: Cell { a: 33, b: -27, radius: 24, layer: 0 }\n",
      "End: Cell { a: 0, b: -53, radius: 24, layer: 1 }\n"
     ]
    }
   ],
   "source": [
    "let start = graph.get_random_node().unwrap();\n",
    "let end = graph.get_random_node().unwrap();\n",
    "\n",
    "println!(\"Start: {:?}\", start);\n",
    "println!(\"End: {:?}\", end);"
   ]
  },
  {
   "cell_type": "code",
   "execution_count": null,
   "metadata": {
    "vscode": {
     "languageId": "rust"
    }
   },
   "outputs": [],
   "source": [
    "let start = Cell { a: -43, b: 41, radius: 24, layer: 1 };\n",
    "let end = Cell { a: 38, b: -9, radius: 24, layer: 0 };"
   ]
  },
  {
   "cell_type": "code",
   "execution_count": null,
   "metadata": {
    "vscode": {
     "languageId": "rust"
    }
   },
   "outputs": [
    {
     "name": "stdout",
     "output_type": "stream",
     "text": [
      "BFS start: Cell { a: -43, b: 41, radius: 24, layer: 1 }, end: Cell { a: 38, b: -9, radius: 24, layer: 0 }\n",
      "time: 1088 µs\n",
      "distance: None\n",
      "path length: None\n",
      "---\n",
      "AStar start: Cell { a: -43, b: 41, radius: 24, layer: 1 }, end: Cell { a: 38, b: -9, radius: 24, layer: 0 }\n"
     ]
    },
    {
     "name": "stderr",
     "output_type": "stream",
     "text": [
      "no path found\n"
     ]
    }
   ],
   "source": [
    "println!(\"BFS start: {:?}, end: {:?}\", start, end);\n",
    "let now = Instant::now();\n",
    "let (bfs_path, bfs_distance) = graph.bfs(start, Some(end), &None)?;\n",
    "println!(\"time: {:?} µs\", now.elapsed().as_micros());\n",
    "println!(\"distance: {:?}\", bfs_distance[0]);\n",
    "println!(\"path length: {:?}\", bfs_path);\n",
    "\n",
    "println!(\"---\");\n",
    "\n",
    "println!(\"AStar start: {:?}, end: {:?}\", start, end);\n",
    "let now = Instant::now();\n",
    "let astar_result = graph.astar(start, Some(end), &None, None, heuristic)?;\n",
    "println!(\"time: {:?} µs\", now.elapsed().as_micros());\n",
    "println!(\"distance: {:?}\", astar_result.distances.first().unwrap());\n",
    "println!(\"path length: {:?}\", astar_result.path.unwrap().len());"
   ]
  },
  {
   "attachments": {},
   "cell_type": "markdown",
   "metadata": {},
   "source": [
    "## OSM + GTFS H3 Graph"
   ]
  },
  {
   "cell_type": "code",
   "execution_count": 4,
   "metadata": {
    "vscode": {
     "languageId": "rust"
    }
   },
   "outputs": [
    {
     "name": "stdout",
     "output_type": "stream",
     "text": [
      "processing osm pbf file: ../resources/copenhagen-processed.osm.pbf\n",
      "converted OSM file into 490098 edges\n",
      "Graph has 418149 nodes, hash: 14980095458091112916\n"
     ]
    }
   ],
   "source": [
    "let mut osm_g : Graph<H3Cell> = h3_network_from_osm(\"../resources/copenhagen-processed.osm.pbf\", &OSMOptions::default())?;\n",
    "println!(\"Graph has {} nodes, hash: {}\", osm_g.nr_nodes(), osm_g.node_hash());"
   ]
  },
  {
   "cell_type": "code",
   "execution_count": 5,
   "metadata": {
    "vscode": {
     "languageId": "rust"
    }
   },
   "outputs": [
    {
     "name": "stdout",
     "output_type": "stream",
     "text": [
      "getting GTFS feed from ../resources/rejseplanen.zip\n",
      "routes: 1631\n",
      "Graph has 103525 nodes, hash: 11658248065950047293\n"
     ]
    }
   ],
   "source": [
    "let mut gtfs_g : Graph<H3Cell> = h3_network_from_gtfs(\"../resources/rejseplanen.zip\")?;\n",
    "println!(\"Graph has {} nodes, hash: {}\", gtfs_g.nr_nodes(), gtfs_g.node_hash());"
   ]
  },
  {
   "cell_type": "code",
   "execution_count": 6,
   "metadata": {
    "vscode": {
     "languageId": "rust"
    }
   },
   "outputs": [],
   "source": [
    "let edge_weights = gtfs_g.edges.as_ref().read().unwrap().iter().flat_map(|(id, set)| {\n",
    "    set.iter().map(|e| {\n",
    "        let weight = e.weight.unwrap();\n",
    "        (weight * 1000.0) as i64\n",
    "    }).collect::<Vec<i64>>()\n",
    "}).collect::<Vec<i64>>();"
   ]
  },
  {
   "cell_type": "code",
   "execution_count": 7,
   "metadata": {
    "vscode": {
     "languageId": "rust"
    }
   },
   "outputs": [
    {
     "name": "stdout",
     "output_type": "stream",
     "text": [
      "0 edges have weight 0\n"
     ]
    }
   ],
   "source": [
    "let mut count = 0;\n",
    "edge_weights.iter().for_each(|w| {\n",
    "    if w == &0 {\n",
    "        count +=1;\n",
    "    }\n",
    "});\n",
    "println!(\"{} edges have weight 0\", count);"
   ]
  },
  {
   "cell_type": "code",
   "execution_count": null,
   "metadata": {
    "vscode": {
     "languageId": "rust"
    }
   },
   "outputs": [
    {
     "data": {
      "text/plain": [
       "Ok(())"
      ]
     },
     "execution_count": 13,
     "metadata": {},
     "output_type": "execute_result"
    }
   ],
   "source": [
    "osm_g.merge(&mut gtfs_g)"
   ]
  },
  {
   "cell_type": "code",
   "execution_count": null,
   "metadata": {
    "vscode": {
     "languageId": "rust"
    }
   },
   "outputs": [
    {
     "name": "stdout",
     "output_type": "stream",
     "text": [
      "[backtrace] found start node\n"
     ]
    },
    {
     "data": {
      "text/plain": [
       "Ok(AStarResult { path: Some([H3Cell { cell: 15-405461535436777 (8c1f0598d763dff), layer: -1 }, H3Cell { cell: 15-405461535434777 (8c1f0598d7639ff), layer: -1 }, H3Cell { cell: 15-405461535435777 (8c1f0598d763bff), layer: -1 }, H3Cell { cell: 15-405461535435777 (8c1f0598d763bff), layer: -2 }, H3Cell { cell: 15-405461535431777 (8c1f0598d7633ff), layer: -2 }, H3Cell { cell: 15-405461535054777 (8c1f0598d7459ff), layer: -2 }, H3Cell { cell: 15-405461535050777 (8c1f0598d7451ff), layer: -2 }, H3Cell { cell: 15-405461535053777 (8c1f0598d7457ff), layer: -2 }, H3Cell { cell: 15-405461535016777 (8c1f0598d741dff), layer: -2 }, H3Cell { cell: 15-405461535012777 (8c1f0598d7415ff), layer: -2 }, H3Cell { cell: 15-405461535035777 (8c1f0598d743bff), layer: -2 }, H3Cell { cell: 15-405461535031777 (8c1f0598d7433ff), layer: -2 }, H3Cell { cell: 15-405461535354777 (8c1f0598d75d9ff), layer: -2 }, H3Cell { cell: 15-405461535355777 (8c1f0598d75dbff), layer: -2 }, H3Cell { cell: 15-405461535351777 (8c1f0598d75d3ff), layer: -2 }, H3Cell { cell: 15-405461535353777 (8c1f0598d75d7ff), layer: -2 }, H3Cell { cell: 15-405461535305777 (8c1f0598d758bff), layer: -2 }, H3Cell { cell: 15-405461535301777 (8c1f0598d7583ff), layer: -2 }, H3Cell { cell: 15-405461535312777 (8c1f0598d7595ff), layer: -2 }, H3Cell { cell: 15-405461535335777 (8c1f0598d75bbff), layer: -2 }, H3Cell { cell: 15-405461535331777 (8c1f0598d75b3ff), layer: -2 }, H3Cell { cell: 15-405461531654777 (8c1f0598d6759ff), layer: -2 }, H3Cell { cell: 15-405461531650777 (8c1f0598d6751ff), layer: -2 }, H3Cell { cell: 15-405461531653777 (8c1f0598d6757ff), layer: -2 }, H3Cell { cell: 15-405461531605777 (8c1f0598d670bff), layer: -2 }, H3Cell { cell: 15-405461531601777 (8c1f0598d6703ff), layer: -2 }, H3Cell { cell: 15-405461531634777 (8c1f0598d6739ff), layer: -2 }, H3Cell { cell: 15-405461531630777 (8c1f0598d6731ff), layer: -2 }, H3Cell { cell: 15-405461531633777 (8c1f0598d6737ff), layer: -2 }, H3Cell { cell: 15-405461531245777 (8c1f0598d654bff), layer: -2 }, H3Cell { cell: 15-405461531241777 (8c1f0598d6543ff), layer: -2 }, H3Cell { cell: 15-405461531204777 (8c1f0598d6509ff), layer: -2 }, H3Cell { cell: 15-405461531200777 (8c1f0598d6501ff), layer: -2 }, H3Cell { cell: 15-405461531202777 (8c1f0598d6505ff), layer: -2 }, H3Cell { cell: 15-405461531224777 (8c1f0598d6529ff), layer: -2 }, H3Cell { cell: 15-405461531225777 (8c1f0598d652bff), layer: -2 }, H3Cell { cell: 15-405461531221777 (8c1f0598d6523ff), layer: -2 }, H3Cell { cell: 15-405461533544777 (8c1f0598d6ec9ff), layer: -2 }, H3Cell { cell: 15-405461533545777 (8c1f0598d6ecbff), layer: -2 }, H3Cell { cell: 15-405461533541777 (8c1f0598d6ec3ff), layer: -2 }, H3Cell { cell: 15-405461533504777 (8c1f0598d6e89ff), layer: -2 }, H3Cell { cell: 15-405461533505777 (8c1f0598d6e8bff), layer: -2 }, H3Cell { cell: 15-405461533501777 (8c1f0598d6e83ff), layer: -2 }, H3Cell { cell: 15-405461533534777 (8c1f0598d6eb9ff), layer: -2 }, H3Cell { cell: 15-405461533530777 (8c1f0598d6eb1ff), layer: -2 }, H3Cell { cell: 15-405461533535777 (8c1f0598d6ebbff), layer: -2 }, H3Cell { cell: 15-405461146666777 (8c1f059899b6dff), layer: -2 }, H3Cell { cell: 15-405461146662777 (8c1f059899b65ff), layer: -2 }, H3Cell { cell: 15-405461533155777 (8c1f0598d6cdbff), layer: -2 }, H3Cell { cell: 15-405461533151777 (8c1f0598d6cd3ff), layer: -2 }, H3Cell { cell: 15-405461533114777 (8c1f0598d6c99ff), layer: -2 }, H3Cell { cell: 15-405461533110777 (8c1f0598d6c91ff), layer: -2 }, H3Cell { cell: 15-405461533113777 (8c1f0598d6c97ff), layer: -2 }, H3Cell { cell: 15-405461146264777 (8c1f059899969ff), layer: -2 }, H3Cell { cell: 15-405461146260777 (8c1f059899961ff), layer: -2 }, H3Cell { cell: 15-405461146263777 (8c1f059899967ff), layer: -2 }, H3Cell { cell: 15-405461146226777 (8c1f05989992dff), layer: -2 }, H3Cell { cell: 15-405461146222777 (8c1f059899925ff), layer: -2 }, H3Cell { cell: 15-405461146223777 (8c1f059899927ff), layer: -2 }, H3Cell { cell: 15-405461165546777 (8c1f05989d6cdff), layer: -2 }, H3Cell { cell: 15-405461165542777 (8c1f05989d6c5ff), layer: -2 }, H3Cell { cell: 15-405461165543777 (8c1f05989d6c7ff), layer: -2 }, H3Cell { cell: 15-405461165506777 (8c1f05989d68dff), layer: -2 }, H3Cell { cell: 15-405461165504777 (8c1f05989d689ff), layer: -2 }, H3Cell { cell: 15-405461165505777 (8c1f05989d68bff), layer: -2 }, H3Cell { cell: 15-405461165553777 (8c1f05989d6d7ff), layer: -2 }, H3Cell { cell: 15-405461165514777 (8c1f05989d699ff), layer: -2 }, H3Cell { cell: 15-405461146322777 (8c1f0598999a5ff), layer: -2 }, H3Cell { cell: 15-405461165515777 (8c1f05989d69bff), layer: -2 }, H3Cell { cell: 15-405461165511777 (8c1f05989d693ff), layer: -2 }, H3Cell { cell: 15-405461142664777 (8c1f059898b69ff), layer: -2 }, H3Cell { cell: 15-405461142660777 (8c1f059898b61ff), layer: -2 }, H3Cell { cell: 15-405461142661777 (8c1f059898b63ff), layer: -2 }, H3Cell { cell: 15-405461142624777 (8c1f059898b29ff), layer: -2 }, H3Cell { cell: 15-405461142620777 (8c1f059898b21ff), layer: -2 }, H3Cell { cell: 15-405461142621777 (8c1f059898b23ff), layer: -2 }, H3Cell { cell: 15-405461142244777 (8c1f059898949ff), layer: -2 }, H3Cell { cell: 15-405461142240777 (8c1f059898941ff), layer: -2 }, H3Cell { cell: 15-405461142243777 (8c1f059898947ff), layer: -2 }, H3Cell { cell: 15-405461142204777 (8c1f059898909ff), layer: -2 }, H3Cell { cell: 15-405461142200777 (8c1f059898901ff), layer: -2 }, H3Cell { cell: 15-405461142201777 (8c1f059898903ff), layer: -2 }, H3Cell { cell: 15-405461142234777 (8c1f059898939ff), layer: -2 }, H3Cell { cell: 15-405461142235777 (8c1f05989893bff), layer: -2 }, H3Cell { cell: 15-405461142231777 (8c1f059898933ff), layer: -2 }, H3Cell { cell: 15-405461161554777 (8c1f05989c6d9ff), layer: -2 }, H3Cell { cell: 15-405461161555777 (8c1f05989c6dbff), layer: -2 }, H3Cell { cell: 15-405461161551777 (8c1f05989c6d3ff), layer: -2 }, H3Cell { cell: 15-405461161514777 (8c1f05989c699ff), layer: -2 }, H3Cell { cell: 15-405461161515777 (8c1f05989c69bff), layer: -2 }, H3Cell { cell: 15-405461161511777 (8c1f05989c693ff), layer: -2 }, H3Cell { cell: 15-405461104642777 (8c1f059891345ff), layer: -2 }, H3Cell { cell: 15-405461104665777 (8c1f05989136bff), layer: -2 }, H3Cell { cell: 15-405461104661777 (8c1f059891363ff), layer: -2 }, H3Cell { cell: 15-405461104624777 (8c1f059891329ff), layer: -2 }, H3Cell { cell: 15-405461104625777 (8c1f05989132bff), layer: -2 }, H3Cell { cell: 15-405461104621777 (8c1f059891323ff), layer: -2 }, H3Cell { cell: 15-405461104632777 (8c1f059891335ff), layer: -2 }, H3Cell { cell: 15-405461104245777 (8c1f05989114bff), layer: -2 }, H3Cell { cell: 15-405461104241777 (8c1f059891143ff), layer: -2 }, H3Cell { cell: 15-405461104252777 (8c1f059891155ff), layer: -2 }, H3Cell { cell: 15-405461104205777 (8c1f05989110bff), layer: -2 }, H3Cell { cell: 15-405461104216777 (8c1f05989111dff), layer: -2 }, H3Cell { cell: 15-405461104212777 (8c1f059891115ff), layer: -2 }, H3Cell { cell: 15-405461104213777 (8c1f059891117ff), layer: -2 }, H3Cell { cell: 15-405461104366777 (8c1f0598911edff), layer: -2 }, H3Cell { cell: 15-405461104362777 (8c1f0598911e5ff), layer: -2 }, H3Cell { cell: 15-405461106555777 (8c1f059891adbff), layer: -2 }, H3Cell { cell: 15-405461104326777 (8c1f0598911adff), layer: -2 }, H3Cell { cell: 15-405461104322777 (8c1f0598911a5ff), layer: -2 }, H3Cell { cell: 15-405461104323777 (8c1f0598911a7ff), layer: -2 }, H3Cell { cell: 15-405461100646777 (8c1f05989034dff), layer: -2 }, H3Cell { cell: 15-405461100640777 (8c1f059890341ff), layer: -2 }, H3Cell { cell: 15-405461100643777 (8c1f059890347ff), layer: -2 }, H3Cell { cell: 15-405461100604777 (8c1f059890309ff), layer: -2 }, H3Cell { cell: 15-405461100600777 (8c1f059890301ff), layer: -2 }, H3Cell { cell: 15-405461100603777 (8c1f059890307ff), layer: -2 }, H3Cell { cell: 15-405461100634777 (8c1f059890339ff), layer: -2 }, H3Cell { cell: 15-405461100630777 (8c1f059890331ff), layer: -2 }, H3Cell { cell: 15-405461100631777 (8c1f059890333ff), layer: -2 }, H3Cell { cell: 15-405461100254777 (8c1f059890159ff), layer: -2 }, H3Cell { cell: 15-405461100255777 (8c1f05989015bff), layer: -2 }, H3Cell { cell: 15-405461100251777 (8c1f059890153ff), layer: -2 }, H3Cell { cell: 15-405461100022777 (8c1f059890025ff), layer: -2 }, H3Cell { cell: 15-405461100215777 (8c1f05989011bff), layer: -2 }, H3Cell { cell: 15-405461100211777 (8c1f059890113ff), layer: -2 }, H3Cell { cell: 15-405461100342777 (8c1f0598901c5ff), layer: -2 }, H3Cell { cell: 15-405461100365777 (8c1f0598901ebff), layer: -2 }, H3Cell { cell: 15-405461100361777 (8c1f0598901e3ff), layer: -2 }, H3Cell { cell: 15-405461100302777 (8c1f059890185ff), layer: -2 }, H3Cell { cell: 15-405461100325777 (8c1f0598901abff), layer: -2 }, H3Cell { cell: 15-405461100336777 (8c1f0598901bdff), layer: -2 }, H3Cell { cell: 15-405461100336777 (8c1f0598901bdff), layer: -1 }, H3Cell { cell: 15-405461100334777 (8c1f0598901b9ff), layer: -1 }, H3Cell { cell: 15-405461100301777 (8c1f059890183ff), layer: -1 }]), single_target: true, distances: [6.9120152613999775] })"
      ]
     },
     "execution_count": 30,
     "metadata": {},
     "output_type": "execute_result"
    }
   ],
   "source": [
    "//631051737789436415, 631049684202690047, 631049684202697215\n",
    "\n",
    "let start = H3Cell {\n",
    "    cell: 0x8c1f0598d763dff.try_into().unwrap(),\n",
    "    layer: -1,\n",
    "};\n",
    "\n",
    "let end = H3Cell {\n",
    "    cell: 0x8c1f059890183ff.try_into().unwrap(),\n",
    "    layer: -1,\n",
    "};\n",
    "\n",
    "fn h(start_cell: &H3Cell, end_cell: &H3Cell) -> f64 {\n",
    "    start_cell\n",
    "        .cell\n",
    "        .grid_distance(end_cell.cell)\n",
    "        .unwrap_or(i32::MAX) as f64\n",
    "}\n",
    "\n",
    "osm_g.astar(start, Some(end), &None, None, h)"
   ]
  },
  {
   "cell_type": "code",
   "execution_count": null,
   "metadata": {
    "vscode": {
     "languageId": "rust"
    }
   },
   "outputs": [],
   "source": [
    "let a = H3Cell {\n",
    "    cell: 0x8c1f0582686e5ff.try_into().unwrap(),\n",
    "    layer: -1,\n",
    "};\n",
    "\n",
    "let b = H3Cell {\n",
    "    cell: 0x8c1f0582686edff.try_into().unwrap(),\n",
    "    layer: -1,\n",
    "};\n",
    "\n",
    "let c = H3Cell {\n",
    "    cell: 0x8c1f05902b4d1ff.try_into().unwrap(),\n",
    "    layer: -1,\n",
    "};"
   ]
  },
  {
   "cell_type": "code",
   "execution_count": null,
   "metadata": {
    "vscode": {
     "languageId": "rust"
    }
   },
   "outputs": [
    {
     "name": "stdout",
     "output_type": "stream",
     "text": [
      "{\n",
      "    H3Cell {\n",
      "        cell: 15-405461100301777 (8c1f059890183ff),\n",
      "        layer: -1,\n",
      "    }: Ok(\n",
      "        [\n",
      "            62.60832291157254,\n",
      "            0.0,\n",
      "        ],\n",
      "    ),\n",
      "    H3Cell {\n",
      "        cell: 15-405461535436777 (8c1f0598d763dff),\n",
      "        layer: -1,\n",
      "    }: Ok(\n",
      "        [\n",
      "            60.23964679723234,\n",
      "            6.9120152613999775,\n",
      "        ],\n",
      "    ),\n",
      "}\n"
     ]
    }
   ],
   "source": [
    "let origins = vec![start, end];\n",
    "let destinations = vec![a, b, c, end];\n",
    "\n",
    "let res = osm_g.matrix_astar_distance(origins, Some(destinations), true, None, h);\n",
    "\n",
    "println!(\"{:#?}\", res);"
   ]
  },
  {
   "cell_type": "code",
   "execution_count": null,
   "metadata": {
    "vscode": {
     "languageId": "rust"
    }
   },
   "outputs": [
    {
     "data": {
      "text/plain": [
       "Some(459416)"
      ]
     },
     "execution_count": 175,
     "metadata": {},
     "output_type": "execute_result"
    }
   ],
   "source": [
    "osm_g.node_map.as_ref().read().unwrap().get_by_left(&start)"
   ]
  },
  {
   "cell_type": "code",
   "execution_count": null,
   "metadata": {
    "vscode": {
     "languageId": "rust"
    }
   },
   "outputs": [],
   "source": [
    "// osm_g.edges.as_ref().read().unwrap().get(&439124)"
   ]
  }
 ],
 "metadata": {
  "kernelspec": {
   "display_name": "Rust",
   "language": "rust",
   "name": "rust"
  },
  "language_info": {
   "codemirror_mode": "rust",
   "file_extension": ".rs",
   "mimetype": "text/rust",
   "name": "Rust",
   "pygment_lexer": "rust",
   "version": ""
  },
  "vscode": {
   "interpreter": {
    "hash": "eb4a0ac80907d7f44e1a5e88d3d3381b33e3dbedd3a24d113e876f30a0c46bee"
   }
  }
 },
 "nbformat": 4,
 "nbformat_minor": 2
}
