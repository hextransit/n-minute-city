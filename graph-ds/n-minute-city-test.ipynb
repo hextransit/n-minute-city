{
 "cells": [
  {
   "cell_type": "code",
   "execution_count": null,
   "metadata": {},
   "outputs": [],
   "source": [
    ":dep graph-ds = { path = \".\" , default-features = false}\n"
   ]
  },
  {
   "cell_type": "code",
   "execution_count": null,
   "metadata": {},
   "outputs": [],
   "source": [
    "use graph_ds::{Graph, Node, Edge, AStarResult};\n",
    "use graph_ds::hexagon_graph::{cell_graph_from_mpk, h3_network_from_osm, h3_network_from_gtfs, h3cell::H3Cell, osm::OSMLayer, OSMOptions};\n",
    "\n",
    "use std::time::Instant;\n",
    "use std::sync::{Arc, RwLock, RwLockWriteGuard};\n",
    "use std::collections::BTreeSet;\n",
    "use std::collections::hash_map::DefaultHasher;\n",
    "use std::hash::{Hash, Hasher};\n",
    "\n",
    "use std::convert::TryInto;"
   ]
  },
  {
   "cell_type": "code",
   "execution_count": null,
   "metadata": {},
   "outputs": [],
   "source": [
    "let start = Instant::now();\n",
    "let (mut gtfs_graph, _) = h3_network_from_gtfs(\"../resources/rejseplanen.zip\", 0).unwrap();\n",
    "println!(\"gtfs graph created with {} nodes in {} s\", gtfs_graph.nr_nodes(), start.elapsed().as_secs());"
   ]
  },
  {
   "cell_type": "code",
   "execution_count": null,
   "metadata": {},
   "outputs": [],
   "source": [
    "let edge_access = gtfs_graph.edges.as_ref().read().unwrap();"
   ]
  },
  {
   "cell_type": "code",
   "execution_count": null,
   "metadata": {},
   "outputs": [],
   "source": [
    "// let (WIDTH, HEIGHT) = (1024, 1024);\n",
    "\n",
    "// evcxr_figure((WIDTH, HEIGHT), |root| {\n",
    "//     let mut chart = ChartBuilder::on(&root)\n",
    "//         .margin(10)\n",
    "//         .x_label_area_size(0)\n",
    "//         .y_label_area_size(0)\n",
    "//         .build_cartesian_3d(53.0_f32 .. 57.0_f32, 10.0_f32 .. 14.0_f32, -2.0_f32 .. 2.0_f32)?;\n",
    "\n",
    "//     chart.with_projection(|mut pb| {\n",
    "//         pb.pitch = 0.2;\n",
    "//         pb.yaw = 0.2;\n",
    "//         pb.scale = 1.0;\n",
    "//         pb.into_matrix()\n",
    "//     });\t\n",
    "        \n",
    "//     chart.draw_series(\n",
    "//         plot_data.into_iter().map(|data| {\n",
    "//             PathElement::new(vec![data.0, data.1], RED.mix(0.5))\n",
    "//         })\n",
    "//     )?;\n",
    "\n",
    "//     Ok(())\n",
    "// })"
   ]
  },
  {
   "cell_type": "code",
   "execution_count": null,
   "metadata": {},
   "outputs": [],
   "source": [
    "fn plot_png(plot_data: Vec<((f32, f32, f32), (f32, f32, f32))>) -> Result<(), Box<dyn std::error::Error>> {\n",
    "    println!(\"plotting {} edges, e.g. {:?}\", plot_data.len(), plot_data.get(0));\n",
    "\n",
    "    let root = plotters::backend::BitMapBackend::new(\"test.png\", (1024, 1024)).into_drawing_area();\n",
    "\n",
    "    let mut chart = ChartBuilder::on(&root)\n",
    "        .margin(10)\n",
    "        .x_label_area_size(0)\n",
    "        .y_label_area_size(0)\n",
    "        .build_cartesian_3d(53.0_f32 .. 57.0_f32, 10.0_f32 .. 14.0_f32, -2.0_f32 .. 2.0_f32)?;\n",
    "\n",
    "    chart.with_projection(|mut pb| {\n",
    "        pb.pitch = 0.2;\n",
    "        pb.yaw = 0.2;\n",
    "        pb.scale = 1.0;\n",
    "        pb.into_matrix()\n",
    "    });\t\n",
    "        \n",
    "    chart.draw_series(\n",
    "        plot_data.into_iter().map(|data| {\n",
    "            PathElement::new(vec![data.0, data.1], RED.mix(0.5))\n",
    "        })\n",
    "    )?;\n",
    "\n",
    "    root.present()?;\n",
    "    Ok(())\n",
    "}\n",
    "\n",
    "plot_png(osm_graph.get_plot_data().unwrap())"
   ]
  }
 ],
 "metadata": {
  "kernelspec": {
   "display_name": "Rust",
   "language": "rust",
   "name": "rust"
  },
  "language_info": {
   "codemirror_mode": "rust",
   "file_extension": ".rs",
   "mimetype": "text/rust",
   "name": "rust",
   "pygment_lexer": "rust",
   "version": ""
  },
  "orig_nbformat": 4,
  "vscode": {
   "interpreter": {
    "hash": "84efe682a9c7a677c13e49d79318649eea9987d332490f7f0bf61f8b60d3a092"
   }
  }
 },
 "nbformat": 4,
 "nbformat_minor": 2
}
