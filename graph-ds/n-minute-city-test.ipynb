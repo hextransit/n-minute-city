{
 "cells": [
  {
   "cell_type": "code",
   "execution_count": null,
   "metadata": {},
   "outputs": [],
   "source": [
    ":dep graph-ds = { path = \".\" }\n",
    ":dep h3o = \"0.3.0\"\n",
    ":dep plotters = { version = \"^0.3.0\", default_features = false, features = [\"evcxr\", \"all_series\", \"histogram\"] }"
   ]
  },
  {
   "cell_type": "code",
   "execution_count": null,
   "metadata": {},
   "outputs": [],
   "source": [
    "use graph_ds::{Graph, Node, Edge};\n",
    "use graph_ds::hexagon_graph::{h3_network_from_gtfs, h3_network_from_osm, osm::OSMLayer};\n",
    "use h3o::Resolution;\n",
    "use std::time::Instant;\n",
    "\n",
    "extern crate plotters;\n",
    "use plotters::prelude::*;\n"
   ]
  },
  {
   "cell_type": "code",
   "execution_count": null,
   "metadata": {},
   "outputs": [],
   "source": [
    "let start = Instant::now();\n",
    "let mut osm_graph = h3_network_from_osm(\"../resources/copenhagen-with-ways.osm.pbf\", OSMLayer::Walking).unwrap();\n",
    "println!(\"osm graph created with {} nodes in {} s\", osm_graph.nr_nodes(), start.elapsed().as_secs());\n",
    "\n",
    "// let start = Instant::now();\n",
    "// let mut gtfs_graph = h3_network_from_gtfs(\"../resources/rejseplanen.zip\").unwrap();\n",
    "// println!(\"gtfs graph created with {} nodes in {} s\", gtfs_graph.nr_nodes(), start.elapsed().as_secs());\n",
    "\n",
    "// let start = Instant::now();\n",
    "// osm_graph.merge(&mut gtfs_graph)?;\n",
    "\n",
    "// println!(\"merged graph created with {} nodes in {} s\", osm_graph.nr_nodes(), start.elapsed().as_secs());"
   ]
  },
  {
   "cell_type": "code",
   "execution_count": null,
   "metadata": {},
   "outputs": [],
   "source": [
    "let (WIDTH, HEIGHT) = (1024, 1024);\n",
    "let plot_data = osm_graph.get_plot_data().unwrap();\n",
    "\n",
    "println!(\"plotting {} edges, e.g. {:?}\", plot_data.len(), plot_data.get(0));\n",
    "\n",
    "evcxr_figure((WIDTH, HEIGHT), |root| {\n",
    "    let mut chart = ChartBuilder::on(&root)\n",
    "        .margin(10)\n",
    "        .x_label_area_size(0)\n",
    "        .y_label_area_size(0)\n",
    "        .build_cartesian_3d(53.0_f32 .. 57.0_f32, 10.0_f32 .. 14.0_f32, -2.0_f32 .. 2.0_f32)?;\n",
    "\n",
    "    chart.with_projection(|mut pb| {\n",
    "        pb.pitch = 0.2;\n",
    "        pb.yaw = 0.2;\n",
    "        pb.scale = 1.0;\n",
    "        pb.into_matrix()\n",
    "    });\t\n",
    "        \n",
    "    chart.draw_series(\n",
    "        plot_data.into_iter().map(|data| {\n",
    "            PathElement::new(vec![data.0, data.1], RED.mix(0.5))\n",
    "        })\n",
    "    )?;\n",
    "\n",
    "    Ok(())\n",
    "})"
   ]
  }
 ],
 "metadata": {
  "kernelspec": {
   "display_name": "Rust",
   "language": "rust",
   "name": "rust"
  },
  "language_info": {
   "codemirror_mode": "rust",
   "file_extension": ".rs",
   "mimetype": "text/rust",
   "name": "rust",
   "pygment_lexer": "rust",
   "version": ""
  },
  "orig_nbformat": 4
 },
 "nbformat": 4,
 "nbformat_minor": 2
}
