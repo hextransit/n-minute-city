{
 "cells": [
  {
   "cell_type": "code",
   "execution_count": 1,
   "metadata": {},
   "outputs": [],
   "source": [
    "from graph_ds import PyH3Graph\n",
    "import h3.api.numpy_int as h3"
   ]
  },
  {
   "cell_type": "code",
   "execution_count": 3,
   "metadata": {},
   "outputs": [
    {
     "name": "stdout",
     "output_type": "stream",
     "text": [
      "processing osm pbf file: ../resources/copenhagen-processed.osm.pbf\n",
      "converted OSM file into 490098 edges\n",
      "osm graph created with (418149) nodes (walk + bike) in 2 s\n",
      "getting GTFS feed from ../resources/rejseplanen.zip\n",
      "routes: 1631\n",
      "gtfs graph created with 103525 nodes in 9 s\n",
      "merged graph created with 519554 nodes in 0 s\n",
      "hash: 8759942521107932551\n"
     ]
    }
   ],
   "source": [
    "graph = PyH3Graph(bike_penalty=1.0, k_ring=2)\n",
    "graph.create(osm_path=\"../resources/copenhagen-processed.osm.pbf\", gtfs_path=\"../resources/rejseplanen.zip\")"
   ]
  },
  {
   "cell_type": "code",
   "execution_count": 5,
   "metadata": {},
   "outputs": [
    {
     "name": "stdout",
     "output_type": "stream",
     "text": [
      "matrix distance computed for 4 origins - got 3 results\n"
     ]
    },
    {
     "data": {
      "text/plain": [
       "{631049690224672255: [], 631049690224671743: [], 631049690149913599: []}"
      ]
     },
     "execution_count": 5,
     "metadata": {},
     "output_type": "execute_result"
    }
   ],
   "source": [
    "graph.matrix_distance(origins=[631049690183383551, 631049690224672255, 631049690224671743, 631049690149913599], destinations=[631051737789436415, 631049684202690047, 631049684202697215], hour_of_week=None)"
   ]
  },
  {
   "cell_type": "code",
   "execution_count": null,
   "metadata": {},
   "outputs": [],
   "source": [
    "df = pd.DataFrame(h3.h3_to_geo_boundary(631049683980609535))\n",
    "df.head()"
   ]
  },
  {
   "cell_type": "code",
   "execution_count": null,
   "metadata": {},
   "outputs": [],
   "source": [
    "ggplot(data=df) + geom_livemap() + geom_point(aes(y='0', x='1'))"
   ]
  },
  {
   "cell_type": "code",
   "execution_count": null,
   "metadata": {},
   "outputs": [],
   "source": [
    "df = pd.DataFrame(h3.h3_to_geo_boundary(631049683980609535))\n",
    "df.head()"
   ]
  },
  {
   "cell_type": "code",
   "execution_count": null,
   "metadata": {},
   "outputs": [],
   "source": [
    "ggplot(data=df) + geom_livemap() + geom_point(aes(y='0', x='1'))"
   ]
  },
  {
   "cell_type": "code",
   "execution_count": null,
   "metadata": {},
   "outputs": [],
   "source": [
    "df = pd.DataFrame(h3.h3_to_geo_boundary(631049683980609535))\n",
    "df.head()"
   ]
  },
  {
   "cell_type": "code",
   "execution_count": null,
   "metadata": {},
   "outputs": [],
   "source": [
    "ggplot(data=df) + geom_livemap() + geom_point(aes(y='0', x='1'))"
   ]
  },
  {
   "cell_type": "code",
   "execution_count": 40,
   "metadata": {},
   "outputs": [],
   "source": [
    "origins = [631049690183383551, 631049690224672255, 631049690224671743, 631049690149913599, 631049690149925887, 631049687858374143]\n",
    "destinations = [631049690149913599, 631049690149915135, 631049690149830143, 631049690183383551, 631049690224658431]\n",
    "dist_result = graph.matrix_distance(origins, destinations, None)"
   ]
  },
  {
   "cell_type": "code",
   "execution_count": 41,
   "metadata": {},
   "outputs": [],
   "source": [
    "origins = [631049690183383551, 631049690224672255, 631049690224671743, 631049690149913599, 631049690149925887, 631049687858374143]\n",
    "destinations = [631049690149913599, 631049690149915135, 631049690149830143, 631049690183383551, 631049690224658431]\n",
    "dist_result = graph.matrix_distance(origins, destinations, None)"
   ]
  },
  {
   "cell_type": "code",
   "execution_count": 6,
   "metadata": {},
   "outputs": [
    {
     "data": {
      "text/plain": [
       "{631049690149925887: [1.0088063797500002,\n",
       "  0.56044798875,\n",
       "  0.33626879325000003,\n",
       "  6.457517970449979],\n",
       " 631049690224671743: [5.996705179699982,\n",
       "  5.548346788699983,\n",
       "  5.687836065899982,\n",
       "  0.6725375865000001],\n",
       " 631049687858374143: [72.29701125113456,\n",
       "  71.84865286013456,\n",
       "  71.98814213733459,\n",
       "  67.97284365793371],\n",
       " 631049690149913599: [0.6725375865000001, 0.2241791955, 0.0, 6.36037365239998],\n",
       " 631049690224672255: [6.220884375199981,\n",
       "  5.772525984199982,\n",
       "  5.912015261399981,\n",
       "  0.448358391]}"
      ]
     },
     "execution_count": 6,
     "metadata": {},
     "output_type": "execute_result"
    }
   ],
   "source": [
    "dist_result"
   ]
  }
 ],
 "metadata": {
  "kernelspec": {
   "display_name": "Python 3",
   "language": "python",
   "name": "python3"
  },
  "language_info": {
   "codemirror_mode": {
    "name": "ipython",
    "version": 3
   },
   "file_extension": ".py",
   "mimetype": "text/x-python",
   "name": "python",
   "nbconvert_exporter": "python",
   "pygments_lexer": "ipython3",
   "version": "3.10.9"
  },
  "orig_nbformat": 4,
  "vscode": {
   "interpreter": {
    "hash": "84efe682a9c7a677c13e49d79318649eea9987d332490f7f0bf61f8b60d3a092"
   }
  }
 },
 "nbformat": 4,
 "nbformat_minor": 2
}
