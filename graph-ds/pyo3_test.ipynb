{
 "cells": [
  {
   "cell_type": "code",
   "execution_count": null,
   "metadata": {},
   "outputs": [],
   "source": [
    "a = [631049684469527039,\n",
    " 631049684453991423,\n",
    " 631049683592856575,\n",
    " 631049684073409023,\n",
    " 631049683881976831,\n",
    " 631049684440614399,\n",
    " 631049684471548415,\n",
    " 631049690135685119,\n",
    " 631049688255208447,\n",
    " 631049688273510911]\n",
    "b = [631049690212733440,\n",
    " 631049683843847680,\n",
    " 631049688172897280,\n",
    " 631049690744939520,\n",
    " 631049690488545792,\n",
    " 631049684423594496,\n",
    " 631049690744916480,\n",
    " 631049683843849728,\n",
    " 631049688172731392,\n",
    " 631049683628218880]\n",
    "\n",
    "\n",
    "graph.matrix_distance(a, a, None)"
   ]
  },
  {
   "cell_type": "code",
   "execution_count": null,
   "metadata": {},
   "outputs": [],
   "source": [
    "from graph_ds import PyH3Graph\n",
    "import h3.api.numpy_int as h3\n",
    "\n",
    "from lets_plot import *\n",
    "LetsPlot.setup_html()\n",
    "\n",
    "import pandas as pd"
   ]
  },
  {
   "cell_type": "code",
   "execution_count": null,
   "metadata": {},
   "outputs": [],
   "source": [
    "h3.h3_is_valid(631049687858374143)"
   ]
  },
  {
   "cell_type": "code",
   "execution_count": null,
   "metadata": {},
   "outputs": [],
   "source": [
    "graph = PyH3Graph()\n",
    "graph.create(osm_path=\"../resources/denmark-processed.osm.pbf\", gtfs_path=\"../resources/rejseplanen.zip\")"
   ]
  },
  {
   "cell_type": "code",
   "execution_count": null,
   "metadata": {},
   "outputs": [],
   "source": [
    "graph.nr_nodes()"
   ]
  },
  {
   "cell_type": "code",
   "execution_count": null,
   "metadata": {},
   "outputs": [],
   "source": [
    "graph.astar_path(631049683980609535, 631049690212733440)"
   ]
  },
  {
   "cell_type": "code",
   "execution_count": null,
   "metadata": {},
   "outputs": [],
   "source": [
    "df = pd.DataFrame(h3.h3_to_geo_boundary(631049683980609535))\n",
    "df.head()"
   ]
  },
  {
   "cell_type": "code",
   "execution_count": null,
   "metadata": {},
   "outputs": [],
   "source": [
    "ggplot(data=df) + geom_livemap() + geom_point(aes(y='0', x='1'))"
   ]
  },
  {
   "cell_type": "code",
   "execution_count": null,
   "metadata": {},
   "outputs": [],
   "source": [
    "df = pd.DataFrame(h3.h3_to_geo_boundary(631049683980609535))\n",
    "df.head()"
   ]
  },
  {
   "cell_type": "code",
   "execution_count": null,
   "metadata": {},
   "outputs": [],
   "source": [
    "ggplot(data=df) + geom_livemap() + geom_point(aes(y='0', x='1'))"
   ]
  },
  {
   "cell_type": "code",
   "execution_count": null,
   "metadata": {},
   "outputs": [],
   "source": [
    "df = pd.DataFrame(h3.h3_to_geo_boundary(631049683980609535))\n",
    "df.head()"
   ]
  },
  {
   "cell_type": "code",
   "execution_count": null,
   "metadata": {},
   "outputs": [],
   "source": [
    "ggplot(data=df) + geom_livemap() + geom_point(aes(y='0', x='1'))"
   ]
  },
  {
   "cell_type": "code",
   "execution_count": 40,
   "metadata": {},
   "outputs": [],
   "source": [
    "origins = [631049690183383551, 631049690224672255, 631049690224671743, 631049690149913599, 631049690149925887, 631049687858374143]\n",
    "destinations = [631049690149913599, 631049690149915135, 631049690149830143, 631049690183383551, 631049690224658431]\n",
    "dist_result = graph.matrix_distance(origins, destinations, None)"
   ]
  },
  {
   "cell_type": "code",
   "execution_count": 41,
   "metadata": {},
   "outputs": [
    {
     "data": {
      "text/plain": [
       "{631049690224671743: [5.687836065899982,\n",
       "  11.03691245859996,\n",
       "  0.8967167820000002,\n",
       "  5.996705179699982,\n",
       "  5.548346788699983],\n",
       " 631049690149913599: [0.0,\n",
       "  8.011827059249969,\n",
       "  6.58455284789998,\n",
       "  0.6725375865000001,\n",
       "  0.2241791955],\n",
       " 631049690149925887: [0.33626879325000003,\n",
       "  7.829992822899969,\n",
       "  6.681697165949979,\n",
       "  1.0088063797500002,\n",
       "  0.56044798875],\n",
       " 631049690183383551: [8.011827059249969,\n",
       "  0.0,\n",
       "  11.933629240599956,\n",
       "  8.529930088849968,\n",
       "  8.081571697849968],\n",
       " 631049687858374143: [51.763780181299765,\n",
       "  57.11285657399974,\n",
       "  47.96020649764979,\n",
       "  52.072649295099765,\n",
       "  51.624290904099766],\n",
       " 631049690224672255: [5.912015261399981,\n",
       "  11.261091654099959,\n",
       "  0.6725375865000001,\n",
       "  6.220884375199981,\n",
       "  5.772525984199982]}"
      ]
     },
     "execution_count": 41,
     "metadata": {},
     "output_type": "execute_result"
    }
   ],
   "source": [
    "dist_result"
   ]
  }
 ],
 "metadata": {
  "kernelspec": {
   "display_name": "Python 3",
   "language": "python",
   "name": "python3"
  },
  "language_info": {
   "codemirror_mode": {
    "name": "ipython",
    "version": 3
   },
   "file_extension": ".py",
   "mimetype": "text/x-python",
   "name": "python",
   "nbconvert_exporter": "python",
   "pygments_lexer": "ipython3",
   "version": "3.10.9"
  },
  "orig_nbformat": 4,
  "vscode": {
   "interpreter": {
    "hash": "84efe682a9c7a677c13e49d79318649eea9987d332490f7f0bf61f8b60d3a092"
   }
  }
 },
 "nbformat": 4,
 "nbformat_minor": 2
}
