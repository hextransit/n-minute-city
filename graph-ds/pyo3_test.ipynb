{
 "cells": [
  {
   "cell_type": "code",
   "execution_count": 1,
   "metadata": {},
   "outputs": [],
   "source": [
    "from graph_ds import PyH3Graph\n",
    "import h3.api.numpy_int as h3"
   ]
  },
  {
   "cell_type": "code",
   "execution_count": 2,
   "metadata": {},
   "outputs": [
    {
     "name": "stdout",
     "output_type": "stream",
     "text": [
      "processing osm pbf file: ../resources/copenhagen/copenhagen-processed.osm.pbf\n",
      "converted OSM file into 490098 edges\n",
      "osm graph created with 418149 nodes in 2.2872908 s\n",
      "getting GTFS feed from ../resources/copenhagen/rejseplanen.zip\n",
      "routes: 1631\n",
      "gtfs graph created with 103525 nodes in 10.261178 s\n",
      "merged gtfs graph into osm graph, now has 519554 nodes, took 180 ms\n",
      "hash: 8759942521107932551\n"
     ]
    }
   ],
   "source": [
    "graph = PyH3Graph(weight_options={}, k_ring=2, layers=\"all\")\n",
    "graph.create(osm_path=\"../resources/copenhagen/copenhagen-processed.osm.pbf\", gtfs_paths=[\"../resources/copenhagen/rejseplanen.zip\"])"
   ]
  },
  {
   "cell_type": "code",
   "execution_count": 5,
   "metadata": {},
   "outputs": [
    {
     "name": "stdout",
     "output_type": "stream",
     "text": [
      "processing osm pbf file: ../resources/copenhagen/copenhagen-processed.osm.pbf\n",
      "converted OSM file into 490098 edges\n",
      "osm graph created with 418149 nodes in 2.0844584 s\n",
      "getting GTFS feed from ../resources/copenhagen/rejseplanen.zip\n",
      "routes: 1631\n",
      "gtfs graph created with 103525 nodes in 9.477737 s\n",
      "merged gtfs graph into osm graph, now has 519554 nodes, took 157 ms\n",
      "hash: 8759942521107932551\n"
     ]
    }
   ],
   "source": [
    "graph = PyH3Graph(weight_options=dict({\n",
    "    \"bike_penalty\": 1.0,\n",
    "    \"wait_time_multiplier\": 1.0,\n",
    "    \"walk_speed\": 1.4,\n",
    "    \"bike_speed\": 4.5\n",
    "}), k_ring=2, layers=\"all\")\n",
    "graph.create(osm_path=\"../resources/copenhagen/copenhagen-processed.osm.pbf\", gtfs_paths=[\"../resources/copenhagen/rejseplanen.zip\"])"
   ]
  },
  {
   "cell_type": "code",
   "execution_count": 6,
   "metadata": {},
   "outputs": [
    {
     "data": {
      "text/plain": [
       "{631049690224672255: [None, None, None],\n",
       " 631049690224671743: [None, None, None],\n",
       " 631049690149913599: [None, None, None]}"
      ]
     },
     "execution_count": 6,
     "metadata": {},
     "output_type": "execute_result"
    }
   ],
   "source": [
    "graph.matrix_distance(\n",
    "    origins=[631049690183383551, 631049690224672255, 631049690224671743, 631049690149913599], \n",
    "    destinations=[631051737789436415, 631049684202690047, 631049684202697215], \n",
    "    hour_of_week=None,\n",
    "    infinity=45.0,\n",
    "    dynamic_infinity=True\n",
    ")"
   ]
  }
 ],
 "metadata": {
  "kernelspec": {
   "display_name": "Python 3",
   "language": "python",
   "name": "python3"
  },
  "language_info": {
   "codemirror_mode": {
    "name": "ipython",
    "version": 3
   },
   "file_extension": ".py",
   "mimetype": "text/x-python",
   "name": "python",
   "nbconvert_exporter": "python",
   "pygments_lexer": "ipython3",
   "version": "3.10.9"
  },
  "orig_nbformat": 4,
  "vscode": {
   "interpreter": {
    "hash": "84efe682a9c7a677c13e49d79318649eea9987d332490f7f0bf61f8b60d3a092"
   }
  }
 },
 "nbformat": 4,
 "nbformat_minor": 2
}
