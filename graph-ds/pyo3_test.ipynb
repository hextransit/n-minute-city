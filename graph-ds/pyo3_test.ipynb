{
 "cells": [
  {
   "cell_type": "code",
   "execution_count": 2,
   "metadata": {},
   "outputs": [],
   "source": [
    "from graph_ds import PyH3Graph\n",
    "import h3.api.numpy_int as h3\n",
    "import polars as pl"
   ]
  },
  {
   "cell_type": "code",
   "execution_count": 3,
   "metadata": {},
   "outputs": [
    {
     "name": "stdout",
     "output_type": "stream",
     "text": [
      "processing osm pbf file: ../resources/copenhagen/copenhagen-processed.osm.pbf\n",
      "converted OSM file into 490098 edges\n",
      "osm graph created with 418149 nodes in 2.4693465 s\n",
      "getting GTFS feed from ../resources/copenhagen/rejseplanen.zip\n",
      "routes: 1631\n",
      "gtfs graph created with 103525 nodes in 9.260682 s\n",
      "merged gtfs graph into osm graph, now has 519554 nodes, took 149 ms\n",
      "hash: 8759942521107932551\n"
     ]
    }
   ],
   "source": [
    "graph = PyH3Graph(weight_options={}, k_ring=2, layers=\"all\")\n",
    "graph.create(osm_path=\"../resources/copenhagen/copenhagen-processed.osm.pbf\", gtfs_paths=[\"../resources/copenhagen/rejseplanen.zip\"])"
   ]
  },
  {
   "cell_type": "code",
   "execution_count": 3,
   "metadata": {},
   "outputs": [],
   "source": [
    "# graph = PyH3Graph(weight_options=dict({\n",
    "#     \"bike_penalty\": 1.0,\n",
    "#     \"wait_time_multiplier\": 1.0,\n",
    "#     \"walk_speed\": 1.4,\n",
    "#     \"bike_speed\": 4.5\n",
    "# }), k_ring=2, layers=\"all\")\n",
    "# graph.create(osm_path=\"../resources/copenhagen/copenhagen-processed.osm.pbf\", gtfs_paths=[\"../resources/copenhagen/rejseplanen.zip\"])"
   ]
  },
  {
   "cell_type": "code",
   "execution_count": 4,
   "metadata": {},
   "outputs": [
    {
     "data": {
      "text/html": [
       "<div>\n",
       "<style>\n",
       ".pl-dataframe > thead > tr > th {\n",
       "  text-align: right;\n",
       "}\n",
       "</style>\n",
       "\n",
       "<table border=\"1\" class=\"dataframe pl-dataframe\">\n",
       "<small>shape: (5, 2)</small>\n",
       "<thead>\n",
       "<tr>\n",
       "<th>\n",
       "h3_index\n",
       "</th>\n",
       "<th>\n",
       "category\n",
       "</th>\n",
       "</tr>\n",
       "<tr>\n",
       "<td>\n",
       "i64\n",
       "</td>\n",
       "<td>\n",
       "str\n",
       "</td>\n",
       "</tr>\n",
       "</thead>\n",
       "<tbody>\n",
       "<tr>\n",
       "<td>\n",
       "631049690136519679\n",
       "</td>\n",
       "<td>\n",
       "&quot;library&quot;\n",
       "</td>\n",
       "</tr>\n",
       "<tr>\n",
       "<td>\n",
       "631049690224658431\n",
       "</td>\n",
       "<td>\n",
       "&quot;supermarket&quot;\n",
       "</td>\n",
       "</tr>\n",
       "<tr>\n",
       "<td>\n",
       "631049690149925887\n",
       "</td>\n",
       "<td>\n",
       "&quot;supermarket&quot;\n",
       "</td>\n",
       "</tr>\n",
       "<tr>\n",
       "<td>\n",
       "631049690184231935\n",
       "</td>\n",
       "<td>\n",
       "&quot;sport&quot;\n",
       "</td>\n",
       "</tr>\n",
       "<tr>\n",
       "<td>\n",
       "631049684365186559\n",
       "</td>\n",
       "<td>\n",
       "&quot;library&quot;\n",
       "</td>\n",
       "</tr>\n",
       "</tbody>\n",
       "</table>\n",
       "</div>"
      ],
      "text/plain": [
       "shape: (5, 2)\n",
       "┌────────────────────┬─────────────┐\n",
       "│ h3_index           ┆ category    │\n",
       "│ ---                ┆ ---         │\n",
       "│ i64                ┆ str         │\n",
       "╞════════════════════╪═════════════╡\n",
       "│ 631049690136519679 ┆ library     │\n",
       "│ 631049690224658431 ┆ supermarket │\n",
       "│ 631049690149925887 ┆ supermarket │\n",
       "│ 631049690184231935 ┆ sport       │\n",
       "│ 631049684365186559 ┆ library     │\n",
       "└────────────────────┴─────────────┘"
      ]
     },
     "execution_count": 4,
     "metadata": {},
     "output_type": "execute_result"
    }
   ],
   "source": [
    "destinations = pl.read_csv(\"../resources/destinations/København Kommune_destinations_clean.csv\")\n",
    "destinations.head()"
   ]
  },
  {
   "cell_type": "code",
   "execution_count": 4,
   "metadata": {},
   "outputs": [
    {
     "name": "stdout",
     "output_type": "stream",
     "text": [
      "astar from 631049683665048575 to 631049683664541183\n",
      "[backtrace] found start node\n",
      "nodes have been adjusted: 631049683664425983 -> 631049683664427519\n",
      "astar from 631049683665048575 to 631049683664427519\n",
      "[backtrace] found start node\n",
      "nodes have been adjusted: 631049683599036927 -> 631049683599053823\n",
      "astar from 631049683665048575 to 631049683599053823\n",
      "[backtrace] found start node\n",
      "astar from 631049683665048575 to 631049683663521279\n",
      "[backtrace] found start node\n",
      "nodes have been adjusted: 631049683665037311 -> 631049683665114111\n",
      "astar from 631049683665048575 to 631049683665114111\n",
      "[backtrace] found start node\n",
      "astar from 631049683665048575 to 631049683664582143\n",
      "[backtrace] found start node\n"
     ]
    }
   ],
   "source": [
    "%%capture\n",
    "\n",
    "def get_path(x):\n",
    "    try:\n",
    "        return graph.dijkstra_path(631049683665048575, x, None)\n",
    "    except:\n",
    "        return None\n",
    "\n",
    "supermarket_path = get_path(h3.geo_to_h3(55.663076, 12.593622, 12))\n",
    "school_path = get_path(h3.geo_to_h3(55.662401, 12.594020, 12))\n",
    "pharmacy_path = get_path(h3.geo_to_h3(55.656520, 12.604307, 12))\n",
    "sport_path = get_path(h3.geo_to_h3(55.660243, 12.592227, 12))\n",
    "park_path = get_path(h3.geo_to_h3(55.660322, 12.588553, 12))\n",
    "library_path = get_path(h3.geo_to_h3(55.662097, 12.589938, 12))"
   ]
  },
  {
   "cell_type": "code",
   "execution_count": 16,
   "metadata": {},
   "outputs": [],
   "source": [
    "def path_to_xy(path):\n",
    "    if path is None:\n",
    "        return None\n",
    "    return [h3.h3_to_geo(x) for x in path[0]]\n",
    "\n",
    "arrays = []\n",
    "destinations = []\n",
    "labels = [\"supermarket\", \"school\", \"pharmacy\", \"sport\", \"park\", \"library\"]\n",
    "\n",
    "for i, path in enumerate([supermarket_path, school_path, pharmacy_path, sport_path, park_path, library_path]):\n",
    "    xy = path_to_xy(path)\n",
    "    destinations.append([labels[i], xy[-1][0], xy[-1][1], \" {:.2f}\".format(path[1])])\n",
    "    for coord in xy:\n",
    "        arrays.append([labels[i], coord[0], coord[1], path[1]])"
   ]
  },
  {
   "cell_type": "code",
   "execution_count": 17,
   "metadata": {},
   "outputs": [
    {
     "name": "stderr",
     "output_type": "stream",
     "text": [
      "/tmp/ipykernel_279416/2100517161.py:1: DeprecationWarning: `columns` is deprecated as an argument to `__init__`; use `schema` instead.\n",
      "  path_df = pl.DataFrame(arrays, columns=[\"type\", \"lat\", \"lon\", \"path_length\"])\n",
      "/tmp/ipykernel_279416/2100517161.py:2: DeprecationWarning: `columns` is deprecated as an argument to `__init__`; use `schema` instead.\n",
      "  dest_df = pl.DataFrame(destinations, columns=[\"type\", \"lat\", \"lon\", \"path_length\"])\n"
     ]
    }
   ],
   "source": [
    "path_df = pl.DataFrame(arrays, columns=[\"type\", \"lat\", \"lon\", \"path_length\"])\n",
    "dest_df = pl.DataFrame(destinations, columns=[\"type\", \"lat\", \"lon\", \"path_length\"])"
   ]
  },
  {
   "cell_type": "code",
   "execution_count": 32,
   "metadata": {},
   "outputs": [
    {
     "data": {
      "text/html": [
       "\n",
       "            <div id=\"pXTMxa\"></div>\n",
       "            <script type=\"text/javascript\" data-lets-plot-script=\"library\">\n",
       "                if(!window.letsPlotCallQueue) {\n",
       "                    window.letsPlotCallQueue = [];\n",
       "                }; \n",
       "                window.letsPlotCall = function(f) {\n",
       "                    window.letsPlotCallQueue.push(f);\n",
       "                };\n",
       "                (function() {\n",
       "                    var script = document.createElement(\"script\");\n",
       "                    script.type = \"text/javascript\";\n",
       "                    script.src = \"https://cdn.jsdelivr.net/gh/JetBrains/lets-plot@v3.1.0/js-package/distr/lets-plot.min.js\";\n",
       "                    script.onload = function() {\n",
       "                        window.letsPlotCall = function(f) {f();};\n",
       "                        window.letsPlotCallQueue.forEach(function(f) {f();});\n",
       "                        window.letsPlotCallQueue = [];\n",
       "                        \n",
       "                    };\n",
       "                    script.onerror = function(event) {\n",
       "                        window.letsPlotCall = function(f) {};    // noop\n",
       "                        window.letsPlotCallQueue = [];\n",
       "                        var div = document.createElement(\"div\");\n",
       "                        div.style.color = 'darkred';\n",
       "                        div.textContent = 'Error loading Lets-Plot JS';\n",
       "                        document.getElementById(\"pXTMxa\").appendChild(div);\n",
       "                    };\n",
       "                    var e = document.getElementById(\"pXTMxa\");\n",
       "                    e.appendChild(script);\n",
       "                })()\n",
       "            </script>\n",
       "            "
      ]
     },
     "metadata": {},
     "output_type": "display_data"
    },
    {
     "data": {
      "text/html": [
       "   <div id=\"Vz3TLj\"></div>\n",
       "   <script type=\"text/javascript\" data-lets-plot-script=\"plot\">\n",
       "       (function() {\n",
       "           var plotSpec={\n",
       "\"data\":{\n",
       "\"type\":[\"supermarket\",\"supermarket\",\"supermarket\",\"supermarket\",\"supermarket\",\"supermarket\",\"supermarket\",\"supermarket\",\"supermarket\",\"supermarket\",\"supermarket\",\"supermarket\",\"supermarket\",\"supermarket\",\"supermarket\",\"supermarket\",\"supermarket\",\"supermarket\",\"supermarket\",\"supermarket\",\"supermarket\",\"supermarket\",\"supermarket\",\"supermarket\",\"supermarket\",\"supermarket\",\"supermarket\",\"supermarket\",\"supermarket\",\"supermarket\",\"supermarket\",\"supermarket\",\"school\",\"school\",\"school\",\"school\",\"school\",\"school\",\"school\",\"school\",\"school\",\"school\",\"school\",\"school\",\"school\",\"school\",\"school\",\"school\",\"school\",\"school\",\"school\",\"school\",\"school\",\"school\",\"school\",\"school\",\"school\",\"school\",\"school\",\"school\",\"school\",\"school\",\"school\",\"school\",\"school\",\"school\",\"school\",\"school\",\"pharmacy\",\"pharmacy\",\"pharmacy\",\"pharmacy\",\"pharmacy\",\"pharmacy\",\"pharmacy\",\"pharmacy\",\"pharmacy\",\"pharmacy\",\"pharmacy\",\"pharmacy\",\"pharmacy\",\"pharmacy\",\"pharmacy\",\"pharmacy\",\"pharmacy\",\"pharmacy\",\"pharmacy\",\"pharmacy\",\"pharmacy\",\"pharmacy\",\"pharmacy\",\"pharmacy\",\"pharmacy\",\"pharmacy\",\"pharmacy\",\"pharmacy\",\"pharmacy\",\"pharmacy\",\"pharmacy\",\"pharmacy\",\"pharmacy\",\"pharmacy\",\"pharmacy\",\"pharmacy\",\"pharmacy\",\"pharmacy\",\"pharmacy\",\"pharmacy\",\"pharmacy\",\"pharmacy\",\"pharmacy\",\"pharmacy\",\"pharmacy\",\"pharmacy\",\"pharmacy\",\"pharmacy\",\"pharmacy\",\"pharmacy\",\"pharmacy\",\"pharmacy\",\"pharmacy\",\"pharmacy\",\"pharmacy\",\"pharmacy\",\"pharmacy\",\"pharmacy\",\"pharmacy\",\"pharmacy\",\"pharmacy\",\"pharmacy\",\"pharmacy\",\"pharmacy\",\"pharmacy\",\"pharmacy\",\"pharmacy\",\"pharmacy\",\"pharmacy\",\"pharmacy\",\"pharmacy\",\"pharmacy\",\"pharmacy\",\"pharmacy\",\"pharmacy\",\"pharmacy\",\"pharmacy\",\"pharmacy\",\"pharmacy\",\"pharmacy\",\"pharmacy\",\"pharmacy\",\"pharmacy\",\"pharmacy\",\"pharmacy\",\"pharmacy\",\"pharmacy\",\"pharmacy\",\"pharmacy\",\"pharmacy\",\"pharmacy\",\"pharmacy\",\"pharmacy\",\"pharmacy\",\"pharmacy\",\"pharmacy\",\"pharmacy\",\"pharmacy\",\"pharmacy\",\"pharmacy\",\"pharmacy\",\"pharmacy\",\"pharmacy\",\"pharmacy\",\"pharmacy\",\"pharmacy\",\"sport\",\"sport\",\"sport\",\"sport\",\"sport\",\"sport\",\"sport\",\"sport\",\"sport\",\"sport\",\"sport\",\"sport\",\"sport\",\"sport\",\"sport\",\"sport\",\"sport\",\"sport\",\"sport\",\"sport\",\"park\",\"park\",\"park\",\"park\",\"park\",\"park\",\"park\",\"park\",\"park\",\"park\",\"park\",\"park\",\"park\",\"park\",\"park\",\"library\",\"library\",\"library\",\"library\",\"library\",\"library\",\"library\",\"library\",\"library\",\"library\",\"library\",\"library\",\"library\",\"library\",\"library\"],\n",
       "\"lat\":[55.661110235731336,55.661110235731336,55.661219455062295,55.6611901055905,55.661299324080396,55.661269973589626,55.66140854209071,55.661379191238446,55.66151775962147,55.66162697667267,55.66159762509738,55.661568272864635,55.66170684130751,55.66181605703805,55.66195462494886,55.66206384008177,55.66220240746053,55.66231162199579,55.66245018884247,55.662588755275145,55.662697969094715,55.66283653499534,55.66294574821725,55.66308431358577,55.663193526210044,55.6631641732223,55.66313481957706,55.6631054652743,55.663076110314066,55.66304675469634,55.663017398421104,55.663017398421104,55.661110235731336,55.661110235731336,55.661219455062295,55.6611901055905,55.661299324080396,55.661269973589626,55.66140854209071,55.661379191238446,55.66151775962147,55.66162697667267,55.66159762509738,55.661568272864635,55.66170684130751,55.66181605703805,55.66195462494886,55.66206384008177,55.66220240746053,55.66231162199579,55.66245018884247,55.662588755275145,55.662697969094715,55.66283653499534,55.66294574821725,55.66308431358577,55.663193526210044,55.6631641732223,55.66313481957706,55.6631054652743,55.663076110314066,55.66304675469634,55.663017398421104,55.6629880414884,55.66284947416627,55.662740263954774,55.662601696100594,55.662601696100594,55.661110235731336,55.661110235731336,55.661219455062295,55.6611901055905,55.661299324080396,55.661269973589626,55.66140854209071,55.661379191238446,55.66151775962147,55.66162697667267,55.66159762509738,55.661568272864635,55.66170684130751,55.66181605703805,55.66195462494886,55.66206384008177,55.66220240746053,55.66231162199579,55.66245018884247,55.662588755275145,55.662697969094715,55.66283653499534,55.66294574821725,55.66308431358577,55.663193526210044,55.6631641732223,55.66313481957706,55.6631054652743,55.663076110314066,55.66304675469634,55.663017398421104,55.6629880414884,55.66295868389817,55.662929325650445,55.66279075773647,55.6627613985353,55.66262282991137,55.66259346975678,55.6624549004229,55.662425539314874,55.66228696927107,55.662257607209604,55.66211903645584,55.66208967344097,55.66195110197726,55.66192173800895,55.66178316583534,55.66175380091358,55.66161522803002,55.661585862154844,55.66144728856136,55.66141792173276,55.66127934742938,55.66114077271197,55.661111404634006,55.66097282920668,55.660943460175325,55.66080488403808,55.66077551405331,55.66063693720615,55.66049835994497,55.660359782269815,55.66022120418066,55.66019183235471,55.660053253555645,55.66002388077631,55.659885301267316,55.659855927534565,55.65971734731567,55.659578766682785,55.65954939170071,55.65941081035793,55.659272228601154,55.659242852369765,55.659104269903075,55.6590748927183,55.65904551487604,55.65890693140354,55.65876834751707,55.6587389684255,55.65870958867646,55.65857100378417,55.6584324184779,55.658403037479566,55.65826445146341,55.65823506951168,55.65820568690246,55.65806709988051,55.65803771631792,55.657899128586095,55.657869744070126,55.6577311556284,55.65770177015905,55.65767238403219,55.657533794584715,55.6575044075045,55.65736581734713,55.65736581734713,55.65722722677579,55.657088635790444,55.65695004439115,55.656840841137516,55.65670224920613,55.65673163740422,55.65687022903971,55.65676102494484,55.661110235731336,55.661219455062295,55.6611901055905,55.66116075546124,55.661131404674535,55.66099283534544,55.660854265602325,55.6607450471198,55.66060647684462,55.66046790615547,55.660358686957274,55.66022011573606,55.66019076353507,55.66016141067669,55.66027062926993,55.66024127539257,55.660211920857755,55.660182565665494,55.660153209815746,55.6602624264834,55.661110235731336,55.66113958418419,55.66100101592086,55.661030364012205,55.66116893197957,55.6613074995329,55.661336846374844,55.661227625597924,55.66111840434148,55.6610091826055,55.66087061499397,55.66076139266041,55.66062282451683,55.660484255959254,55.66034568698767,55.661110235731336,55.661219455062295,55.6611901055905,55.661299324080396,55.661269973589626,55.66140854209071,55.661379191238446,55.66151775962147,55.66162697667267,55.66176554452364,55.661874760977234,55.66201332829613,55.66204267898356,55.662072029013515,55.66210137838599],\n",
       "\"lon\":[12.589319644730141,12.589319644730141,12.589526368620689,12.589801021481067,12.590007746876193,12.590282400339634,12.590214473174873,12.590489127239271,12.590421200377081,12.590627928482851,12.590902583749216,12.59117723901757,12.591109313359519,12.591316043873379,12.591248118221527,12.591454849941531,12.591386924295877,12.591593657222035,12.591525731582562,12.591457805646744,12.59166454008166,12.591596614152026,12.591803349793132,12.591735423869713,12.591942160717037,12.592216823786101,12.592491486857142,12.59276614993011,12.593040813004933,12.593315476081694,12.593590139160334,12.593590139160334,12.589319644730141,12.589319644730141,12.589526368620689,12.589801021481067,12.590007746876193,12.590282400339634,12.590214473174873,12.590489127239271,12.590421200377081,12.590627928482851,12.590902583749216,12.59117723901757,12.591109313359519,12.591316043873379,12.591248118221527,12.591454849941531,12.591386924295877,12.591593657222035,12.591525731582562,12.591457805646744,12.59166454008166,12.591596614152026,12.591803349793132,12.591735423869713,12.591942160717037,12.592216823786101,12.592491486857142,12.59276614993011,12.593040813004933,12.593315476081694,12.593590139160334,12.593864802240859,12.593932723668477,12.593725982917254,12.593793904351141,12.593793904351141,12.589319644730141,12.589319644730141,12.589526368620689,12.589801021481067,12.590007746876193,12.590282400339634,12.590214473174873,12.590489127239271,12.590421200377081,12.590627928482851,12.590902583749216,12.59117723901757,12.591109313359519,12.591316043873379,12.591248118221527,12.591454849941531,12.591386924295877,12.591593657222035,12.591525731582562,12.591457805646744,12.59166454008166,12.591596614152026,12.591803349793132,12.591735423869713,12.591942160717037,12.592216823786101,12.592491486857142,12.59276614993011,12.593040813004933,12.593315476081694,12.593590139160334,12.593864802240859,12.594139465323243,12.594414128407484,12.594482048636996,12.594756711124012,12.594824630458104,12.5950992923479,12.595167210786565,12.595441872079101,12.595509789622344,12.595784450317632,12.595852366965454,12.596127027063465,12.596194942815863,12.596469602316567,12.596537517173568,12.59681217607694,12.596880090038516,12.597154748344588,12.597222661410731,12.597497319119448,12.597565231290234,12.597633143164623,12.597907799676905,12.5979757106559,12.598250366570795,12.598318276654421,12.598592931971899,12.598660841160125,12.598728750051986,12.59879665864751,12.598864566946713,12.59913921986961,12.599207127273425,12.5994817795989,12.599549686107332,12.59982433783536,12.599892243448394,12.59996014876514,12.600234799296631,12.600302703717965,12.600370607843,12.600645257177927,12.600713160407597,12.600987809145028,12.601262457883983,12.601330359619237,12.60139826105816,12.60167290860051,12.601947556144392,12.602015456088907,12.602083355737081,12.602358002084305,12.602425900837188,12.602700546586796,12.60297519233787,12.603043089596312,12.603317734749742,12.603385631112848,12.603660275668641,12.603728171136382,12.604002815094512,12.604277459054053,12.604345353027345,12.604619996389193,12.604687889467153,12.604687889467153,12.604755782248834,12.604823674734236,12.604891566923406,12.604684818449769,12.604752710645462,12.604478070879392,12.60441017808464,12.604203431114705,12.589319644730141,12.589526368620689,12.589801021481067,12.590075674343526,12.59035032720798,12.590418253779974,12.590486180055533,12.59027945496712,12.590347381248897,12.590415307234293,12.590208583654524,12.590276509646094,12.590551158315906,12.590825806987727,12.591032531466826,12.591307180741596,12.591581830018324,12.59185647929707,12.592131128577698,12.59233785636401,12.589319644730141,12.589044992472843,12.589112921743158,12.588838270086853,12.588770340217602,12.588702410051958,12.588427757199891,12.58822103571344,12.588014315130597,12.587807595451308,12.587875527123446,12.587668808650248,12.587736740328493,12.587804671710384,12.587872602795855,12.589319644730141,12.589526368620689,12.589801021481067,12.590007746876193,12.590282400339634,12.590214473174873,12.590489127239271,12.590421200377081,12.590627928482851,12.59056000162688,12.590766730938782,12.59069880408894,12.59042414702569,12.59014948996442,12.589874832905164]\n",
       "},\n",
       "\"mapping\":{\n",
       "},\n",
       "\"data_meta\":{\n",
       "},\n",
       "\"ggsize\":{\n",
       "\"width\":800,\n",
       "\"height\":600\n",
       "},\n",
       "\"kind\":\"plot\",\n",
       "\"scales\":[{\n",
       "\"aesthetic\":\"color\",\n",
       "\"discrete\":true\n",
       "}],\n",
       "\"layers\":[{\n",
       "\"geom\":\"livemap\",\n",
       "\"mapping\":{\n",
       "},\n",
       "\"data_meta\":{\n",
       "},\n",
       "\"tiles\":{\n",
       "\"kind\":\"vector_lets_plot\",\n",
       "\"url\":\"wss://tiles.datalore.jetbrains.com\",\n",
       "\"theme\":\"dark\",\n",
       "\"attribution\":\"Map: <a href=\\\"https://github.com/JetBrains/lets-plot\\\">© Lets-Plot</a>, map data: <a href=\\\"https://www.openstreetmap.org/copyright\\\">© OpenStreetMap contributors</a>.\"\n",
       "},\n",
       "\"geocoding\":{\n",
       "\"url\":\"https://geo2.datalore.jetbrains.com/map_data/geocoding\"\n",
       "},\n",
       "\"data\":{\n",
       "}\n",
       "},{\n",
       "\"geom\":\"path\",\n",
       "\"mapping\":{\n",
       "\"x\":\"lon\",\n",
       "\"y\":\"lat\",\n",
       "\"group\":\"type\",\n",
       "\"color\":\"type\"\n",
       "},\n",
       "\"data_meta\":{\n",
       "},\n",
       "\"size\":2,\n",
       "\"alpha\":0.5,\n",
       "\"data\":{\n",
       "}\n",
       "},{\n",
       "\"geom\":\"point\",\n",
       "\"mapping\":{\n",
       "},\n",
       "\"data_meta\":{\n",
       "},\n",
       "\"y\":55.661110235731336,\n",
       "\"x\":12.589319644730141,\n",
       "\"size\":4,\n",
       "\"data\":{\n",
       "}\n",
       "},{\n",
       "\"geom\":\"point\",\n",
       "\"data\":{\n",
       "\"type\":[\"supermarket\",\"school\",\"pharmacy\",\"sport\",\"park\",\"library\"],\n",
       "\"lat\":[55.663017398421104,55.662601696100594,55.65676102494484,55.6602624264834,55.66034568698767,55.66210137838599],\n",
       "\"lon\":[12.593590139160334,12.593793904351141,12.604203431114705,12.59233785636401,12.587872602795855,12.589874832905164]\n",
       "},\n",
       "\"mapping\":{\n",
       "\"x\":\"lon\",\n",
       "\"y\":\"lat\",\n",
       "\"color\":\"type\"\n",
       "},\n",
       "\"data_meta\":{\n",
       "},\n",
       "\"size\":3,\n",
       "\"alpha\":0.5\n",
       "},{\n",
       "\"geom\":\"text\",\n",
       "\"data\":{\n",
       "\"type\":[\"supermarket\",\"school\",\"pharmacy\",\"sport\",\"park\",\"library\"],\n",
       "\"lat\":[55.663017398421104,55.662601696100594,55.65676102494484,55.6602624264834,55.66034568698767,55.66210137838599],\n",
       "\"lon\":[12.593590139160334,12.593793904351141,12.604203431114705,12.59233785636401,12.587872602795855,12.589874832905164],\n",
       "\"path_length\":[\" 3.75\",\" 3.99\",\" 9.29\",\" 3.69\",\" 2.72\",\" 2.72\"]\n",
       "},\n",
       "\"mapping\":{\n",
       "\"x\":\"lon\",\n",
       "\"y\":\"lat\",\n",
       "\"label\":\"path_length\",\n",
       "\"color\":\"type\"\n",
       "},\n",
       "\"data_meta\":{\n",
       "},\n",
       "\"nudge_x\":10,\n",
       "\"size\":7\n",
       "}],\n",
       "\"metainfo_list\":[]\n",
       "};\n",
       "           var plotContainer = document.getElementById(\"Vz3TLj\");\n",
       "           window.letsPlotCall(function() {{\n",
       "               LetsPlot.buildPlotFromProcessedSpecs(plotSpec, -1, -1, plotContainer);\n",
       "           }});\n",
       "       })();    \n",
       "   </script>"
      ]
     },
     "metadata": {},
     "output_type": "display_data"
    }
   ],
   "source": [
    "from lets_plot import *\n",
    "from lets_plot import tilesets\n",
    "LetsPlot.setup_html()\n",
    "\n",
    "p = ggplot(path_df) + \\\n",
    "    geom_livemap(tiles=tilesets.LETS_PLOT_DARK) + \\\n",
    "    geom_path(aes('lon', 'lat', group='type', color='type'), size=2, alpha=0.5) + \\\n",
    "    geom_point(y=55.661110235731336, x=12.589319644730141, size=4) + \\\n",
    "    geom_point(aes('lon', 'lat', color='type'), data=dest_df, size=3, alpha=0.5) + \\\n",
    "    geom_text(aes('lon', 'lat', label='path_length', color='type'), data=dest_df, nudge_x=10, size=7) + \\\n",
    "    scale_color_discrete() + \\\n",
    "    ggsize(800, 600)\n",
    "\n",
    "p.show()"
   ]
  },
  {
   "cell_type": "code",
   "execution_count": 31,
   "metadata": {},
   "outputs": [
    {
     "data": {
      "text/plain": [
       "(55.661110235731336, 12.589319644730141)"
      ]
     },
     "execution_count": 31,
     "metadata": {},
     "output_type": "execute_result"
    }
   ],
   "source": [
    "h3.h3_to_geo(631049683665048575)"
   ]
  }
 ],
 "metadata": {
  "kernelspec": {
   "display_name": "Python 3",
   "language": "python",
   "name": "python3"
  },
  "language_info": {
   "codemirror_mode": {
    "name": "ipython",
    "version": 3
   },
   "file_extension": ".py",
   "mimetype": "text/x-python",
   "name": "python",
   "nbconvert_exporter": "python",
   "pygments_lexer": "ipython3",
   "version": "3.10.9"
  },
  "orig_nbformat": 4,
  "vscode": {
   "interpreter": {
    "hash": "84efe682a9c7a677c13e49d79318649eea9987d332490f7f0bf61f8b60d3a092"
   }
  }
 },
 "nbformat": 4,
 "nbformat_minor": 2
}
