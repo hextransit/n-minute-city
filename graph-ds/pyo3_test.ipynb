{
 "cells": [
  {
   "cell_type": "code",
   "execution_count": null,
   "metadata": {},
   "outputs": [],
   "source": [
    "from graph_ds import PyH3Graph\n",
    "import h3.api.numpy_int as h3\n",
    "import polars as pl"
   ]
  },
  {
   "cell_type": "code",
   "execution_count": null,
   "metadata": {},
   "outputs": [],
   "source": [
    "graph = PyH3Graph(weight_options={}, k_ring=2, layers=\"all\")\n",
    "graph.create(osm_path=\"../resources/copenhagen/copenhagen-processed.osm.pbf\", gtfs_paths=[\"../resources/copenhagen/rejseplanen.zip\"])"
   ]
  },
  {
   "cell_type": "code",
   "execution_count": null,
   "metadata": {},
   "outputs": [],
   "source": [
    "# graph = PyH3Graph(weight_options=dict({\n",
    "#     \"bike_penalty\": 1.0,\n",
    "#     \"wait_time_multiplier\": 1.0,\n",
    "#     \"walk_speed\": 1.4,\n",
    "#     \"bike_speed\": 4.5\n",
    "# }), k_ring=2, layers=\"all\")\n",
    "# graph.create(osm_path=\"../resources/copenhagen/copenhagen-processed.osm.pbf\", gtfs_paths=[\"../resources/copenhagen/rejseplanen.zip\"])"
   ]
  },
  {
   "cell_type": "code",
   "execution_count": null,
   "metadata": {},
   "outputs": [],
   "source": [
    "destinations = pl.read_csv(\"../resources/destinations/København Kommune_destinations_clean.csv\")\n",
    "destinations.head()"
   ]
  },
  {
   "cell_type": "code",
   "execution_count": null,
   "metadata": {},
   "outputs": [],
   "source": [
    "%%capture\n",
    "\n",
    "def get_path(x):\n",
    "    try:\n",
    "        return graph.dijkstra_path(631049683665048575, x, None)\n",
    "    except:\n",
    "        return None\n",
    "\n",
    "supermarket_path = get_path(h3.geo_to_h3(55.663076, 12.593622, 12))\n",
    "school_path = get_path(h3.geo_to_h3(55.662401, 12.594020, 12))\n",
    "pharmacy_path = get_path(h3.geo_to_h3(55.656520, 12.604307, 12))\n",
    "sport_path = get_path(h3.geo_to_h3(55.660243, 12.592227, 12))\n",
    "park_path = get_path(h3.geo_to_h3(55.660322, 12.588553, 12))\n",
    "library_path = get_path(h3.geo_to_h3(55.662097, 12.589938, 12))"
   ]
  },
  {
   "cell_type": "code",
   "execution_count": null,
   "metadata": {},
   "outputs": [],
   "source": [
    "def path_to_xy(path):\n",
    "    if path is None:\n",
    "        return None\n",
    "    return [h3.h3_to_geo(x) for x in path[0]]\n",
    "\n",
    "arrays = []\n",
    "destinations = []\n",
    "labels = [\"supermarket\", \"school\", \"pharmacy\", \"sport\", \"park\", \"library\"]\n",
    "\n",
    "for i, path in enumerate([supermarket_path, school_path, pharmacy_path, sport_path, park_path, library_path]):\n",
    "    xy = path_to_xy(path)\n",
    "    destinations.append([labels[i], xy[-1][0], xy[-1][1], \" {:.2f}\".format(path[1])])\n",
    "    for coord in xy:\n",
    "        arrays.append([labels[i], coord[0], coord[1], path[1]])"
   ]
  },
  {
   "cell_type": "code",
   "execution_count": null,
   "metadata": {},
   "outputs": [],
   "source": [
    "path_df = pl.DataFrame(arrays, columns=[\"type\", \"lat\", \"lon\", \"path_length\"])\n",
    "dest_df = pl.DataFrame(destinations, columns=[\"type\", \"lat\", \"lon\", \"path_length\"])"
   ]
  },
  {
   "cell_type": "code",
   "execution_count": null,
   "metadata": {},
   "outputs": [],
   "source": [
    "from lets_plot import *\n",
    "from lets_plot import tilesets\n",
    "LetsPlot.setup_html()\n",
    "\n",
    "p = ggplot(path_df) + \\\n",
    "    geom_livemap(tiles=tilesets.LETS_PLOT_DARK) + \\\n",
    "    geom_path(aes('lon', 'lat', group='type', color='type'), size=2, alpha=0.5) + \\\n",
    "    geom_point(y=55.661110235731336, x=12.589319644730141, size=4) + \\\n",
    "    geom_point(aes('lon', 'lat', color='type'), data=dest_df, size=3, alpha=0.5) + \\\n",
    "    geom_text(aes('lon', 'lat', label='path_length', color='type'), data=dest_df, nudge_x=10, size=7) + \\\n",
    "    scale_color_discrete() + \\\n",
    "    ggsize(800, 600)\n",
    "\n",
    "p.show()"
   ]
  },
  {
   "cell_type": "code",
   "execution_count": null,
   "metadata": {},
   "outputs": [],
   "source": [
    "h3.h3_to_geo(631049683665048575)"
   ]
  }
 ],
 "metadata": {
  "kernelspec": {
   "display_name": "Python 3",
   "language": "python",
   "name": "python3"
  },
  "language_info": {
   "codemirror_mode": {
    "name": "ipython",
    "version": 3
   },
   "file_extension": ".py",
   "mimetype": "text/x-python",
   "name": "python",
   "nbconvert_exporter": "python",
   "pygments_lexer": "ipython3",
   "version": "3.10.9"
  },
  "orig_nbformat": 4,
  "vscode": {
   "interpreter": {
    "hash": "84efe682a9c7a677c13e49d79318649eea9987d332490f7f0bf61f8b60d3a092"
   }
  }
 },
 "nbformat": 4,
 "nbformat_minor": 2
}
