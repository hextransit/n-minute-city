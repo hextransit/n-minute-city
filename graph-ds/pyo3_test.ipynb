{
 "cells": [
  {
   "cell_type": "code",
   "execution_count": 1,
   "metadata": {},
   "outputs": [],
   "source": [
    "from graph_ds import PyH3Graph\n",
    "import h3.api.numpy_int as h3"
   ]
  },
  {
   "cell_type": "code",
   "execution_count": 2,
   "metadata": {},
   "outputs": [
    {
     "name": "stdout",
     "output_type": "stream",
     "text": [
      "processing osm pbf file: ../resources/la-processed.osm.pbf\n",
      "converted OSM file into 4518307 edges\n",
      "osm graph created with 3924641 nodes in 31.232471 s\n",
      "getting GTFS feed from ../resources/gtfs_bus.zip\n",
      "routes: 115\n",
      "gtfs graph created with 26524 nodes in 6.178235 s\n",
      "merged gtfs graph into osm graph, now has 3944833 nodes, took 25 ms\n",
      "getting GTFS feed from ../resources/gtfs_rail.zip\n",
      "routes: 7\n",
      "gtfs graph created with 212 nodes in 0.19086573 s\n",
      "merged gtfs graph into osm graph, now has 3944980 nodes, took 0 ms\n",
      "hash: 2652502120673578787\n"
     ]
    }
   ],
   "source": [
    "graph = PyH3Graph(bike_penalty=1.0, k_ring=2, layers=\"all\")\n",
    "graph.create(osm_path=\"../resources/la-processed.osm.pbf\", gtfs_paths=[\"../resources/gtfs_bus.zip\", \"../resources/gtfs_rail.zip\"])"
   ]
  },
  {
   "cell_type": "code",
   "execution_count": 3,
   "metadata": {},
   "outputs": [
    {
     "name": "stdout",
     "output_type": "stream",
     "text": [
      "matrix distance computed for 4 origins - got 3 results\n"
     ]
    },
    {
     "data": {
      "text/plain": [
       "{631049690224671743: [None, None, None],\n",
       " 631049690224672255: [None, None, None],\n",
       " 631049690149913599: [None, None, None]}"
      ]
     },
     "execution_count": 3,
     "metadata": {},
     "output_type": "execute_result"
    }
   ],
   "source": [
    "graph.matrix_distance(\n",
    "    origins=[631049690183383551, 631049690224672255, 631049690224671743, 631049690149913599], \n",
    "    destinations=[631051737789436415, 631049684202690047, 631049684202697215], \n",
    "    hour_of_week=None,\n",
    "    infinity=45.0,\n",
    "    dynamic_infinity=True\n",
    ")"
   ]
  }
 ],
 "metadata": {
  "kernelspec": {
   "display_name": "Python 3",
   "language": "python",
   "name": "python3"
  },
  "language_info": {
   "codemirror_mode": {
    "name": "ipython",
    "version": 3
   },
   "file_extension": ".py",
   "mimetype": "text/x-python",
   "name": "python",
   "nbconvert_exporter": "python",
   "pygments_lexer": "ipython3",
   "version": "3.10.9"
  },
  "orig_nbformat": 4,
  "vscode": {
   "interpreter": {
    "hash": "84efe682a9c7a677c13e49d79318649eea9987d332490f7f0bf61f8b60d3a092"
   }
  }
 },
 "nbformat": 4,
 "nbformat_minor": 2
}
