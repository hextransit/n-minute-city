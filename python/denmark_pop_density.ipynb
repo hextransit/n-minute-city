{
 "cells": [
  {
   "cell_type": "code",
   "execution_count": 2,
   "metadata": {},
   "outputs": [],
   "source": [
    "import pandas as pd"
   ]
  },
  {
   "cell_type": "code",
   "execution_count": 1,
   "metadata": {},
   "outputs": [],
   "source": [
    "# https://www.statbank.dk/statbank5a/default.asp?w=1440\n",
    "# selected all kommunes and population density 2022\n",
    "\n",
    "# code for municipality is the first 3 digits of index\n",
    "# in order to identify the municipality you need to find other towns with the same code\n",
    "# then use the map above to find which municipality it is. "
   ]
  },
  {
   "cell_type": "code",
   "execution_count": 3,
   "metadata": {},
   "outputs": [],
   "source": [
    "df = pd.read_csv('../resources/denmark_pop_and_density.csv', encoding='latin-1')"
   ]
  },
  {
   "cell_type": "code",
   "execution_count": 4,
   "metadata": {},
   "outputs": [],
   "source": [
    "# split strings in columns into two new columns\n",
    "df[['municipality_code', 'specific_area_name']] = df['area_name'].str.split('-', expand=True)[[0,1]]"
   ]
  },
  {
   "cell_type": "code",
   "execution_count": 5,
   "metadata": {},
   "outputs": [
    {
     "name": "stderr",
     "output_type": "stream",
     "text": [
      "/var/folders/n9/1l93lmxn1791rk7wnv15wd500000gn/T/ipykernel_40617/2228875670.py:3: RuntimeWarning: invalid value encountered in double_scalars\n",
      "  df_density = pd.DataFrame([(k, v['Population'].sum(), v['Population'].sum()/v['Area (km2)'].sum())\\\n"
     ]
    },
    {
     "data": {
      "text/plain": [
       "<AxesSubplot:xlabel='population', ylabel='population_density'>"
      ]
     },
     "execution_count": 5,
     "metadata": {},
     "output_type": "execute_result"
    },
    {
     "data": {
      "image/png": "[encoded data removed]",
      "text/plain": [
       "<Figure size 500x500 with 1 Axes>"
      ]
     },
     "metadata": {},
     "output_type": "display_data"
    }
   ],
   "source": [
    "# group by municipality and divide the total population by the total area\n",
    "\n",
    "df_density = pd.DataFrame([(k, v['Population'].sum(), v['Population'].sum()/v['Area (km2)'].sum())\\\n",
    "                            for k,v in df.groupby('municipality_code')],\n",
    "                          columns=['municipality_code', 'population', 'population_density'])\n",
    "\n",
    "df_density.dropna(inplace=True)\n",
    "df_density.sort_values('population_density', ascending=False, inplace=True)\n",
    "\n",
    "df_density.plot(kind='scatter', x='population', y='population_density', figsize=(5,5))"
   ]
  },
  {
   "cell_type": "code",
   "execution_count": 10,
   "metadata": {},
   "outputs": [
    {
     "name": "stdout",
     "output_type": "stream",
     "text": [
      "(99,)\n"
     ]
    },
    {
     "data": {
      "text/plain": [
       "count       99.000000\n",
       "mean       600.071572\n",
       "std       1494.119968\n",
       "min         14.511895\n",
       "25%         66.907156\n",
       "50%        119.283775\n",
       "75%        475.661716\n",
       "max      11908.965517\n",
       "Name: population_density, dtype: float64"
      ]
     },
     "execution_count": 10,
     "metadata": {},
     "output_type": "execute_result"
    }
   ],
   "source": [
    "print(df_density['municipality_code'].unique().shape)\n",
    "df_density['population_density'].describe()"
   ]
  },
  {
   "cell_type": "code",
   "execution_count": 12,
   "metadata": {},
   "outputs": [
    {
     "data": {
      "text/plain": [
       "119.28377460964018"
      ]
     },
     "execution_count": 12,
     "metadata": {},
     "output_type": "execute_result"
    }
   ],
   "source": [
    "df_density['population_density'].median()"
   ]
  },
  {
   "cell_type": "code",
   "execution_count": 8,
   "metadata": {},
   "outputs": [],
   "source": [
    "# get quantiles from the population density and use them to create a new column\n",
    "# with the population density category\n",
    "df_density['population_density_quantile'] = pd.qcut(df_density['population_density'], 5, labels=[5,4,3,2,1])"
   ]
  },
  {
   "cell_type": "code",
   "execution_count": 11,
   "metadata": {},
   "outputs": [],
   "source": [
    "# sample 3 municipalities from each quantile\n",
    "municips = [v.municipality_code.sample(3, random_state=42).values\\\n",
    "             for k,v in df_density.groupby('population_density_quantile')]\n",
    "\n",
    "# flatten the list\n",
    "municips = [item for sublist in municips for item in sublist]"
   ]
  },
  {
   "cell_type": "code",
   "execution_count": 11,
   "metadata": {},
   "outputs": [
    {
     "data": {
      "text/html": [
       "<div>\n",
       "<style scoped>\n",
       "    .dataframe tbody tr th:only-of-type {\n",
       "        vertical-align: middle;\n",
       "    }\n",
       "\n",
       "    .dataframe tbody tr th {\n",
       "        vertical-align: top;\n",
       "    }\n",
       "\n",
       "    .dataframe thead th {\n",
       "        text-align: right;\n",
       "    }\n",
       "</style>\n",
       "<table border=\"1\" class=\"dataframe\">\n",
       "  <thead>\n",
       "    <tr style=\"text-align: right;\">\n",
       "      <th></th>\n",
       "      <th>municipality_code</th>\n",
       "      <th>population</th>\n",
       "      <th>population_density</th>\n",
       "    </tr>\n",
       "  </thead>\n",
       "  <tbody>\n",
       "    <tr>\n",
       "      <th>2</th>\n",
       "      <td>147</td>\n",
       "      <td>103608.0</td>\n",
       "      <td>11908.965517</td>\n",
       "    </tr>\n",
       "    <tr>\n",
       "      <th>1</th>\n",
       "      <td>101</td>\n",
       "      <td>644431.0</td>\n",
       "      <td>7152.397336</td>\n",
       "    </tr>\n",
       "    <tr>\n",
       "      <th>14</th>\n",
       "      <td>175</td>\n",
       "      <td>41382.0</td>\n",
       "      <td>3391.967213</td>\n",
       "    </tr>\n",
       "    <tr>\n",
       "      <th>6</th>\n",
       "      <td>157</td>\n",
       "      <td>74217.0</td>\n",
       "      <td>2899.101563</td>\n",
       "    </tr>\n",
       "    <tr>\n",
       "      <th>7</th>\n",
       "      <td>159</td>\n",
       "      <td>69259.0</td>\n",
       "      <td>2781.485944</td>\n",
       "    </tr>\n",
       "    <tr>\n",
       "      <th>...</th>\n",
       "      <td>...</td>\n",
       "      <td>...</td>\n",
       "      <td>...</td>\n",
       "    </tr>\n",
       "    <tr>\n",
       "      <th>85</th>\n",
       "      <td>760</td>\n",
       "      <td>56203.0</td>\n",
       "      <td>38.139929</td>\n",
       "    </tr>\n",
       "    <tr>\n",
       "      <th>73</th>\n",
       "      <td>665</td>\n",
       "      <td>19398.0</td>\n",
       "      <td>38.057681</td>\n",
       "    </tr>\n",
       "    <tr>\n",
       "      <th>81</th>\n",
       "      <td>741</td>\n",
       "      <td>3716.0</td>\n",
       "      <td>32.711268</td>\n",
       "    </tr>\n",
       "    <tr>\n",
       "      <th>61</th>\n",
       "      <td>550</td>\n",
       "      <td>36849.0</td>\n",
       "      <td>28.698598</td>\n",
       "    </tr>\n",
       "    <tr>\n",
       "      <th>94</th>\n",
       "      <td>825</td>\n",
       "      <td>1769.0</td>\n",
       "      <td>14.511895</td>\n",
       "    </tr>\n",
       "  </tbody>\n",
       "</table>\n",
       "<p>99 rows × 3 columns</p>\n",
       "</div>"
      ],
      "text/plain": [
       "   municipality_code  population  population_density\n",
       "2                147    103608.0        11908.965517\n",
       "1                101    644431.0         7152.397336\n",
       "14               175     41382.0         3391.967213\n",
       "6                157     74217.0         2899.101563\n",
       "7                159     69259.0         2781.485944\n",
       "..               ...         ...                 ...\n",
       "85               760     56203.0           38.139929\n",
       "73               665     19398.0           38.057681\n",
       "81               741      3716.0           32.711268\n",
       "61               550     36849.0           28.698598\n",
       "94               825      1769.0           14.511895\n",
       "\n",
       "[99 rows x 3 columns]"
      ]
     },
     "execution_count": 11,
     "metadata": {},
     "output_type": "execute_result"
    }
   ],
   "source": [
    "df_density.sort_values('population_density', ascending=False)"
   ]
  },
  {
   "cell_type": "code",
   "execution_count": 17,
   "metadata": {},
   "outputs": [],
   "source": [
    "code_mappings: dict = {\n",
    "    '846': 'Mariagerfjord Kommune',\n",
    "    '741': 'Samsø Kommune',\n",
    "    '760': 'Ringkøbing-Skjern Kommune',\n",
    "    '710': 'Favrskov Kommune',\n",
    "    '480': 'Nordfyns Kommune',\n",
    "    '492': 'Ærø Kommune',\n",
    "    '270': 'Gribskov Kommune',\n",
    "    '730': 'Randers Kommune',\n",
    "    '450': 'Nyborg Kommune',\n",
    "    '169': 'Høje-Taastrup Kommune',\n",
    "    '621': 'Kolding Kommune',\n",
    "    '250': 'Frederikssund Kommune',\n",
    "    '147': 'Frederiksberg Kommune',\n",
    "    '230': 'Rudersdal Kommune',\n",
    "    '155': 'Dragør Kommune',\n",
    "    '101': 'København Kommune',\n",
    "    '147': 'Frederiksberg Kommune',\n",
    "    '825': 'Læsø Kommune',\n",
    "    '550': 'Tønder Kommune',\n",
    "    '665': 'Lemvig Kommune',\n",
    "    '760': 'Ringkøbing-Skjern Kommune'\n",
    "}\n",
    "# map the codes to the municipality names in the dataframe\n",
    "df_density['municipality'] = df_density['municipality_code'].map(code_mappings)\n",
    "df_density[df_density['municipality'].notna()].sort_values(\n",
    "    'population_density', ascending=False)\\\n",
    "        .to_csv('../resources/denmark_pop_density_sample.csv', index=False)"
   ]
  },
  {
   "cell_type": "code",
   "execution_count": 44,
   "metadata": {},
   "outputs": [],
   "source": [
    "df.sort_values(by='Population density (km2)', ascending=False, inplace=True)\n",
    "df = df[df['Population density (km2)']!=0]\n",
    "# remove rows with \"rural areas\" in index\n",
    "#df = df[~df.index.str.contains('Rural areas')]"
   ]
  },
  {
   "cell_type": "code",
   "execution_count": 37,
   "metadata": {},
   "outputs": [
    {
     "data": {
      "text/html": [
       "<div>\n",
       "<style scoped>\n",
       "    .dataframe tbody tr th:only-of-type {\n",
       "        vertical-align: middle;\n",
       "    }\n",
       "\n",
       "    .dataframe tbody tr th {\n",
       "        vertical-align: top;\n",
       "    }\n",
       "\n",
       "    .dataframe thead th {\n",
       "        text-align: right;\n",
       "    }\n",
       "</style>\n",
       "<table border=\"1\" class=\"dataframe\">\n",
       "  <thead>\n",
       "    <tr style=\"text-align: right;\">\n",
       "      <th></th>\n",
       "      <th>Population density (km2)</th>\n",
       "    </tr>\n",
       "  </thead>\n",
       "  <tbody>\n",
       "    <tr>\n",
       "      <th>573-10898 Varde</th>\n",
       "      <td>1471.1</td>\n",
       "    </tr>\n",
       "  </tbody>\n",
       "</table>\n",
       "</div>"
      ],
      "text/plain": [
       "                 Population density (km2)\n",
       "573-10898 Varde                    1471.1"
      ]
     },
     "execution_count": 37,
     "metadata": {},
     "output_type": "execute_result"
    }
   ],
   "source": [
    "# check what is being measured\n",
    "# https://www.statbank.dk/statbank5a/Graphics/mapanalyser.asp?maintable=BY3&lang=1\n",
    "df[df.index.str.contains('Varde')]"
   ]
  },
  {
   "cell_type": "code",
   "execution_count": 41,
   "metadata": {},
   "outputs": [
    {
     "data": {
      "text/html": [
       "<div>\n",
       "<style scoped>\n",
       "    .dataframe tbody tr th:only-of-type {\n",
       "        vertical-align: middle;\n",
       "    }\n",
       "\n",
       "    .dataframe tbody tr th {\n",
       "        vertical-align: top;\n",
       "    }\n",
       "\n",
       "    .dataframe thead th {\n",
       "        text-align: right;\n",
       "    }\n",
       "</style>\n",
       "<table border=\"1\" class=\"dataframe\">\n",
       "  <thead>\n",
       "    <tr style=\"text-align: right;\">\n",
       "      <th></th>\n",
       "      <th>Population density (km2)</th>\n",
       "    </tr>\n",
       "  </thead>\n",
       "  <tbody>\n",
       "    <tr>\n",
       "      <th>159-99999 Rural areas</th>\n",
       "      <td>1.8</td>\n",
       "    </tr>\n",
       "  </tbody>\n",
       "</table>\n",
       "</div>"
      ],
      "text/plain": [
       "                       Population density (km2)\n",
       "159-99999 Rural areas                       1.8"
      ]
     },
     "execution_count": 41,
     "metadata": {},
     "output_type": "execute_result"
    }
   ],
   "source": [
    "# check what is being measured\n",
    "# https://www.statbank.dk/statbank5a/Graphics/mapanalyser.asp?maintable=BY3&lang=1\n",
    "df[df.index.str.contains('159-99999')]"
   ]
  }
 ],
 "metadata": {
  "kernelspec": {
   "display_name": "graphs",
   "language": "python",
   "name": "python3"
  },
  "language_info": {
   "codemirror_mode": {
    "name": "ipython",
    "version": 3
   },
   "file_extension": ".py",
   "mimetype": "text/x-python",
   "name": "python",
   "nbconvert_exporter": "python",
   "pygments_lexer": "ipython3",
   "version": "3.9.7"
  },
  "orig_nbformat": 4
 },
 "nbformat": 4,
 "nbformat_minor": 2
}
