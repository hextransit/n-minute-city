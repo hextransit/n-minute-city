{
 "cells": [
  {
   "cell_type": "code",
   "execution_count": null,
   "metadata": {},
   "outputs": [],
   "source": [
    "import pandas as pd"
   ]
  },
  {
   "attachments": {},
   "cell_type": "markdown",
   "metadata": {},
   "source": [
    "# Explore Population Density and Sample Danish Municipalities"
   ]
  },
  {
   "cell_type": "code",
   "execution_count": null,
   "metadata": {},
   "outputs": [],
   "source": [
    "# https://www.statbank.dk/statbank5a/default.asp?w=1440\n",
    "# selected all kommunes and population density 2022\n",
    "\n",
    "# code for municipality is the first 3 digits of index\n",
    "# in order to identify the municipality you need to find other towns with the same code\n",
    "# then use the map above to find which municipality it is. "
   ]
  },
  {
   "cell_type": "code",
   "execution_count": null,
   "metadata": {},
   "outputs": [],
   "source": [
    "df = pd.read_csv('../resources/denmark_pop_and_density.csv', encoding='latin-1')"
   ]
  },
  {
   "cell_type": "code",
   "execution_count": null,
   "metadata": {},
   "outputs": [],
   "source": [
    "# split strings in columns into two new columns\n",
    "df[['municipality_code', 'specific_area_name']] = df['area_name'].str.split('-', expand=True)[[0,1]]"
   ]
  },
  {
   "cell_type": "code",
   "execution_count": null,
   "metadata": {},
   "outputs": [],
   "source": [
    "# group by municipality and divide the total population by the total area\n",
    "\n",
    "df_density = pd.DataFrame([(k, v['Population'].sum(), v['Population'].sum()/v['Area (km2)'].sum())\\\n",
    "                            for k,v in df.groupby('municipality_code')],\n",
    "                          columns=['municipality_code', 'population', 'population_density'])\n",
    "\n",
    "df_density.dropna(inplace=True)\n",
    "df_density.sort_values('population_density', ascending=False, inplace=True)\n",
    "\n",
    "df_density.plot(kind='scatter', x='population', y='population_density', figsize=(5,5))"
   ]
  },
  {
   "cell_type": "code",
   "execution_count": null,
   "metadata": {},
   "outputs": [],
   "source": [
    "print(df_density['municipality_code'].unique().shape)\n",
    "df_density['population_density'].describe()"
   ]
  },
  {
   "cell_type": "code",
   "execution_count": null,
   "metadata": {},
   "outputs": [],
   "source": [
    "df_density['population_density'].median()"
   ]
  },
  {
   "cell_type": "code",
   "execution_count": null,
   "metadata": {},
   "outputs": [],
   "source": [
    "# get quantiles from the population density and use them to create a new column\n",
    "# with the population density category\n",
    "df_density['population_density_quantile'] = pd.qcut(df_density['population_density'], 5, labels=[5,4,3,2,1])"
   ]
  },
  {
   "cell_type": "code",
   "execution_count": null,
   "metadata": {},
   "outputs": [],
   "source": [
    "# sample 3 municipalities from each quantile\n",
    "municips = [v.municipality_code.sample(3, random_state=42).values\\\n",
    "             for k,v in df_density.groupby('population_density_quantile')]\n",
    "\n",
    "# flatten the list\n",
    "municips = [item for sublist in municips for item in sublist]"
   ]
  },
  {
   "cell_type": "code",
   "execution_count": null,
   "metadata": {},
   "outputs": [],
   "source": [
    "df_density.sort_values('population_density', ascending=False)"
   ]
  },
  {
   "cell_type": "code",
   "execution_count": null,
   "metadata": {},
   "outputs": [],
   "source": [
    "code_mappings: dict = {\n",
    "    '846': 'Mariagerfjord Kommune',\n",
    "    '741': 'Samsø Kommune',\n",
    "    '760': 'Ringkøbing-Skjern Kommune',\n",
    "    '710': 'Favrskov Kommune',\n",
    "    '480': 'Nordfyns Kommune',\n",
    "    '492': 'Ærø Kommune',\n",
    "    '270': 'Gribskov Kommune',\n",
    "    '730': 'Randers Kommune',\n",
    "    '450': 'Nyborg Kommune',\n",
    "    '169': 'Høje-Taastrup Kommune',\n",
    "    '621': 'Kolding Kommune',\n",
    "    '250': 'Frederikssund Kommune',\n",
    "    '147': 'Frederiksberg Kommune',\n",
    "    '230': 'Rudersdal Kommune',\n",
    "    '155': 'Dragør Kommune',\n",
    "    '101': 'København Kommune',\n",
    "    '147': 'Frederiksberg Kommune',\n",
    "    '825': 'Læsø Kommune',\n",
    "    '550': 'Tønder Kommune',\n",
    "    '665': 'Lemvig Kommune',\n",
    "    '760': 'Ringkøbing-Skjern Kommune'\n",
    "}\n",
    "# map the codes to the municipality names in the dataframe\n",
    "df_density['municipality'] = df_density['municipality_code'].map(code_mappings)\n",
    "df_density[df_density['municipality'].notna()].sort_values(\n",
    "    'population_density', ascending=False)\\\n",
    "        .to_csv('../resources/denmark_pop_density_sample.csv', index=False)"
   ]
  },
  {
   "cell_type": "code",
   "execution_count": null,
   "metadata": {},
   "outputs": [],
   "source": [
    "df.sort_values(by='Population density (km2)', ascending=False, inplace=True)\n",
    "df = df[df['Population density (km2)']!=0]\n",
    "# remove rows with \"rural areas\" in index\n",
    "#df = df[~df.index.str.contains('Rural areas')]"
   ]
  }
 ],
 "metadata": {
  "kernelspec": {
   "display_name": "graphs",
   "language": "python",
   "name": "python3"
  },
  "language_info": {
   "codemirror_mode": {
    "name": "ipython",
    "version": 3
   },
   "file_extension": ".py",
   "mimetype": "text/x-python",
   "name": "python",
   "nbconvert_exporter": "python",
   "pygments_lexer": "ipython3",
   "version": "3.9.7"
  },
  "orig_nbformat": 4
 },
 "nbformat": 4,
 "nbformat_minor": 2
}
