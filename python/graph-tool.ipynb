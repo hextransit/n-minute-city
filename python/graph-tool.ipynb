{
 "cells": [
  {
   "cell_type": "markdown",
   "metadata": {},
   "source": [
    "# The n-minute city\n",
    "\n",
    "\n",
    "<mark>Warning: This notebook is memory-intensive</mark>\n",
    "| Region | required RAM |\n",
    "| --- | --- |\n",
    "| Copenhagen | 10 GB |\n",
    "| Denmark | 60 GB |"
   ]
  },
  {
   "cell_type": "code",
   "execution_count": null,
   "metadata": {},
   "outputs": [],
   "source": [
    "# imports\n",
    "import gc\n",
    "import graph_tool as gt\n",
    "import graph_tool.topology\n",
    "import graph_tool.search\n",
    "import graph_tool.stats\n",
    "import numpy as np\n",
    "import pandas as pd\n",
    "import geopandas as gpd\n",
    "import gtfs_kit as gtfs\n",
    "import shapely as shp\n",
    "import pydeck as pdk\n",
    "import datetime\n",
    "import random\n",
    "from tqdm import tqdm\n",
    "import gc\n",
    "\n",
    "import seaborn as sns\n",
    "\n",
    "\n",
    "from lets_plot import *\n",
    "LetsPlot.setup_html()\n",
    "\n",
    "import matplotlib.pyplot as plt\n",
    "\n",
    "from pyrosm import OSM, get_data\n",
    "\n",
    "from numpy import uint64"
   ]
  },
  {
   "cell_type": "code",
   "execution_count": null,
   "metadata": {},
   "outputs": [],
   "source": [
    "# H3-related helper functions\n",
    "from h3ronpy.op import *\n",
    "from h3ronpy import vector, util\n",
    "import h3.api.numpy_int as h3 \n",
    "\n",
    "H3_RES = 12\n",
    "h3_set = set()\n",
    "\n",
    "def coord_to_h3(lat, lon):\n",
    "    h3_index = h3.geo_to_h3(lat, lon, H3_RES)\n",
    "    h3_set.add(h3_index)\n",
    "    return h3_index\n",
    "\n",
    "\n",
    "# GTFS config\n",
    "dates = [\"20221007\"]"
   ]
  },
  {
   "cell_type": "markdown",
   "metadata": {},
   "source": [
    "## GTFS data processing\n",
    "We are processing the rejseplanen GTFS file, which includes all public transit in Denmark\n",
    "\n",
    "* add the H3 index to each stop using the `coord_to_h3` function + save encountered H3 indices in a set\n",
    "* calculate headways for each route using the `compute_route_stats` function\n",
    "* compute the list of stops for each route (this seems to be expensive and take quite a while)"
   ]
  },
  {
   "cell_type": "code",
   "execution_count": null,
   "metadata": {},
   "outputs": [],
   "source": [
    "# load GTFS data and convert stops to H3\n",
    "\n",
    "gtfs_data = gtfs.feed.read_feed(\"../resources/rejseplanen\", dist_units='m')\n",
    "# add H3 information to stops\n",
    "gtfs_data.stops['h3'] = gtfs_data.stops.apply(lambda row: coord_to_h3(row['stop_lat'], row['stop_lon']), axis=1)\n",
    "print(f\"added {len(h3_set)} h3 cells from GTFS data\")"
   ]
  },
  {
   "cell_type": "code",
   "execution_count": null,
   "metadata": {},
   "outputs": [],
   "source": [
    "gtfs_data = gtfs.create_shapes(gtfs_data, all_trips=True)"
   ]
  },
  {
   "cell_type": "code",
   "execution_count": null,
   "metadata": {},
   "outputs": [],
   "source": [
    "%%capture\n",
    "# for each route and stop, calculate min, max and avg headways at each stop\n",
    "# separate trips by mode (each mode will be a separate layer in the graph)\n",
    "routes_geo = gtfs.routes.geometrize_routes(gtfs_data, split_directions=True)\n",
    "trip_stats = gtfs.trips.compute_trip_stats(gtfs_data)\n",
    "route_stats = gtfs.routes.compute_route_stats(gtfs_data, trip_stats, dates, split_directions=True, headway_start_time=\"05:00:00\", headway_end_time=\"23:00:00\")\n",
    "route_stats = pd.merge(route_stats, routes_geo[[\"route_id\", \"direction_id\", \"geometry\", \"agency_id\"]], on=[\"route_id\", \"direction_id\"])\n"
   ]
  },
  {
   "cell_type": "code",
   "execution_count": null,
   "metadata": {},
   "outputs": [],
   "source": [
    "def geom_to_h3_list (geom: shp.geometry.LineString | shp.geometry.MultiLineString):\n",
    "    if type(geom) == shp.geometry.LineString:\n",
    "        return [coord_to_h3(lat, lon) for (lon, lat) in geom.coords]\n",
    "    elif type(geom) == shp.geometry.MultiLineString:\n",
    "        # flatten list of lists\n",
    "        return [geom_to_h3_list(g) for g in geom]\n",
    "    else:\n",
    "        return []"
   ]
  },
  {
   "cell_type": "code",
   "execution_count": null,
   "metadata": {},
   "outputs": [],
   "source": [
    "route_stats['stop_list'] = route_stats['geometry'].apply(lambda row: geom_to_h3_list(row))"
   ]
  },
  {
   "cell_type": "markdown",
   "metadata": {},
   "source": [
    "sanitize route types a bit"
   ]
  },
  {
   "cell_type": "code",
   "execution_count": null,
   "metadata": {},
   "outputs": [],
   "source": [
    "def change_route_type(route_type: int) -> int:\n",
    "    match route_type:\n",
    "        case 109 | 1:\n",
    "            # metro & stog\n",
    "            return 1\n",
    "        case 700 | 715 | 3:\n",
    "            # bus\n",
    "            return 3\n",
    "        case 2:\n",
    "            # train\n",
    "            return 2\n",
    "        case _:\n",
    "            # other\n",
    "            return 4\n",
    "\n",
    "route_stats[\"route_type\"] = route_stats[\"route_id\"].apply(lambda row: change_route_type(gtfs_data.routes.loc[gtfs_data.routes['route_id'] == row]['route_type'].values[0]))"
   ]
  },
  {
   "cell_type": "markdown",
   "metadata": {},
   "source": [
    "convert arrival and departure times to from strings to timestamps"
   ]
  },
  {
   "cell_type": "code",
   "execution_count": null,
   "metadata": {},
   "outputs": [],
   "source": [
    "time_format = \"%H:%M:%S\"\n",
    "\n",
    "trip_selection = gtfs_data.get_trips(date=dates[0])\n",
    "stop_time_selection = gtfs_data.get_stop_times(date=dates[0])\n",
    "stop_time_selection['departure_time'] = pd.to_datetime(stop_time_selection['departure_time'], format=time_format, exact=False)\n",
    "stop_time_selection['arrival_time'] = pd.to_datetime(stop_time_selection['arrival_time'], format=time_format, exact=False)\n",
    "stop_time_selection = stop_time_selection.merge(gtfs_data.stops[[\"stop_id\", \"h3\"]], on=\"stop_id\")[[\"trip_id\", \"stop_id\", \"h3\", \"departure_time\", \"arrival_time\", \"stop_sequence\"]]\n",
    "\n",
    "print(stop_time_selection.columns)"
   ]
  },
  {
   "cell_type": "markdown",
   "metadata": {},
   "source": [
    "get the distance between stops in minutes"
   ]
  },
  {
   "cell_type": "code",
   "execution_count": null,
   "metadata": {},
   "outputs": [],
   "source": [
    "# add stop_time information to trips\n",
    "trip_selection_grouped = trip_selection.merge(stop_time_selection, on=\"trip_id\", how=\"left\").sort_values(\"trip_id\").groupby(\"trip_id\")"
   ]
  },
  {
   "cell_type": "code",
   "execution_count": null,
   "metadata": {},
   "outputs": [],
   "source": [
    "stop_dist_dict = {}\n",
    "\n",
    "for trip_id, stop_times in tqdm(trip_selection_grouped):\n",
    "    stop_times = stop_times.sort_values(by=\"stop_sequence\", ascending=True)\n",
    "    prev = None\n",
    "    for six, stop in stop_times.iterrows():\n",
    "        if prev is not None:\n",
    "            sequence_id = (prev[\"h3\"], stop[\"h3\"])\n",
    "            time_diffence = stop[\"arrival_time\"] - prev[\"departure_time\"]\n",
    "            time_diffence = abs(time_diffence.total_seconds() / 60.0)\n",
    "            if sequence_id in stop_dist_dict:\n",
    "                if time_diffence < stop_dist_dict[sequence_id]:\n",
    "                    stop_dist_dict[sequence_id] = time_diffence\n",
    "            else:\n",
    "                stop_dist_dict[sequence_id] = time_diffence\n",
    "\n",
    "        prev = stop\n",
    "    "
   ]
  },
  {
   "cell_type": "markdown",
   "metadata": {},
   "source": [
    "## OSM data processing\n",
    "We are using pyrosm to process the OSM data for all of Denmark\n",
    "* Due to ustom filters being broken in pyrosm, we are extracting all Ways and filter them manually using the pandas `query` function\n",
    "* All ways are mapped to a list of H3 indices using the `vector.geodataframe_to_h3` from h3ronpy\n",
    "* The set of unique H3 indicies is updated as well"
   ]
  },
  {
   "cell_type": "code",
   "execution_count": null,
   "metadata": {},
   "outputs": [],
   "source": [
    "# load OSM data using pyrosm\n",
    "osm_cph = OSM(\"../resources/Copenhagen.osm.pbf\")\n",
    "osm = OSM(\"../resources/denmark-latest.osm.pbf\")\n",
    "\n",
    "# osm filters are currently broken\n",
    "# osm_keys_to_keep = \"highway\"\n",
    "# filter_type = \"exclude\"\n",
    "# custom_filter = dict(\n",
    "#     area=['yes'],\n",
    "#     highway=[\"motor\", \"proposed\", \"construction\", \"abandoned\", \"platform\", \"raceway\", \"motorway\", \"motorway_link\"],\n",
    "#     walking=[\"no\"],\n",
    "#     service=[\"private\"],\n",
    "#     access=[\"private\", \"no\"],\n",
    "#     landuse=[\"military\"]    \n",
    "# )\n",
    "# walk_net = osm_cph.get_data_by_custom_criteria(custom_filter, osm_keys_to_keep=osm_keys_to_keep, filter_type=filter_type, tags_as_columns=[])"
   ]
  },
  {
   "cell_type": "code",
   "execution_count": null,
   "metadata": {},
   "outputs": [],
   "source": [
    "# get all ways & filter later\n",
    "# walk_net = osm.get_network(\"all\")\n",
    "base_net = osm_cph.get_network(\"all\")\n",
    "\n",
    "print(base_net.columns)"
   ]
  },
  {
   "cell_type": "code",
   "execution_count": null,
   "metadata": {},
   "outputs": [],
   "source": [
    "base_net_reduced = base_net[['geometry', 'length', 'access', 'bicycle', 'bicycle_road', 'foot', 'footway', 'highway', 'cycleway']]\n",
    "\n",
    "del base_net\n",
    "gc.collect();"
   ]
  },
  {
   "cell_type": "code",
   "execution_count": null,
   "metadata": {},
   "outputs": [],
   "source": [
    "# perform manual filtering using pandas query function\n",
    "walk_net_selection = base_net_reduced.query(' \\\n",
    "        access != \"private\" and access != \"no\" and \\\n",
    "        foot != \"no\" and foot != \"private\" and \\\n",
    "        highway != \"motorway\" and highway != \"motorway_link\" and highway != \"prohibited\" and \\\n",
    "        highway != \"trunk\" and highway != \"trunk_link\" and highway != \"construction\" \\\n",
    "    ')\n",
    "\n",
    "bike_net_selection = base_net_reduced.query(' \\\n",
    "        access != \"private\" and access != \"no\" and \\\n",
    "        bicycle != \"no\" and bicycle != \"private\" and bicycle != \"none\" and \\\n",
    "        highway != \"motorway\" and highway != \"motorway_link\" and highway != \"prohibited\" and \\\n",
    "        highway != \"trunk\" and highway != \"trunk_link\" and highway != \"construction\" and \\\n",
    "        cycleway != \"no\" and  cycleway != \"none\" and cycleway != \"shared\" and \\\n",
    "        (cycleway == cycleway or bicycle_road == bicycle_road or bicycle == bicycle) \\\n",
    "    ')"
   ]
  },
  {
   "cell_type": "code",
   "execution_count": null,
   "metadata": {},
   "outputs": [],
   "source": [
    "# illustrate way to H3 conversion\n",
    "\n",
    "# choose random way\n",
    "way = walk_net_selection.sample(1).copy()[[\"geometry\", \"length\"]]\n",
    "way_h3s = vector.geodataframe_to_h3(way, h3_resolution=H3_RES)\n",
    "\n",
    "# get polygons for each H3\n",
    "way_h3s['geometry'] = way_h3s['h3index'].apply(lambda row: shp.geometry.Polygon(h3.h3_to_geo_boundary(row, geo_json=True)))\n",
    "way_h3s = gpd.GeoDataFrame(way_h3s)\n",
    "\n",
    "ggplot() + \\\n",
    "    geom_polygon(data=way_h3s) + \\\n",
    "    geom_path(data=way, color=\"red\", size=2) + \\\n",
    "    coord_fixed(ratio=1) + \\\n",
    "    theme_classic()"
   ]
  },
  {
   "cell_type": "code",
   "execution_count": null,
   "metadata": {},
   "outputs": [],
   "source": [
    "print(f\"paths in walk_network: {len(walk_net_selection)}\")\n",
    "print(f\"paths in bike_network: {len(bike_net_selection)}\")\n",
    "h3s_walk = vector.geodataframe_to_h3(walk_net_selection, h3_resolution=H3_RES)\n",
    "h3s_bike = vector.geodataframe_to_h3(bike_net_selection, h3_resolution=H3_RES)\n",
    "print(f\"number of h3 indices from walk_network: {len(h3s_walk)}\")\n",
    "print(f\"number of h3 indices from bike_network: {len(h3s_bike)}\")\n",
    "h3s_walk = set(h3s_walk['h3index'])\n",
    "h3s_bike = set(h3s_bike['h3index'])\n",
    "print(f\"number of unique h3 indices from walk_network: {len(h3s_walk)}\")\n",
    "print(f\"number of unique h3 indices from bike_network: {len(h3s_bike)}\")\n",
    "\n",
    "# update set of H3 cells\n",
    "h3_set.update(h3s_walk)"
   ]
  },
  {
   "cell_type": "markdown",
   "metadata": {},
   "source": [
    "## Graph construction\n",
    "We are using the `graph_tool` library to construct the graph\n",
    "* The graph is directed and mulit-layered\n",
    "* The main layer represents the walking network\n",
    "* each mode of transit is then added as a separate layer"
   ]
  },
  {
   "cell_type": "code",
   "execution_count": null,
   "metadata": {},
   "outputs": [],
   "source": [
    "# create empty graph\n",
    "g = gt.Graph(directed=True)\n",
    "\n",
    "# setup edges\n",
    "# each edge has the form source, target, weight, where source and target are strings consiting of the layer and the H3 index as hex string\n",
    "edges = []\n",
    "\n",
    "layer_colors = {\n",
    "    0: [150, 79, 201, 79], # walk\n",
    "    1: [158, 38, 21, 128],  # metro + s-tog\n",
    "    2: [128, 124, 252, 99],# train\n",
    "    3: [253, 235, 187, 99],# bus\n",
    "    4: [201, 156, 79, 79], # other transit\n",
    "    5: [255, 255, 255, 64],# bike\n",
    "    9: [255, 255, 255, 128]# reserved (not used)\n",
    "}\n",
    "\n",
    "def create_node_index(h3_index: int, layer: int, route_id: str = \"\") -> str:\n",
    "    return f\"{layer}-{hex(h3_index)}-{route_id}\""
   ]
  },
  {
   "cell_type": "markdown",
   "metadata": {},
   "source": [
    "* average hexagon diagonal length in meters: 20m\n",
    "* average walk speed: 1.4 m/s\n",
    "* average bike speed: 4.5 m/s\n",
    "* time to walk across hexagon: 20m / 1.4m/s = 14s = 0.23 min\n",
    "* time to bike across hexagon: 20m / 4.5m/s = 4.4s = 0.07 min"
   ]
  },
  {
   "cell_type": "code",
   "execution_count": null,
   "metadata": {},
   "outputs": [],
   "source": [
    "# walk network uses k-rings to connect to neighboring H3 cells\n",
    "cell_walk_time = 0.23 # minutes\n",
    "for h3_index in tqdm(h3_set):\n",
    "    source_id = create_node_index(h3_index, 0)\n",
    "    k_ring = h3.hex_ring(h3_index)\n",
    "    for neighbor in k_ring:\n",
    "        if neighbor in h3_set:\n",
    "            target_id = create_node_index(neighbor, 0)\n",
    "            edges.append([source_id, target_id, cell_walk_time])\n",
    "\n",
    "print(f\"nr of edges after adding walk network: {len(edges)}\")"
   ]
  },
  {
   "cell_type": "code",
   "execution_count": null,
   "metadata": {},
   "outputs": [],
   "source": [
    "# add bike network\n",
    "# works similar to walk network, but uses a different time & is connected to the walk network\n",
    "cell_bike_time = 0.07 # minutes\n",
    "for h3_index in tqdm(h3s_bike):\n",
    "    k_ring = h3.hex_ring(h3_index)\n",
    "    source_id = create_node_index(h3_index, 5)\n",
    "    for neighbor in k_ring:\n",
    "        if neighbor in h3s_bike:\n",
    "            target_id = create_node_index(neighbor, 5)\n",
    "            edges.append([source_id, target_id, cell_bike_time])\n",
    "    # connection to walk network\n",
    "    walk_id = create_node_index(h3_index, 0)\n",
    "\n",
    "    edges.append([source_id, walk_id, 0.5])\n",
    "    edges.append([walk_id, source_id, 1.0])\n"
   ]
  },
  {
   "cell_type": "code",
   "execution_count": null,
   "metadata": {},
   "outputs": [],
   "source": [
    "# add transit network\n",
    "# uses the stopsequence from GTFS and the average time between stops as the weight (for now)\n",
    "# TODO: calculate the actual time between any two consecutive stops on a route\n",
    "for idx, row in tqdm(route_stats.iterrows()):\n",
    "    # stop_lists are sometimes nested, because of branching lines\n",
    "    if len(row['stop_list']) == 0:\n",
    "        continue\n",
    "    if type(row['stop_list'][0]) != list:\n",
    "        stop_list = [row['stop_list']]\n",
    "    else:\n",
    "        stop_list = row['stop_list']\n",
    "\n",
    "    route_id = row['route_id']\n",
    "    route_type = row['route_type']   \n",
    "    \n",
    "    for collection in stop_list:\n",
    "        if len(collection) < 2:\n",
    "            continue\n",
    "        if row['direction_id'] == 1:\n",
    "           collection = collection[::-1]\n",
    "        nr_stops = len(collection)\n",
    "        for i in range(nr_stops - 1):\n",
    "            # add transit lines, adding the route_id to the node index effectively results in a unique layer for each line\n",
    "            source_id = create_node_index(collection[i], route_type, route_id)\n",
    "            target_id = create_node_index(collection[i+1], route_type, route_id)\n",
    "            try:\n",
    "                time = stop_dist_dict[(collection[i], collection[i+1])]\n",
    "            except KeyError:\n",
    "                try: \n",
    "                    time = stop_dist_dict[(collection[i+1], collection[i])]\n",
    "                except KeyError:\n",
    "                    time = 60.0\n",
    "            edges.append([source_id, target_id, time])\n",
    "        \n",
    "        for stop in collection:\n",
    "            # add connections between layers\n",
    "            # ensure to not add duplicate connections\n",
    "            source_id = create_node_index(stop, route_type, route_id)\n",
    "            target_id = create_node_index(stop, 0)\n",
    "            edges.append([target_id, source_id, row[\"mean_headway\"] / 2.0]) # avg wait time is half the headway\n",
    "            # TODO: decide time to leave stop based on route_type\n",
    "            edges.append([source_id, target_id, 1.0]) # time to leave the stop & get back to the walk network is currently set at one minute\n",
    "\n"
   ]
  },
  {
   "cell_type": "code",
   "execution_count": null,
   "metadata": {},
   "outputs": [],
   "source": [
    "# add all edges\n",
    "edge_weights = g.new_edge_property(\"double\")\n",
    "vertex_properties = g.add_edge_list(edges, eprops=[edge_weights], hashed=True)\n",
    "print(f\"number of vertices: {g.num_vertices()}, number of edges: {g.num_edges()}\")"
   ]
  },
  {
   "cell_type": "code",
   "execution_count": null,
   "metadata": {},
   "outputs": [],
   "source": [
    "largest = gt.topology.extract_largest_component(g, directed=False)\n",
    "\n",
    "parallel_edges = largest.new_edge_property(\"int\")\n",
    "gt.stats.label_parallel_edges(largest, mark_only=True, eprop=parallel_edges)\n",
    "gt.stats.remove_parallel_edges(g)\n",
    "\n",
    "print(f\"number of parallel edges: {parallel_edges.fa.sum()} (removed)\")\n",
    "\n",
    "# remaining_h3s = list(map(lambda x: vertex_properties[x].split(\"-\")[1], largest.vertices()))\n",
    "print(f\"number of vertices in largest component: {largest.num_vertices()}, number of edges in largest component: {largest.num_edges()}\")"
   ]
  },
  {
   "cell_type": "markdown",
   "metadata": {},
   "source": [
    "## Graph testing"
   ]
  },
  {
   "cell_type": "code",
   "execution_count": null,
   "metadata": {},
   "outputs": [],
   "source": [
    "def get_path(graph, weights, vprops, source, target):\n",
    "    path = gt.topology.shortest_path(graph, source, target, weights)\n",
    "    distance = gt.topology.shortest_distance(graph, source, target, weights)\n",
    "\n",
    "    path_indices = []\n",
    "    for v in path[0]:\n",
    "        path_indices.append(vprops[v].split(\"-\"))\n",
    "\n",
    "    path_indices_df = gpd.GeoDataFrame(path_indices, columns=['layer','h3index', 'route_id'])\n",
    "    path_indices_df['color'] = path_indices_df['layer'].apply(lambda x: layer_colors[int(x)])\n",
    "    path_indices_df['geometry'] = path_indices_df['h3index'].apply(lambda x: shp.geometry.Point(h3.h3_to_geo(int(x, 16))[::-1]))\n",
    "    path_indices_df['x'] = path_indices_df['geometry'].apply(lambda x: x.x)\n",
    "    path_indices_df['y'] = path_indices_df['geometry'].apply(lambda x: x.y)\n",
    "\n",
    "    return path_indices_df, distance\n"
   ]
  },
  {
   "cell_type": "code",
   "execution_count": null,
   "metadata": {},
   "outputs": [],
   "source": [
    "# get two random vertices\n",
    "source = random.choice(list(largest.vertices()))\n",
    "target = random.choice(list(largest.vertices()))\n",
    "print(f\"source: {vertex_properties[source]}, target: {vertex_properties[target]}\")\n",
    "\n",
    "\n",
    "path_indices_df, distance = get_path(largest, edge_weights, vertex_properties, source, target)\n",
    "print(f\"distance: {distance} minutes\")\n",
    "print(\"routes used: \", path_indices_df['route_id'].unique(), \"modes of transit used: \", path_indices_df['layer'].unique())\n",
    "\n",
    "view_state = pdk.ViewState(latitude=55.676098, longitude=12.568337, zoom=10)\n",
    "plot = pdk.Deck(layers=[pdk.Layer(\"H3HexagonLayer\", data=path_indices_df, get_hexagon=\"h3index\", get_line_color=\"color\", filled=True,\n",
    "    extruded=False,line_width_min_pixels=10, get_fill_color=\"color\", pickable=True\n",
    "), pdk.Layer(\"PathLayer\", data=path_indices_df)], initial_view_state=view_state)\n",
    "plot.to_html(\"test_plot.html\")"
   ]
  },
  {
   "cell_type": "code",
   "execution_count": null,
   "metadata": {},
   "outputs": [],
   "source": [
    "ggplot() + \\\n",
    "    geom_livemap() + \\\n",
    "    geom_path(data=path_indices_df, mapping=aes(fill='color', x='x', y='y')) + \\\n",
    "    geom_point(data=path_indices_df, mapping=aes(x='x', y='y', color='layer'))\n",
    "    "
   ]
  },
  {
   "cell_type": "markdown",
   "metadata": {},
   "source": [
    "## Experiments\n",
    "\n",
    "get all vertices within n minutes from the source"
   ]
  },
  {
   "cell_type": "code",
   "execution_count": null,
   "metadata": {},
   "outputs": [],
   "source": [
    "# max distance in minutes\n",
    "max_dist = 60.0"
   ]
  },
  {
   "cell_type": "code",
   "execution_count": null,
   "metadata": {},
   "outputs": [],
   "source": [
    "# get some POIs\n",
    "copenhagen_h = h3.geo_to_h3(55.67330421387207, 12.565949865641123, H3_RES)\n",
    "itu = h3.geo_to_h3(55.66020636308543, 12.591662483469499, H3_RES)\n",
    "søborg = h3.geo_to_h3(55.73587066279623, 12.51136446252421, H3_RES)\n",
    "\n",
    "copenhagen_h_index = create_node_index(copenhagen_h, 0)\n",
    "itu_index = create_node_index(itu, 0)\n",
    "søborg_index = create_node_index(søborg, 0)\n",
    "\n",
    "copenhagen_h_vertex = None\n",
    "itu_vertex = None\n",
    "søborg_vertex = None\n",
    "\n",
    "# find vertex\n",
    "for idx, v_prop in enumerate(vertex_properties):\n",
    "    if v_prop == copenhagen_h_index:\n",
    "        copenhagen_h_vertex = idx\n",
    "    if v_prop == itu_index:\n",
    "        itu_vertex = idx\n",
    "    if v_prop == søborg_index:\n",
    "        søborg_vertex = idx\n",
    "\n",
    "print(f\"copenhagen h index: {copenhagen_h_vertex}, itu index: {itu_vertex}, søborg index: {søborg_vertex}\")"
   ]
  },
  {
   "cell_type": "code",
   "execution_count": null,
   "metadata": {},
   "outputs": [],
   "source": [
    "source = copenhagen_h_vertex\n",
    "print(f\"source: {vertex_properties[source]}\")\n",
    "\n",
    "dist_map = largest.new_vertex_property(\"double\")\n",
    "\n",
    "dist_map, _ = gt.search.astar_search(largest, source=source, weight=edge_weights, visitor=gt.search.AStarVisitor(), infinity=max_dist*1.2, dist_map=dist_map)"
   ]
  },
  {
   "cell_type": "code",
   "execution_count": null,
   "metadata": {},
   "outputs": [],
   "source": [
    "res_for_plot = []\n",
    "for v in largest.vertices():\n",
    "    distance = dist_map[v]\n",
    "    [layer, index, route] = vertex_properties[v].split(\"-\")\n",
    "    if distance <= max_dist:\n",
    "        res_for_plot.append([index, distance, layer])\n",
    "\n",
    "res_for_plot_df = gpd.GeoDataFrame(res_for_plot, columns=['h3index', 'dist', 'layer'])\n",
    "res_for_plot_df['geometry'] = res_for_plot_df['h3index'].apply(lambda x: shp.geometry.Point(h3.h3_to_geo(int(x, 16))[::-1]))\n",
    "res_for_plot_df['hexagon_shape'] = res_for_plot_df[['h3index', 'layer']].apply(\n",
    "    lambda x: shp.geometry.Polygon(h3.h3_to_geo_boundary(int(x[0], 16), geo_json=True)) if x[1] == '0' or x[1] == '5' else shp.geometry.Polygon(h3.h3_to_geo_boundary(h3.h3_to_parent(int(x[0], 16), 10), geo_json=True)), axis=1)\n",
    "res_for_plot_df['color'] = res_for_plot_df['dist'].apply(lambda x: [int(255 * (1 - x / max_dist)), int(255 * (1 - x / max_dist)), x])\n",
    "res_for_plot_df['x'] = res_for_plot_df['geometry'].apply(lambda x: x.x)\n",
    "res_for_plot_df['y'] = res_for_plot_df['geometry'].apply(lambda x: x.y)\n",
    "\n",
    "# view_state = pdk.ViewState(latitude=55.676098, longitude=12.568337, zoom=10)\n",
    "# reach_plot = pdk.Deck(layers=[pdk.Layer(\"H3HexagonLayer\", data=res_for_plot_df, get_hexagon=\"h3index\", get_fill_color=\"color\", get_line_color=\"color\", filled=True,\n",
    "#     extruded=False, line_width_min_pixels=1\n",
    "# )], initial_view_state=view_state)\n",
    "# reach_plot.to_html(\"test_plot.html\")"
   ]
  },
  {
   "cell_type": "markdown",
   "metadata": {},
   "source": [
    "Plot 1: Travel time from Københavns Hovedbanegård to all other points in the city"
   ]
  },
  {
   "cell_type": "code",
   "execution_count": null,
   "metadata": {},
   "outputs": [],
   "source": [
    "# scatter plot of points\n",
    "scatter_df = res_for_plot_df[['x', 'y', 'dist', 'layer']].query(\"layer == '0'\").sample(frac = 1)\n",
    "\n",
    "fig, ax = plt.subplots(1, 1, figsize=(12, 9))\n",
    "\n",
    "ax.set_xlim(12.35, 12.7)\n",
    "ax.set_ylim(55.55, 55.8)\n",
    "\n",
    "\n",
    "ax.set_title(\"travel time from København H\")\n",
    "pts = ax.scatter(x=scatter_df['x'], y=scatter_df['y'], c=scatter_df['dist'], cmap=\"inferno_r\", s=5, vmin=0, vmax=50)\n",
    "\n",
    "plt.colorbar(pts)"
   ]
  },
  {
   "cell_type": "code",
   "execution_count": null,
   "metadata": {},
   "outputs": [],
   "source": [
    "# save df if neccessary\n",
    "# scatter_df.reset_index().to_feather(\"scatter_df.feather\")"
   ]
  },
  {
   "cell_type": "code",
   "execution_count": null,
   "metadata": {},
   "outputs": [],
   "source": [
    "layer_plot_order = {\n",
    "    \"0\": 0,\n",
    "    \"1\": 4,\n",
    "    \"2\": 5,\n",
    "    \"3\": 2,\n",
    "    \"4\": 3,\n",
    "    \"5\": 1,\n",
    "}"
   ]
  },
  {
   "cell_type": "code",
   "execution_count": null,
   "metadata": {},
   "outputs": [],
   "source": [
    "res_for_plot_df['layer'] = res_for_plot_df['layer'].apply(lambda x: layer_plot_order[x])\n",
    "lp_df = gpd.GeoDataFrame(res_for_plot_df[['dist','hexagon_shape', 'layer']].sort_values(by='layer', ascending=True))\n",
    "lp_df.rename({'hexagon_shape': 'geometry'}, axis=1, inplace=True)"
   ]
  },
  {
   "cell_type": "code",
   "execution_count": null,
   "metadata": {},
   "outputs": [],
   "source": [
    "fig, ax = plt.subplots(1, 1,  figsize=(12,12))\n",
    "ax.set_xlim(12.35, 12.70)\n",
    "ax.set_ylim(55.55, 55.75)\n",
    "ax.set_title(\"Multilayer H3 network for Copenhagen\")\n",
    "# ax.set_box_aspect(1)\n",
    "ax.tick_params(bottom=False, left=False, labelbottom=False, labelleft=False)\n",
    "\n",
    "lp_df.plot(column='layer', cmap='Dark2', vmax=5, ax=ax, legend=False)"
   ]
  },
  {
   "cell_type": "markdown",
   "metadata": {},
   "source": [
    "Plot 2: Travel time density from Københavns Hovedbanegård to all other points in the city, split by destination layer"
   ]
  },
  {
   "cell_type": "code",
   "execution_count": null,
   "metadata": {},
   "outputs": [],
   "source": [
    "# kde plot for travel times, grouped by layer\n",
    "fig, ax = plt.subplots(1, 1)\n",
    "ax.set_xlim(0, 45)\n",
    "ax.set_ylim(0, 0.06)\n",
    "ax.set_xlabel(\"Travel time (minutes)\")\n",
    "ax.set_title(\"Travel time from Copenhagen Central Station\")\n",
    "ax.set_box_aspect(1)\n",
    "sns.kdeplot(data=lp_df.query(\"layer != '4'\"), x='dist', hue='layer', ax=ax, legend=True, fill=True, common_norm=False)"
   ]
  },
  {
   "cell_type": "markdown",
   "metadata": {},
   "source": [
    "Plot 3: Example routing"
   ]
  },
  {
   "cell_type": "code",
   "execution_count": null,
   "metadata": {},
   "outputs": [],
   "source": [
    "path_1, path_1_dist = get_path(largest, edge_weights, vertex_properties, søborg_vertex, itu_vertex)\n",
    "path_2, path_2_dist = get_path(largest, edge_weights, vertex_properties, itu_vertex, copenhagen_h_vertex)"
   ]
  },
  {
   "cell_type": "code",
   "execution_count": null,
   "metadata": {},
   "outputs": [],
   "source": [
    "ggplot() + \\\n",
    "    geom_livemap() + \\\n",
    "    geom_path(data=path_1, mapping=aes(x='x', y='y'), label=\"Søborg -> ITU\", color=\"red\") + \\\n",
    "    geom_point(data=path_1, mapping=aes(x='x', y='y', color='layer'))\n",
    "    # geom_path(data=path_2, mapping=aes(x='x', y='y'), label=\"ITU -> Copenhagen H\", color=\"blue\") + \\\n",
    "    # geom_point(data=path_2, mapping=aes(x='x', y='y', color='layer'))"
   ]
  }
 ],
 "metadata": {
  "kernelspec": {
   "display_name": "graphs",
   "language": "python",
   "name": "python3"
  },
  "language_info": {
   "codemirror_mode": {
    "name": "ipython",
    "version": 3
   },
   "file_extension": ".py",
   "mimetype": "text/x-python",
   "name": "python",
   "nbconvert_exporter": "python",
   "pygments_lexer": "ipython3",
   "version": "3.10.9"
  },
  "orig_nbformat": 4,
  "vscode": {
   "interpreter": {
    "hash": "03e1746e9a381aa8725548cc365b61d565744788a816eb6c9a4ca9e5ef88f3b6"
   }
  }
 },
 "nbformat": 4,
 "nbformat_minor": 2
}
