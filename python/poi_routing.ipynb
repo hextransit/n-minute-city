{
 "cells": [
  {
   "cell_type": "code",
   "execution_count": 1,
   "metadata": {},
   "outputs": [
    {
     "name": "stderr",
     "output_type": "stream",
     "text": [
      "/Users/petermehler/opt/anaconda3/envs/graphs/lib/python3.10/site-packages/geopandas/_compat.py:123: UserWarning: The Shapely GEOS version (3.10.3-CAPI-1.16.1) is incompatible with the GEOS version PyGEOS was compiled with (3.10.4-CAPI-1.16.2). Conversions between both will be slow.\n",
      "  warnings.warn(\n"
     ]
    }
   ],
   "source": [
    "from graph_ds import PyH3Graph\n",
    "from pois_to_h3 import get_pois_h3"
   ]
  },
  {
   "cell_type": "code",
   "execution_count": 2,
   "metadata": {},
   "outputs": [
    {
     "name": "stdout",
     "output_type": "stream",
     "text": [
      "processing osm pbf file: ../resources/copenhagen-processed.osm.pbf\n",
      "converted OSM file into 446019 edges\n",
      "osm graph created with 364511 nodes in 12 s\n",
      "getting GTFS feed from ../resources/rejseplanen_GTFS.zip\n",
      "routes: 1690\n",
      "gtfs graph created with 104882 nodes in 22 s\n",
      "merged graph created with 467241 nodes in 0 s\n"
     ]
    }
   ],
   "source": [
    "graph = PyH3Graph()\n",
    "graph.create(osm_path=\"../resources/copenhagen-processed.osm.pbf\", gtfs_path=\"../resources/rejseplanen_GTFS.zip\")"
   ]
  },
  {
   "cell_type": "code",
   "execution_count": 3,
   "metadata": {},
   "outputs": [
    {
     "name": "stderr",
     "output_type": "stream",
     "text": [
      "/Users/petermehler/opt/anaconda3/envs/graphs/lib/python3.10/site-packages/pyrosm/pyrosm.py:576: ShapelyDeprecationWarning: The array interface is deprecated and will no longer work in Shapely 2.0. Convert the '.coords' to a numpy array instead.\n",
      "  gdf = get_poi_data(\n",
      "/Users/petermehler/opt/anaconda3/envs/graphs/lib/python3.10/site-packages/geopandas/array.py:1406: UserWarning: CRS not set for some of the concatenation inputs. Setting output's CRS as WGS 84 (the single non-null crs provided).\n",
      "  warnings.warn(\n"
     ]
    }
   ],
   "source": [
    "pbf_path = \"../resources/copenhagen-processed.osm.pbf\"\n",
    "\n",
    "# idea: EVERYONE can use it and live a healthy life with this as their only source\n",
    "#check: doctors, clinic, health_food, food\n",
    "#essential filter will be the least restrictive!\n",
    "\n",
    "# frequency arguments - how often do you use these?\n",
    "# no workplace - motivate this... unrealistic to get data, and for people to work within 15 minutes of their homes\n",
    "essential_filter = {\n",
    "    \"amenity\":[\"pharmacy\",\"dentist\",\"clinic\",\"doctors\",\"school\"],\n",
    "    \"shop\":[\"supermarket\",\"greengrocer\",\"medical_supply\",\"grocery\",\"wholesale\"],\n",
    "    \"healthcare\":[\"clinic\",\"doctor\",\"pharmacy\",\"dentist\"],\n",
    "    \"leisure\":[\"park\"], \"sport\":True\n",
    "    }\n",
    "\n",
    "# parameters\n",
    "\n",
    "H3_RES = 12\n",
    "\n",
    "# n minute city must satisfy the following expression based on\n",
    "# the existence of certain tags within n minutes:\n",
    "category_set = set(['pharmacy','park','supermarket','sport', 'education'])\n",
    "\n",
    "# easy use case which is debateably also essential\n",
    "#education_filter = {\"amenity\":[\"school\"]}\n",
    "\n",
    "osm_tag_mapping = {\n",
    "    \"medical_supply\":\"pharmacy\",\n",
    "    \"greengrocer\":\"supermarket\",\n",
    "    \"wholesale\":\"supermarket\",\n",
    "    \"grocery\":\"supermarket\",\n",
    "    \"clinic\":\"doctor\",\n",
    "    \"doctors\":\"doctor\",\n",
    "    'pitch':'sport',\n",
    "    'track':'sport',\n",
    "    'sports_centre':'sport'\n",
    "}\n",
    "\n",
    "h3_df = get_pois_h3(pbf_path, essential_filter, H3_RES, category_set, osm_tag_mapping)"
   ]
  },
  {
   "cell_type": "code",
   "execution_count": 15,
   "metadata": {},
   "outputs": [
    {
     "data": {
      "text/html": [
       "<div>\n",
       "<style scoped>\n",
       "    .dataframe tbody tr th:only-of-type {\n",
       "        vertical-align: middle;\n",
       "    }\n",
       "\n",
       "    .dataframe tbody tr th {\n",
       "        vertical-align: top;\n",
       "    }\n",
       "\n",
       "    .dataframe thead th {\n",
       "        text-align: right;\n",
       "    }\n",
       "</style>\n",
       "<table border=\"1\" class=\"dataframe\">\n",
       "  <thead>\n",
       "    <tr style=\"text-align: right;\">\n",
       "      <th></th>\n",
       "      <th>h3_index</th>\n",
       "      <th>category</th>\n",
       "    </tr>\n",
       "  </thead>\n",
       "  <tbody>\n",
       "    <tr>\n",
       "      <th>0</th>\n",
       "      <td>631049690224658431</td>\n",
       "      <td>supermarket</td>\n",
       "    </tr>\n",
       "    <tr>\n",
       "      <th>1</th>\n",
       "      <td>631049690149925887</td>\n",
       "      <td>supermarket</td>\n",
       "    </tr>\n",
       "    <tr>\n",
       "      <th>3</th>\n",
       "      <td>631049684370441215</td>\n",
       "      <td>supermarket</td>\n",
       "    </tr>\n",
       "    <tr>\n",
       "      <th>4</th>\n",
       "      <td>631049690183383551</td>\n",
       "      <td>supermarket</td>\n",
       "    </tr>\n",
       "    <tr>\n",
       "      <th>6</th>\n",
       "      <td>631049690192976895</td>\n",
       "      <td>supermarket</td>\n",
       "    </tr>\n",
       "    <tr>\n",
       "      <th>...</th>\n",
       "      <td>...</td>\n",
       "      <td>...</td>\n",
       "    </tr>\n",
       "    <tr>\n",
       "      <th>2512</th>\n",
       "      <td>632257233384941567</td>\n",
       "      <td>supermarket</td>\n",
       "    </tr>\n",
       "    <tr>\n",
       "      <th>2512</th>\n",
       "      <td>632257233385001983</td>\n",
       "      <td>supermarket</td>\n",
       "    </tr>\n",
       "    <tr>\n",
       "      <th>2512</th>\n",
       "      <td>632257233384940031</td>\n",
       "      <td>supermarket</td>\n",
       "    </tr>\n",
       "    <tr>\n",
       "      <th>2512</th>\n",
       "      <td>632257233384001023</td>\n",
       "      <td>supermarket</td>\n",
       "    </tr>\n",
       "    <tr>\n",
       "      <th>2512</th>\n",
       "      <td>632257233385004031</td>\n",
       "      <td>supermarket</td>\n",
       "    </tr>\n",
       "  </tbody>\n",
       "</table>\n",
       "<p>1174 rows × 2 columns</p>\n",
       "</div>"
      ],
      "text/plain": [
       "                h3_index     category\n",
       "0     631049690224658431  supermarket\n",
       "1     631049690149925887  supermarket\n",
       "3     631049684370441215  supermarket\n",
       "4     631049690183383551  supermarket\n",
       "6     631049690192976895  supermarket\n",
       "...                  ...          ...\n",
       "2512  632257233384941567  supermarket\n",
       "2512  632257233385001983  supermarket\n",
       "2512  632257233384940031  supermarket\n",
       "2512  632257233384001023  supermarket\n",
       "2512  632257233385004031  supermarket\n",
       "\n",
       "[1174 rows x 2 columns]"
      ]
     },
     "execution_count": 15,
     "metadata": {},
     "output_type": "execute_result"
    }
   ],
   "source": [
    "h3_df[h3_df['category']=='supermarket']"
   ]
  },
  {
   "cell_type": "code",
   "execution_count": null,
   "metadata": {},
   "outputs": [],
   "source": [
    "dist_result = graph.matrix_bfs(origins=[631049690224658431, 631049690149925887], destinations=[631049690149925887, 631049690224658431])"
   ]
  },
  {
   "cell_type": "code",
   "execution_count": 25,
   "metadata": {},
   "outputs": [
    {
     "data": {
      "text/plain": [
       "[[11.345075172999998], [11.129702357249998]]"
      ]
     },
     "execution_count": 25,
     "metadata": {},
     "output_type": "execute_result"
    }
   ],
   "source": [
    "dist_result = graph.matrix_bfs(\n",
    "    origins=[631049690224658431, 631049690149925887], \n",
    "    destinations=[631049690192976895, 631049690183383551])\n",
    "\n",
    "dist_result"
   ]
  },
  {
   "cell_type": "code",
   "execution_count": 6,
   "metadata": {},
   "outputs": [
    {
     "name": "stdout",
     "output_type": "stream",
     "text": [
      "CPU times: user 550 ms, sys: 0 ns, total: 550 ms\n",
      "Wall time: 274 ms\n"
     ]
    }
   ],
   "source": [
    "# if poi is not in the graph, we search with kring size 1, if still not found, return empty list\n",
    "%%time\n",
    "dist_result = graph.matrix_bfs(origins=[631049690224658431, 631049690149925887], destinations=[631049690149925887, 631049690224658431])"
   ]
  },
  {
   "cell_type": "code",
   "execution_count": 7,
   "metadata": {},
   "outputs": [
    {
     "data": {
      "text/plain": [
       "[[10.896716781999999], [5.8967167819999995]]"
      ]
     },
     "execution_count": 7,
     "metadata": {},
     "output_type": "execute_result"
    }
   ],
   "source": [
    "dist_result"
   ]
  }
 ],
 "metadata": {
  "kernelspec": {
   "display_name": "pyrosm_env",
   "language": "python",
   "name": "python3"
  },
  "language_info": {
   "codemirror_mode": {
    "name": "ipython",
    "version": 3
   },
   "file_extension": ".py",
   "mimetype": "text/x-python",
   "name": "python",
   "nbconvert_exporter": "python",
   "pygments_lexer": "ipython3",
   "version": "3.10.9"
  },
  "orig_nbformat": 4,
  "vscode": {
   "interpreter": {
    "hash": "c87c9ac7f0f1b29b44d070892e731be3c5d8f179b83ef5a3b89313b6c13c9337"
   }
  }
 },
 "nbformat": 4,
 "nbformat_minor": 2
}
