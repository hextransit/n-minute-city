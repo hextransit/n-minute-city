{
 "cells": [
  {
   "cell_type": "code",
   "execution_count": 8,
   "metadata": {},
   "outputs": [],
   "source": [
    "from graph_ds import PyH3Graph\n",
    "from pois_to_h3 import get_pois_h3\n",
    "from ghsl_processing import get_origins, city_boundaries_to_h3 \n",
    "\n",
    "import pandas as pd\n",
    "import h3.api.numpy_int as h3\n",
    "import geopandas as gpd\n",
    "import matplotlib.pyplot as plt\n",
    "import contextily as cx\n",
    "import numpy as np\n",
    "import seaborn as sns\n",
    "import pickle\n",
    "\n",
    "\n",
    "def plot_hex_df(df, markersize, color_column=None, color_categorical=False):\n",
    "    df[['y','x']] = list(df['h3_index'].apply(h3.h3_to_geo))\n",
    "    # Convert the pandas DataFrame to a GeoPandas DataFrame with a Point geometry column\n",
    "    gdf = gpd.GeoDataFrame(df, geometry=gpd.points_from_xy(df.x, df.y))\n",
    "\n",
    "    fig, ax = plt.subplots(figsize=(10,10))\n",
    "    # Show the GeoPandas DataFrame\n",
    "\n",
    "    if color_column:\n",
    "        gdf.plot(ax=ax, column=color_column, categorical=color_categorical,\n",
    "                  legend=True, markersize=markersize, alpha=0.5, cmap='Reds',\n",
    "                  vmin=0, vmax=25)\n",
    "    else:\n",
    "        gdf.plot(ax=ax, markersize=markersize, alpha=0.5)\n",
    "\n",
    "    #plt.xlim(12.391681,12.737388)\n",
    "    #plt.ylim(55.549206, 55.759991)\n",
    "\n",
    "    cx.add_basemap(ax = ax, crs=\"EPSG:4326\")\n",
    "    #plt.show()\n",
    "\n",
    "def routing(category_set, origins, destinations, num_origins, graph):\n",
    "    # get residential origins, sample with replacement\n",
    "    origins = list(origins[origins['residential_bool']==1].sample(num_origins, replace=True)['h3_index'])\n",
    "\n",
    "    mins={}\n",
    "    category_travel_time_means = {}\n",
    "    for c in category_set:\n",
    "        cat_destinations = list(destinations[destinations['category']==c]['h3_index'])\n",
    "        ds = graph.matrix_distance(origins=origins, destinations=cat_destinations, dynamic_infinity=True)\n",
    "\n",
    "        # they might be different lengths, so we can't use a df\n",
    "        mins[c]={k:np.nanmin(np.array(v,dtype=np.float64)) for k,v in ds.items() if v}\n",
    "        category_travel_time_means[c] = np.nanmean(list(mins[c].values()))\n",
    "\n",
    "    return category_travel_time_means, mins\n",
    "\n",
    "def plot_accessibility(df, municipality, poi):\n",
    "    # get rows which contain a specific municipality\n",
    "    area = '_'.join(municipality)\n",
    "    # get rows which contain a specific municipality and category\n",
    "    plot_df = df[df['municipality'] == area]\n",
    "    plot_df = plot_df[plot_df['category'] == poi]\n",
    "    plot_df[['y','x']] = list(plot_df['h3_index'].apply(h3.h3_to_geo))\n",
    "    # Convert the pandas DataFrame to a GeoPandas DataFrame with a Point geometry column\n",
    "    gdf = gpd.GeoDataFrame(plot_df, geometry=gpd.points_from_xy(plot_df.x, plot_df.y))\n",
    "    fig, ax = plt.subplots(figsize=(10,10))\n",
    "    gdf.plot(ax=ax, column='travel_time', categorical=False,\n",
    "            legend=True, markersize=50, alpha=0.5, cmap='Reds',\n",
    "                vmin=0, vmax=25, \n",
    "                legend_kwds={'label': \"Travel time (minutes)\", 'shrink':0.3})\n",
    "\n",
    "    # Load and plot POI locations\n",
    "    destinations = pd.read_csv('../resources/destinations/'+area+'_destinations_clean.csv')\n",
    "    poi_df = destinations[destinations['category']==poi].copy()\n",
    "    poi_df[['y','x']] = list(poi_df['h3_index'].apply(h3.h3_to_geo))\n",
    "    # Convert the pandas DataFrame to a GeoPandas DataFrame with a Point geometry column\n",
    "    gdf = gpd.GeoDataFrame(poi_df, geometry=gpd.points_from_xy(poi_df.x, poi_df.y))\n",
    "    gdf.plot(ax=ax, markersize=5, alpha=0.5)\n",
    "\n",
    "    # Add title and basemap\n",
    "    plt.title(f\"{area} min travel time from residential origins (red) to {poi}s (in blue) - {len(plot_df)} origins\")\n",
    "    cx.add_basemap(ax = ax, crs=\"EPSG:4326\")\n",
    "\n",
    "\n",
    "def calculate_bike_and_transit_benefit(results_df, quantiles=[1,2,3,4,5]):\n",
    "    # compare mean of graph current to mean of graph walk+bike\n",
    "    # get the mean of the mean travel time for each municipality for each graph type\n",
    "    plotting_results_mean = results_df[results_df['population_density_quantile'].isin(quantiles)].groupby(['graph']).mean(numeric_only=True).reset_index()\n",
    "    walk_and_bike = plotting_results_mean[plotting_results_mean['graph']=='Walk and Bike']['mean_farthest_travel_time'].values[0]\n",
    "    current = plotting_results_mean[plotting_results_mean['graph']=='All']['mean_farthest_travel_time'].values[0]\n",
    "    walk_and_transit = plotting_results_mean[plotting_results_mean['graph']=='Walk and Transit']['mean_farthest_travel_time'].values[0]\n",
    "    ideal_bike = plotting_results_mean[plotting_results_mean['graph']=='Improved Bike']['mean_farthest_travel_time'].values[0]\n",
    "    ideal_transit = plotting_results_mean[plotting_results_mean['graph']=='Improved Transit']['mean_farthest_travel_time'].values[0]\n",
    "\n",
    "    print('population density quantiles:', quantiles)\n",
    "    print(f\"transit contributes to a {round(((current/walk_and_bike)-1)*100,3)}% decrease in travel time over walking and biking\")\n",
    "    print(f\"bikes contribute to a {round(((current/walk_and_transit)-1)*100,3)}% decrease in travel time over walking and transit\")\n",
    "    print(f\"Ideal biking infrastructure would contribute to a {round(((current/ideal_bike)-1)*-100,3)}% decrease in travel time over current infrastructure\")\n",
    "    print(f\"reducing transit wait times would contribute to a {round(((current/ideal_transit)-1)*-100,3)}% decrease in travel time over current infrastructure\")\n"
   ]
  },
  {
   "cell_type": "code",
   "execution_count": 9,
   "metadata": {},
   "outputs": [
    {
     "name": "stdout",
     "output_type": "stream",
     "text": [
      "The history saving thread hit an unexpected error (OperationalError('database is locked')).History will not be written to the database.\n"
     ]
    }
   ],
   "source": [
    "# get bbox for all of these cities so that I can extract bbbike data\n",
    "code_mappings: dict = {\n",
    "    '846': 'Mariagerfjord Kommune',\n",
    "    '741': 'Samsø Kommune',\n",
    "    '760': 'Ringkøbing-Skjern Kommune',\n",
    "    '710': 'Favrskov Kommune',\n",
    "    '480': 'Nordfyns Kommune',\n",
    "    '492': 'Ærø Kommune',\n",
    "    '270': 'Gribskov Kommune',\n",
    "    '730': 'Randers Kommune',\n",
    "    '450': 'Nyborg Kommune',\n",
    "    '169': 'Høje-Taastrup Kommune',\n",
    "    '621': 'Kolding Kommune',\n",
    "    '250': 'Frederikssund Kommune',\n",
    "    '147': 'Frederiksberg Kommune',\n",
    "    '230': 'Rudersdal Kommune',\n",
    "    '155': 'Dragør Kommune',\n",
    "    '101': 'København Kommune',\n",
    "    '147': 'Frederiksberg Kommune',\n",
    "    '825': 'Læsø Kommune',\n",
    "    '550': 'Tønder Kommune',\n",
    "    '665': 'Lemvig Kommune',\n",
    "    '760': 'Ringkøbing-Skjern Kommune',\n",
    "}"
   ]
  },
  {
   "cell_type": "code",
   "execution_count": 10,
   "metadata": {},
   "outputs": [],
   "source": [
    "# Inputs\n",
    "# municipality names\n",
    "# municipailties are lists because you can add many into one analysis\n",
    "municipalities = [[x] for x in code_mappings.values()]\n",
    "# public transport\n",
    "gtfs_paths = [[\"../resources/rejseplanen_GTFS.zip\"]]*len(municipalities)\n",
    "# ghsl data for building types\n",
    "#tif_paths = ['../resources/GHS_BUILT_C_MSZ_E2018_GLOBE_R2022A_54009_10_V1_0_R3_C19_Denmark.tif', '../resources/GHS_BUILT_C_MSZ_E2018_GLOBE_R2022A_54009_10_V1_0_R3_C19_Denmark.tif']\n",
    "tif_paths = ['../resources/GHS_BUILT_C_MSZ_E2018_GLOBE_R2022A_54009_10_V1_0_R3_C19_Denmark.tif']*len(municipalities)"
   ]
  },
  {
   "cell_type": "code",
   "execution_count": 11,
   "metadata": {},
   "outputs": [],
   "source": [
    "# Parameters\n",
    "\n",
    "# 12 is around 10 meter resolution\n",
    "H3_RES = 12\n",
    "\n",
    "# how many origins to sample\n",
    "num_origins = 1000\n",
    "\n",
    "#essential filter will be the least restrictive\n",
    "essential_filter = {\n",
    "    \"amenity\":[\"pharmacy\",\"dentist\",\"clinic\",\"doctors\",\"school\",\"library\"],\n",
    "    \"shop\":[\"supermarket\",\"greengrocer\",\"medical_supply\",\"grocery\",\"wholesale\"],\n",
    "    \"healthcare\":[\"clinic\",\"doctor\",\"pharmacy\",\"dentist\"],\n",
    "    \"leisure\":[\"park\",\"fitness_centre\",'fitness_station'], \n",
    "    \"sport\":['tennis','soccer','swimming_pool','sports_centre','pitch','track','golf_course','gymnastics','gym','fitness_centre','fitness_station']\n",
    "    }\n",
    "\n",
    "# categories considered for the n-minute calculation\n",
    "category_set = ['pharmacy','park','supermarket','sport', 'school','library']\n",
    "\n",
    "# how to map osm tags to categories\n",
    "osm_tag_mapping = {\n",
    "    \"medical_supply\":\"pharmacy\",\n",
    "    \"greengrocer\":\"supermarket\",\n",
    "    \"wholesale\":\"supermarket\",\n",
    "    \"grocery\":\"supermarket\",\n",
    "    \"clinic\":\"doctor\",\n",
    "    \"doctors\":\"doctor\",\n",
    "    'pitch':'sport',\n",
    "    'track':'sport',\n",
    "    'sports_centre':'sport',\n",
    "    'fitness_centre':'sport',\n",
    "    'fitness_station':'sport'\n",
    "}"
   ]
  },
  {
   "cell_type": "code",
   "execution_count": 12,
   "metadata": {},
   "outputs": [],
   "source": [
    "# osm file processing\n",
    "osm_names = ['_'.join(x)+'_processed.osm.pbf' for x in municipalities]\n",
    "relative_path_osm = \"../resources/osm/\"\n",
    "osm_paths = [relative_path_osm + x for x in osm_names]"
   ]
  },
  {
   "cell_type": "code",
   "execution_count": 6,
   "metadata": {},
   "outputs": [
    {
     "name": "stdout",
     "output_type": "stream",
     "text": [
      "getting boundaries for ['Mariagerfjord Kommune']\n"
     ]
    }
   ],
   "source": [
    "# pipeline\n",
    "results={}\n",
    "for i,municipality in enumerate(municipalities):\n",
    "\n",
    "    # which cities do we want?, make sure your PBF file contains these cities!!!\n",
    "    # use the bounding box returned here to make your pbf crop on extract.bbbikes.org\n",
    "    print(f\"getting boundaries for {municipality}\")\n",
    "    city_bounds_h3, bbox, bbox_pois = city_boundaries_to_h3(municipality)\n",
    "    \n",
    "    # get origins (save for later)\n",
    "    print(f\"getting origins for {municipality}\")\n",
    "    origins = get_origins(H3_RES, municipality, bbox, tif_paths[i], city_bounds_h3)\n",
    "\n",
    "    # get destinations (save for later)\n",
    "    print(f\"getting destinations for {municipality}\")\n",
    "    destinations = get_pois_h3(osm_paths[i], essential_filter, H3_RES, category_set, osm_tag_mapping, municipality)\n",
    "\n",
    "    key = \"_\".join(municipality)\n",
    "    results[key]={}\n",
    "    print(f\"Routing for {municipality}:\")\n",
    "    for g in ['all', 'walk', 'walk+bike', 'walk+transit','bike_ideal','transit_ideal']:\n",
    "        print(g)\n",
    "        # build the graph\n",
    "        if g=='bike_ideal':\n",
    "            wait_time_multiplier=1.0\n",
    "            walk_speed=4.5\n",
    "            layer = 'walk+transit'\n",
    "        elif g=='transit_ideal':\n",
    "            wait_time_multiplier=0.33\n",
    "            walk_speed=1.4\n",
    "            layer = 'all'\n",
    "        else:\n",
    "            wait_time_multiplier=1.0\n",
    "            walk_speed=1.4\n",
    "            layer=g\n",
    "\n",
    "        weight_options = {'bike_penalty': 1.0,\n",
    "                            'wait_time_multiplier': wait_time_multiplier,\n",
    "                            'walk_speed': walk_speed,\n",
    "                            'bike_speed': 4.5}\n",
    "        \n",
    "        graph = PyH3Graph(weight_options=weight_options, k_ring=2, layers=layer)\n",
    "        graph.create(osm_path=osm_paths[i],gtfs_paths=gtfs_paths[i])\n",
    "\n",
    "        # do routing\n",
    "        category_means, route_mins = routing(category_set, origins, destinations, num_origins, graph)\n",
    "        # save results as dictionary\n",
    "        results[key].update({g:route_mins})\n"
   ]
  },
  {
   "cell_type": "code",
   "execution_count": null,
   "metadata": {},
   "outputs": [],
   "source": [
    "# save dictionary .pkl file\n",
    "with open('../resources/model_run_all_denmark.pkl', 'wb') as fp:\n",
    "    pickle.dump(results, fp)\n",
    "    print('dictionary saved successfully to file')"
   ]
  },
  {
   "cell_type": "code",
   "execution_count": 13,
   "metadata": {},
   "outputs": [
    {
     "name": "stdout",
     "output_type": "stream",
     "text": [
      "dictionary successfully loaded\n"
     ]
    }
   ],
   "source": [
    "# load dictionary .pkl file\n",
    "with open('../resources/model_run_all_denmark_more_sport.pkl', 'rb') as fp:\n",
    "    results = pickle.load(fp)\n",
    "    print('dictionary successfully loaded')"
   ]
  },
  {
   "attachments": {},
   "cell_type": "markdown",
   "metadata": {},
   "source": [
    "# Calculate N-minute"
   ]
  },
  {
   "cell_type": "code",
   "execution_count": 14,
   "metadata": {},
   "outputs": [],
   "source": [
    "# operations: mean_all_locations(max_category(min travel time to each category))\n",
    "# get analysis format\n",
    "plotting_results = []\n",
    "# for each municipality, for each graph type, get the mean travel time\n",
    "for m in results.keys():\n",
    "    # loop over graph types\n",
    "    for g in results[m].keys():\n",
    "        # loop over categories\n",
    "        # remove libraries from the df, we don't want to include them in the calculation\n",
    "        df_max = pd.DataFrame(results[m][g]).drop('library',axis=1)\n",
    "        df_max = df_max.max(axis=1)\n",
    "        # calculate the 5th and 95th percentiles\n",
    "        # calculate the 5th and 95th percentiles for each column\n",
    "        #low_quantile = df_max.quantile(0.05)\n",
    "        #high_quantile = df_max.quantile(0.95)\n",
    "\n",
    "        # exclude values outside of the desired percentiles\n",
    "        #max_filtered = df_max.loc[(df_max > low_quantile) & (df_max < high_quantile)]\n",
    "\n",
    "        # calculate the mean of the filtered Series\n",
    "        #mean_filtered = max_filtered.mean()\n",
    "        # take the median of all rows\n",
    "        median_df = df_max.median()\n",
    "        \n",
    "\n",
    "        plotting_results.append((m,g,median_df))\n",
    "\n",
    "plotting_results = pd.DataFrame(plotting_results,\n",
    " columns=['municipality','graph','mean_farthest_travel_time'])"
   ]
  },
  {
   "cell_type": "code",
   "execution_count": 15,
   "metadata": {},
   "outputs": [],
   "source": [
    "# add population density information\n",
    "pop_density = pd.read_csv('../resources/denmark_pop_density_sample.csv').sort_values(\n",
    "    by='population_density', ascending=False)\n",
    "# join the two dataframes on municipality name\n",
    "plotting_results = plotting_results.merge(pop_density, on='municipality')\n",
    "plotting_results = plotting_results.sort_values(by='population_density', ascending=False)\n",
    "density_map = pop_density[['municipality','population_density']].set_index('municipality')"
   ]
  },
  {
   "cell_type": "code",
   "execution_count": 16,
   "metadata": {},
   "outputs": [],
   "source": [
    "# rename the graph types\n",
    "graph_label_map = {'current':'All','transit_ideal':'Improved Transit',\n",
    "                    'walk+transit':'Walk and Transit', 'walk+bike': 'Walk and Bike', 'walk':'Walk', 'all':'All',\n",
    "                     'bike_ideal':'Improved Bike'}\n",
    "plotting_results['graph'] = plotting_results['graph'].map(graph_label_map)\n",
    "\n",
    "# add 2 minutes to ideal bike\n",
    "postprocess_bike_penalty_results = plotting_results.copy()\n",
    "postprocess_bike_penalty_results.loc[postprocess_bike_penalty_results['graph']=='Improved Bike','mean_farthest_travel_time'] += 2"
   ]
  },
  {
   "cell_type": "code",
   "execution_count": 17,
   "metadata": {},
   "outputs": [
    {
     "data": {
      "text/plain": [
       "array(['Frederiksberg Kommune', 'København Kommune', 'Dragør Kommune',\n",
       "       'Rudersdal Kommune', 'Høje-Taastrup Kommune',\n",
       "       'Frederikssund Kommune', 'Kolding Kommune', 'Gribskov Kommune',\n",
       "       'Randers Kommune', 'Nyborg Kommune', 'Favrskov Kommune',\n",
       "       'Ærø Kommune', 'Nordfyns Kommune', 'Mariagerfjord Kommune',\n",
       "       'Ringkøbing-Skjern Kommune', 'Lemvig Kommune', 'Samsø Kommune',\n",
       "       'Tønder Kommune', 'Læsø Kommune'], dtype=object)"
      ]
     },
     "execution_count": 17,
     "metadata": {},
     "output_type": "execute_result"
    }
   ],
   "source": [
    "plotting_results['municipality'].unique()"
   ]
  },
  {
   "cell_type": "code",
   "execution_count": null,
   "metadata": {},
   "outputs": [],
   "source": [
    "# plot the results as a scatter with each municipality on the x, travel time on the y, and graph type as color\n",
    "fig, ax = plt.subplots(figsize=(5,10))\n",
    "             \n",
    "sns.scatterplot(data=plotting_results, x='mean_farthest_travel_time', y='municipality', hue='graph', alpha=0.7, palette='colorblind', legend=True)\n",
    "plt.legend(title='Network Type', frameon=False)\n",
    "# add legend as line underneath chart\n",
    "#plt.legend(loc='upper center', bbox_to_anchor=(0.5, -0.25), ncol=4, title='Owner Rank', frameon=False)\n",
    "# rotate the x labels\n",
    "#plt.xticks(rotation=45)\n",
    "plt.xlabel('N-minute travel time (minutes)')\n",
    "plt.ylabel('Municipality')\n",
    "#plt.title('N-minute travel time across Denmark for different graph types')\n",
    "# add custom legend labels"
   ]
  },
  {
   "cell_type": "code",
   "execution_count": 21,
   "metadata": {},
   "outputs": [],
   "source": [
    "custom_colors = ['#00D3E5','blue','purple','red','orange', '#EAEA00']  "
   ]
  },
  {
   "cell_type": "code",
   "execution_count": null,
   "metadata": {},
   "outputs": [],
   "source": [
    "# plot the results as a scatter with each municipality on the x, travel time on the y, and graph type as color\n",
    "plt.figure(figsize=(5,10))\n",
    "sns.scatterplot(data=postprocess_bike_penalty_results, x='mean_farthest_travel_time', y='municipality', hue='graph', alpha=0.8, palette=custom_colors)\n",
    "# rotate the x labels\n",
    "#plt.xticks(rotation=45)\n",
    "plt.xlabel('N-minute travel time (minutes)')\n",
    "plt.ylabel('Municipality')\n",
    "#plt.title('N-minute travel time across Denmark for different graph types')\n",
    "plt.legend(title='Network Type', frameon=False, bbox_to_anchor=(1.2, -0.1), ncol=3)\n",
    "\n",
    "# save a high res version\n",
    "plt.savefig('figures/denmark_travel_time_scatter.png', dpi=300, bbox_inches='tight')"
   ]
  },
  {
   "attachments": {},
   "cell_type": "markdown",
   "metadata": {},
   "source": [
    "# NOTE\n",
    "Sometimes 'walk + bike' seems to outperform 'all'. We think this is due to there being destinations which are only accessible via public transports (eg. airports).  When the walk + bike networks is unable to reach a destination, this value is not considered in the calculation. - we should check how many nans we are getting!"
   ]
  },
  {
   "cell_type": "code",
   "execution_count": null,
   "metadata": {},
   "outputs": [],
   "source": [
    "postprocess_bike_penalty_results.head(2)"
   ]
  },
  {
   "cell_type": "code",
   "execution_count": null,
   "metadata": {},
   "outputs": [],
   "source": [
    "diffs=[]\n",
    "for k,v in postprocess_bike_penalty_results.groupby('municipality'):\n",
    "    walk_and_bike = v[v['graph']=='Walk and Bike']['mean_farthest_travel_time'].values[0]\n",
    "    current = v[v['graph']=='All']['mean_farthest_travel_time'].values[0]\n",
    "    walk_and_transit = v[v['graph']=='Walk and Transit']['mean_farthest_travel_time'].values[0]\n",
    "    ideal_bike = v[v['graph']=='Improved Bike']['mean_farthest_travel_time'].values[0]\n",
    "    ideal_transit = v[v['graph']=='Improved Transit']['mean_farthest_travel_time'].values[0]\n",
    "    diffs.append([k, ((current/walk_and_bike)-1)*-100, ((current/walk_and_transit)-1)*-100, ((ideal_bike/current)-1)*-100, ((ideal_transit/current)-1)*-100])\n",
    "\n",
    "#diffs = pd.DataFrame(diffs, columns=['municipality','walk_and_bike','walk_and_transit','ideal_bike','ideal_transit'])\n",
    "diffs = pd.DataFrame(diffs, columns=['municipality','Transit Benefit','Bicycle Benefit', 'Benefit of Improved Bicycle', 'Benefit of Improved Transit'])\n",
    "# melt the dataframe\n",
    "#diffs_melt = pd.melt(diffs, id_vars=['municipality'], value_vars=['walk_and_bike','walk_and_transit','ideal_bike','ideal_transit'])\n",
    "diffs_melt = pd.melt(diffs, id_vars=['municipality'], value_vars=['Transit Benefit','Bicycle Benefit'])\n",
    "\n",
    "order = postprocess_bike_penalty_results['municipality'].unique()\n",
    "# reorder the dataframe by population density\n",
    "diffs_melt = diffs_melt.set_index('municipality').loc[order].reset_index()\n",
    "# rename the columns\n",
    "diffs_melt.columns = ['municipality','Network Type','Travel Time Percentage']\n",
    "# plot\n",
    "plt.figure(figsize=(5,5))\n",
    "sns.scatterplot(data=diffs_melt, x='Travel Time Percentage', y='municipality', hue='Network Type', alpha=0.8, palette='colorblind')\n",
    "\n",
    "plt.legend(frameon=False)"
   ]
  },
  {
   "cell_type": "code",
   "execution_count": null,
   "metadata": {},
   "outputs": [],
   "source": [
    "diffs.columns"
   ]
  },
  {
   "cell_type": "code",
   "execution_count": null,
   "metadata": {},
   "outputs": [],
   "source": [
    "print(diffs['Transit Benefit'].mean())\n",
    "print(diffs['Bicycle Benefit'].mean())"
   ]
  },
  {
   "cell_type": "code",
   "execution_count": null,
   "metadata": {},
   "outputs": [],
   "source": [
    "# make font helvetica\n",
    "#plt.rcParams['font.family'] = 'helvetica'\n",
    "# increase font size\n",
    "plt.rcParams.update({'font.size': 15})\n",
    "\n",
    "order = postprocess_bike_penalty_results['municipality'].unique()\n",
    "# reverse the order\n",
    "order = order[::-1]\n",
    "# reorder the dataframe by population density\n",
    "diffs = diffs.set_index('municipality').loc[order].reset_index()\n",
    "\n",
    "# set all values below 0 to 0\n",
    "diffs.loc[diffs['Transit Benefit'] < 0, 'Transit Benefit'] = 0\n",
    "diffs.loc[diffs['Bicycle Benefit'] < 0, 'Bicycle Benefit'] = 0\n",
    "\n",
    "m_size = 100\n",
    "\n",
    "# Create lollipop plots\n",
    "plt.figure(figsize=(10, 8))\n",
    "\n",
    "# Set the positions of the two lines\n",
    "line_1_x = diffs.index - 0.15\n",
    "line_2_x = diffs.index + 0.15\n",
    "\n",
    "# Plot the first layer as points\n",
    "plt.scatter(diffs['Transit Benefit'], line_1_x, color='blue', marker='o', s=m_size)\n",
    "# Plot the second layer as points\n",
    "plt.scatter(diffs['Bicycle Benefit'], line_2_x, color='orange', marker='o', s=m_size)\n",
    "\n",
    "# plot hline from 0 to sc\n",
    "plt.hlines(y=line_1_x, xmin=0, xmax=diffs['Transit Benefit'], color='blue', alpha=1, linewidth=4)\n",
    "# plot hline from 0 to out\n",
    "plt.hlines(y=line_2_x, xmin=0, xmax=diffs['Bicycle Benefit'], color='orange', alpha=1, linewidth=4)\n",
    "\n",
    "# add vertical line at 0\n",
    "plt.axvline(x=0, color='black', alpha=1)\n",
    "\n",
    "\n",
    "# Customize the plot\n",
    "plt.xlabel('Percent Increase in Accessibility')\n",
    "# only create legend for the scatterplots in the lower right without a border\n",
    "plt.legend(['Transit Benefit','Bicycle Benefit'], frameon=False, bbox_to_anchor=(0.8, -0.1), ncol=2)\n",
    "plt.yticks(diffs.index, diffs['municipality'])\n",
    "# remove frame from plot\n",
    "plt.box(False)\n",
    "\n",
    "# save figure\n",
    "plt.savefig('figures/lollipop_current_benefit.png', dpi=300, bbox_inches='tight')\n"
   ]
  },
  {
   "cell_type": "code",
   "execution_count": null,
   "metadata": {},
   "outputs": [],
   "source": [
    "# make font helvetica\n",
    "#plt.rcParams['font.family'] = 'helvetica'\n",
    "# increase font size\n",
    "# 'Benefit of Improved Bicycle', 'Benefit of Improved Transit'\n",
    "plt.rcParams.update({'font.size': 15})\n",
    "\n",
    "order = postprocess_bike_penalty_results['municipality'].unique()\n",
    "# reverse the order\n",
    "order = order[::-1]\n",
    "# reorder the dataframe by population density\n",
    "diffs = diffs.set_index('municipality').loc[order].reset_index()\n",
    "\n",
    "# set all values below 0 to 0\n",
    "diffs.loc[diffs['Benefit of Improved Transit'] < 0, 'Benefit of Improved Transit'] = 0\n",
    "diffs.loc[diffs['Benefit of Improved Bicycle'] < 0, 'Benefit of Improved Bicycle'] = 0\n",
    "\n",
    "m_size = 100\n",
    "\n",
    "# Create lollipop plots\n",
    "plt.figure(figsize=(10, 8))\n",
    "\n",
    "# Set the positions of the two lines\n",
    "line_1_x = diffs.index - 0.15\n",
    "line_2_x = diffs.index + 0.15\n",
    "\n",
    "# Plot the first layer as points\n",
    "plt.scatter(diffs['Benefit of Improved Transit'], line_1_x, color='blue', marker='o', s=m_size)\n",
    "# Plot the second layer as points\n",
    "plt.scatter(diffs['Benefit of Improved Bicycle'], line_2_x, color='orange', marker='o', s=m_size)\n",
    "\n",
    "# plot hline from 0 to sc\n",
    "plt.hlines(y=line_1_x, xmin=0, xmax=diffs['Benefit of Improved Transit'], color='blue', alpha=0.8, linewidth=4)\n",
    "# plot hline from 0 to out\n",
    "plt.hlines(y=line_2_x, xmin=0, xmax=diffs['Benefit of Improved Bicycle'], color='orange', alpha=0.8, linewidth=4)\n",
    "\n",
    "# add vertical line at 0\n",
    "plt.axvline(x=0, color='black', alpha=1)\n",
    "\n",
    "\n",
    "# Customize the plot\n",
    "plt.xlabel('Percent Increase in Accessibility')\n",
    "# only create legend for the scatterplots in the lower right without a border\n",
    "plt.legend(['Benefit of Improved Transit','Benefit of Improved Bicycle'],bbox_to_anchor=(1, -0.1), ncol=2, frameon=False)\n",
    "plt.yticks(diffs.index, diffs['municipality'])\n",
    "# remove frame from plot\n",
    "plt.box(False)\n",
    "\n",
    "# save figure\n",
    "plt.savefig('figures/lollipop_improved_benefit.png', dpi=300, bbox_inches='tight')\n"
   ]
  },
  {
   "cell_type": "code",
   "execution_count": null,
   "metadata": {},
   "outputs": [],
   "source": [
    "sns.scatterplot(data=postprocess_bike_penalty_results, x='population_density', y='mean_farthest_travel_time', hue='graph')\n",
    "# log scale the axes\n",
    "plt.xscale('log')\n",
    "plt.yscale('log')\n",
    "plt.xlabel('Population density log(people/km2)')\n",
    "plt.ylabel('N-minute travel time log(minutes)')\n",
    "plt.title('Population density vs N-minute travel time all graph types')\n",
    "\n",
    "# save a high res version\n",
    "plt.savefig('figures/population_density_vs_n_minute.png', dpi=300, bbox_inches='tight')"
   ]
  },
  {
   "cell_type": "code",
   "execution_count": null,
   "metadata": {},
   "outputs": [],
   "source": [
    "# only all\n",
    "plotting_results_all = postprocess_bike_penalty_results[postprocess_bike_penalty_results['graph']=='All']\n",
    "sns.scatterplot(data=plotting_results_all, x='population_density', y='mean_farthest_travel_time', hue='graph')\n",
    "# log scale the axes\n",
    "plt.xscale('log')\n",
    "plt.yscale('log')\n",
    "plt.xlabel('Population density log(people/km2)')\n",
    "plt.ylabel('N-minute travel time log(minutes)')\n",
    "plt.title('Population density vs N-minute travel time')\n",
    "\n",
    "# add a regression line with r2"
   ]
  },
  {
   "cell_type": "code",
   "execution_count": null,
   "metadata": {},
   "outputs": [],
   "source": [
    "# numpy log base 10\n",
    "x = np.log10(plotting_results_all['population_density'])"
   ]
  },
  {
   "cell_type": "code",
   "execution_count": null,
   "metadata": {},
   "outputs": [],
   "source": [
    "from sklearn.linear_model import LinearRegression\n",
    "# Reshape the data to make it compatible with the linear regression model\n",
    "x = np.log10(np.array(plotting_results_all['population_density']))\n",
    "y = np.log10(np.array(plotting_results_all['mean_farthest_travel_time']))\n",
    "X = x.reshape(-1, 1)\n",
    "\n",
    "\n",
    "# Create the linear regression model and fit it to the data\n",
    "model = LinearRegression()\n",
    "model.fit(X, y)\n",
    "\n",
    "# Calculate the R-squared value of the model\n",
    "r_sq = model.score(X, y)\n",
    "print('Coefficient of determination (R-squared):', r_sq)\n",
    "# put the r2 on the plot\n",
    "plt.text(3.5,1.8, f'R-squared: {np.round(r_sq,3)}', horizontalalignment='center', verticalalignment='center')\n",
    "\n",
    "\n",
    "# Plot the data and the regression line\n",
    "plt.scatter(x, y)\n",
    "plt.plot(x, model.predict(X), color='red')\n",
    "plt.xlabel('Population Density log(people/km2)')\n",
    "plt.ylabel('N-Minute Travel Time log(minutes)')\n",
    "\n",
    "# set tick labels to powers of 10\n",
    "plt.xticks(np.arange(1, 6, step=1), [r'$10^1$',r'$10^2$', r'$10^3$', r'$10^4$', r'$10^5$'])\n",
    "plt.yticks(np.arange(1, 3, step=1), [r'$10^1$',r'$10^2$'])\n",
    "\n",
    "plt.xlim(1,4.4)\n",
    "\n",
    "\n",
    "#plt.title(f'Population Density Explains {np.round(r_sq*100,2)}% of N-Minute Travel Time Variance')\n",
    "# save figure\n",
    "plt.savefig('figures/population_density_vs_n_minute_all.png', dpi=300, bbox_inches='tight')"
   ]
  },
  {
   "cell_type": "code",
   "execution_count": null,
   "metadata": {},
   "outputs": [],
   "source": [
    "plotting_results_all"
   ]
  },
  {
   "cell_type": "code",
   "execution_count": null,
   "metadata": {},
   "outputs": [],
   "source": [
    "# check the pearson of the two variables\n",
    "np.corrcoef(x,y)"
   ]
  },
  {
   "cell_type": "code",
   "execution_count": null,
   "metadata": {},
   "outputs": [],
   "source": [
    "model.coef_"
   ]
  },
  {
   "cell_type": "code",
   "execution_count": 19,
   "metadata": {},
   "outputs": [
    {
     "name": "stdout",
     "output_type": "stream",
     "text": [
      "Index(['index', 'pharmacy', 'park', 'supermarket', 'sport', 'school',\n",
      "       'library', 'municipality'],\n",
      "      dtype='object')\n"
     ]
    }
   ],
   "source": [
    "# get df with all municipalities, hex indices, travel times, and categories\n",
    "dfs = [pd.DataFrame(results[\"_\".join(muni)]['all']).assign(\n",
    "    municipality=\"_\".join(muni)).reset_index()\\\n",
    "          for muni in municipalities]\n",
    "\n",
    "df = pd.concat(dfs, ignore_index=True)\n",
    "\n",
    "print(df.columns)\n",
    "# remove library\n",
    "df = df.drop('library', axis=1)\n",
    "category_set_no_library = [c for c in category_set if c != 'library']\n",
    "\n",
    "df.columns=['h3_index']+category_set_no_library+['municipality']\n",
    "df = df.melt(id_vars=['h3_index','municipality'], var_name='category', value_name='travel_time')\n",
    "df = df.merge(density_map, on='municipality')\n",
    "df = df.sort_values(by='population_density', ascending=False)"
   ]
  },
  {
   "cell_type": "code",
   "execution_count": 25,
   "metadata": {},
   "outputs": [
    {
     "data": {
      "image/png": "[encoded data removed]",
      "text/plain": [
       "<Figure size 500x500 with 1 Axes>"
      ]
     },
     "metadata": {},
     "output_type": "display_data"
    }
   ],
   "source": [
    "# SENSITIVITY ANALYSIS make boxplot of all categories\n",
    "custom_colors = ['#00D3E5','blue','purple','red','orange', '#EAEA00']  \n",
    "\n",
    "mean_travel_time = df.groupby('category')['travel_time'].mean().sort_values().index\n",
    "\n",
    "plt.figure(figsize=(5,5))\n",
    "sns.boxplot(data=df, x='category', y='travel_time', showfliers=False, order=mean_travel_time, palette=custom_colors)\n",
    "#plt.title('Overall Travel Times by Category Denmark')\n",
    "# align the x tick labels to the right\n",
    "plt.xticks(rotation=45, ha='right')\n",
    "\n",
    "plt.xlabel('Category')\n",
    "plt.ylabel('Travel time (minutes)')\n",
    "\n",
    "# save fig\n",
    "plt.savefig('figures/aggregate_denmark_travel_time_boxplot.png', dpi=300, bbox_inches='tight')"
   ]
  },
  {
   "cell_type": "code",
   "execution_count": 22,
   "metadata": {},
   "outputs": [
    {
     "data": {
      "image/png": "[encoded data removed]",
      "text/plain": [
       "<Figure size 500x1000 with 1 Axes>"
      ]
     },
     "metadata": {},
     "output_type": "display_data"
    }
   ],
   "source": [
    "custom_colors = ['#00D3E5','blue','purple','red','orange', '#EAEA00']  \n",
    "\n",
    "# plot a multi box plot where each category is a box centered around a municipality and hide outliers\n",
    "plt.figure(figsize=(5,10))                     \n",
    "sns.boxplot(data=df, x='travel_time', y='municipality', hue='category', showfliers=False, palette=custom_colors,\n",
    "hue_order = ['sport', 'supermarket', 'school', 'park', 'pharmacy'])\n",
    "plt.ylabel('Municipality')\n",
    "#plt.title('Travel time to each category across Denmark')\n",
    "plt.xlabel('Travel time (minutes)')\n",
    "plt.legend(title='Category', frameon=False)\n",
    "\n",
    "# save fig\n",
    "plt.savefig('figures/denmark_travel_time_boxplot.png', dpi=300, bbox_inches='tight')"
   ]
  },
  {
   "cell_type": "code",
   "execution_count": null,
   "metadata": {},
   "outputs": [],
   "source": [
    "# SENSITIVITY ANALYSIS make boxplot of all categories\n",
    "custom_colors = ['#00D3E5','blue','purple','red','orange', '#EAEA00']  \n",
    "\n",
    "mean_travel_time = df.groupby('category')['travel_time'].mean().sort_values().index\n",
    "\n",
    "plt.figure(figsize=(5,5))\n",
    "sns.boxplot(data=df, x='category', y='travel_time', showfliers=False, order=mean_travel_time, palette=custom_colors)\n",
    "#plt.title('Overall Travel Times by Category Denmark')\n",
    "# align the x tick labels to the right\n",
    "plt.xticks(rotation=45, ha='right')\n",
    "\n",
    "plt.xlabel('Category')\n",
    "plt.ylabel('Travel time (minutes)')\n",
    "\n",
    "# save fig\n",
    "plt.savefig('figures/aggregate_denmark_travel_time_boxplot.png', dpi=300, bbox_inches='tight')"
   ]
  },
  {
   "cell_type": "code",
   "execution_count": null,
   "metadata": {},
   "outputs": [],
   "source": [
    "cat_boxes = pd.DataFrame(results['Mariagerfjord Kommune']['all']).melt()\n",
    "mean_travel_time = cat_boxes.groupby('variable')['value'].mean().sort_values().index\n",
    "plt.figure(figsize=(5,5))\n",
    "sns.boxplot(data=cat_boxes, x='variable', y='value', showfliers=False, order=mean_travel_time)\n",
    "plt.title('Overall Travel Times for each Category')"
   ]
  },
  {
   "cell_type": "code",
   "execution_count": null,
   "metadata": {},
   "outputs": [],
   "source": [
    "# return the category with the longest travel time for each h3 index\n",
    "longest_travel = df[df.groupby('h3_index')['travel_time'].transform('max') == df['travel_time']]['category'].value_counts()\n",
    "longest_travel"
   ]
  },
  {
   "cell_type": "code",
   "execution_count": null,
   "metadata": {},
   "outputs": [],
   "source": [
    "# divide by the total number\n",
    "longest_travel/longest_travel.sum()"
   ]
  },
  {
   "cell_type": "code",
   "execution_count": null,
   "metadata": {},
   "outputs": [],
   "source": [
    "# NOTE\n",
    "Sometimes 'walk + bike' seems to outperform 'all'. We think this is due to there being destinations which are only accessible via public transports (eg. airports).  When the walk + bike networks is unable to reach a destination, this value is not considered in the calculation. - we should check how many nans we are getting!"
   ]
  },
  {
   "cell_type": "code",
   "execution_count": null,
   "metadata": {},
   "outputs": [],
   "source": [
    "sns.scatterplot(data=plotting_results, x='population_density', y='mean_farthest_travel_time', hue='graph')\n",
    "# log scale the axes\n",
    "plt.xscale('log')\n",
    "plt.yscale('log')\n",
    "plt.xlabel('Population density log(people/km2)')\n",
    "plt.ylabel('N-minute travel time log(minutes)')\n",
    "plt.title('Population density vs N-minute travel time all graph types')"
   ]
  },
  {
   "cell_type": "code",
   "execution_count": null,
   "metadata": {},
   "outputs": [],
   "source": [
    "# only all\n",
    "plotting_results_all = plotting_results[plotting_results['graph']=='all']\n",
    "sns.scatterplot(data=plotting_results_all, x='population_density', y='mean_farthest_travel_time', hue='graph')\n",
    "# log scale the axes\n",
    "plt.xscale('log')\n",
    "plt.yscale('log')\n",
    "plt.xlabel('Population density log(people/km2)')\n",
    "plt.ylabel('N-minute travel time log(minutes)')\n",
    "plt.title('Population density vs N-minute travel time')"
   ]
  },
  {
   "cell_type": "code",
   "execution_count": null,
   "metadata": {},
   "outputs": [],
   "source": [
    "# get df with all municipalities, hex indices, travel times, and categories\n",
    "dfs = [pd.DataFrame(results[\"_\".join(muni)]['all']).assign(\n",
    "    municipality=\"_\".join(muni)).reset_index()\\\n",
    "          for muni in municipalities]\n",
    "\n",
    "df = pd.concat(dfs, ignore_index=True)\n",
    "\n",
    "df.columns=['h3_index']+category_set+['municipality']\n",
    "df = df.melt(id_vars=['h3_index','municipality'], var_name='category', value_name='travel_time')\n",
    "df = df.merge(density_map, on='municipality')\n",
    "df = df.sort_values(by='population_density', ascending=False)"
   ]
  },
  {
   "cell_type": "code",
   "execution_count": null,
   "metadata": {},
   "outputs": [],
   "source": [
    "# plot a multi box plot where each category is a box centered around a municipality and hide outliers\n",
    "plt.figure(figsize=(5,10))\n",
    "sns.boxplot(data=df, x='travel_time', y='municipality', hue='category', showfliers=False)\n",
    "plt.ylabel('Municipality (sorted by population density)')\n",
    "plt.title('Travel time to each category across Denmark')"
   ]
  },
  {
   "cell_type": "code",
   "execution_count": null,
   "metadata": {},
   "outputs": [],
   "source": [
    "# SENSITIVITY ANALYSIS make boxplot of all categories\n",
    "mean_travel_time = df.groupby('category')['travel_time'].mean().sort_values().index\n",
    "\n",
    "plt.figure(figsize=(5,5))\n",
    "sns.boxplot(data=df, x='category', y='travel_time', showfliers=False, order=mean_travel_time)\n",
    "plt.title('Overall Travel Times for each Category')"
   ]
  },
  {
   "cell_type": "code",
   "execution_count": null,
   "metadata": {},
   "outputs": [],
   "source": [
    "# return the category with the longest travel time for each h3 index\n",
    "df[df.groupby('h3_index')['travel_time'].transform('max') == df['travel_time']]['category'].value_counts()"
   ]
  },
  {
   "cell_type": "code",
   "execution_count": null,
   "metadata": {},
   "outputs": [],
   "source": [
    "# plot a multi box plot where each category is a box centered around a municipality\n",
    "plt.figure(figsize=(5,10))\n",
    "sns.boxplot(data=df, x='travel_time', y='municipality', hue='category')"
   ]
  },
  {
   "cell_type": "code",
   "execution_count": null,
   "metadata": {},
   "outputs": [],
   "source": [
    "for i in range(len(municipalities)):\n",
    "    plot_accessibility(df, municipalities[i], 'supermarket')"
   ]
  },
  {
   "cell_type": "code",
   "execution_count": null,
   "metadata": {},
   "outputs": [],
   "source": [
    "# get rows which contain a specific municipality\n",
    "area = '_'.join(municipalities[0])\n",
    "poi = 'supermarket'\n",
    "\n",
    "# get rows which contain a specific municipality and category\n",
    "plot_df = df[df['municipality'] == area]\n",
    "plot_df = plot_df[plot_df['category'] == poi]\n",
    "\n",
    "plot_df[['y','x']] = list(plot_df['h3_index'].apply(h3.h3_to_geo))\n",
    "    # Convert the pandas DataFrame to a GeoPandas DataFrame with a Point geometry column\n",
    "gdf = gpd.GeoDataFrame(plot_df, geometry=gpd.points_from_xy(plot_df.x, plot_df.y))\n",
    "\n",
    "fig, ax = plt.subplots(figsize=(10,10))\n",
    "gdf.plot(ax=ax, column='travel_time', categorical=False,\n",
    "            legend=True, markersize=50, alpha=0.5, cmap='Reds',\n",
    "            vmin=0, vmax=25)\n",
    "\n",
    "destinations = pd.read_csv('../resources/destinations/'+area+'_destinations_clean.csv')\n",
    "poi_df = destinations[destinations['category']==poi].copy()\n",
    "poi_df[['y','x']] = list(poi_df['h3_index'].apply(h3.h3_to_geo))\n",
    "# Convert the pandas DataFrame to a GeoPandas DataFrame with a Point geometry column\n",
    "gdf = gpd.GeoDataFrame(poi_df, geometry=gpd.points_from_xy(poi_df.x, poi_df.y))\n",
    "\n",
    "# Show the GeoPandas DataFrame\n",
    "gdf.plot(ax=ax, markersize=5, alpha=0.5)\n",
    "plt.title(f\"min travel time from residential areas (red) to supermarkets (in blue) {len(plot_df)} orgins\")\n",
    "cx.add_basemap(ax = ax, crs=\"EPSG:4326\")\n",
    "\n",
    "plt.savefig('figures/'+area+poi+'.png', dpi=300)"
   ]
  },
  {
   "cell_type": "code",
   "execution_count": null,
   "metadata": {},
   "outputs": [],
   "source": []
  },
  {
   "cell_type": "code",
   "execution_count": null,
   "metadata": {},
   "outputs": [],
   "source": [
    "# plot travel time on top of poi points\n",
    "plot_df = pd.DataFrame([(p,k,v) for p in mins.keys() for k,v in mins[p].items()],\n",
    "                        columns = ['poi_type','h3_index','mean_dist'])\n",
    "plot_df = plot_df[plot_df['category']=='supermarket']\n",
    "plot_df[['y','x']] = list(plot_df['h3_index'].apply(h3.h3_to_geo))\n",
    "    # Convert the pandas DataFrame to a GeoPandas DataFrame with a Point geometry column\n",
    "gdf = gpd.GeoDataFrame(plot_df, geometry=gpd.points_from_xy(plot_df.x, plot_df.y))\n",
    "\n",
    "fig, ax = plt.subplots(figsize=(10,10))\n",
    "gdf.plot(ax=ax, column='mean_dist', categorical=False,\n",
    "            legend=True, markersize=50, alpha=0.5, cmap='Reds',\n",
    "            vmin=0, vmax=25)\n",
    "\n",
    "#plot poi points\n",
    "poi_df = h3_df[h3_df['category']=='pharmacy'].copy()\n",
    "poi_df[['y','x']] = list(poi_df['h3_index'].apply(h3.h3_to_geo))\n",
    "# Convert the pandas DataFrame to a GeoPandas DataFrame with a Point geometry column\n",
    "gdf = gpd.GeoDataFrame(poi_df, geometry=gpd.points_from_xy(poi_df.x, poi_df.y))\n",
    "\n",
    "# Show the GeoPandas DataFrame\n",
    "gdf.plot(ax=ax, markersize=5, alpha=0.5)\n",
    "\n",
    "\n",
    "#plt.xlim(12.391681,12.737388)\n",
    "#plt.ylim(55.549206, 55.759991)\n",
    "plt.title(\"min travel time from residential areas (red) to supermarkets (in blue)\")\n",
    "cx.add_basemap(ax = ax, crs=\"EPSG:4326\")\n",
    "\n",
    "#plt.savefig('figures/supermarkets_1000.png', dpi=300)"
   ]
  },
  {
   "cell_type": "code",
   "execution_count": null,
   "metadata": {},
   "outputs": [],
   "source": [
    "denmark_origins = df[['h3_index','municipality','population_density']].drop_duplicates()\n",
    "denmark_origins['n_minute'] = denmark_origins['h3_index'].map(df.groupby('h3_index')['travel_time'].max())\n",
    "# make violin plot where each municiaplity is a violin\n",
    "# Increase figure size\n",
    "plt.figure(figsize=(10, 15))\n",
    "\n",
    "# Create the violin plot\n",
    "sns.violinplot(data=denmark_origins, x='n_minute', y='municipality', showfliers=False, width=2)\n",
    "\n",
    "# Adjust the y-axis limits\n",
    "#plt.ylim(-1, len(denmark_origins['municipality'])+1)"
   ]
  },
  {
   "cell_type": "code",
   "execution_count": null,
   "metadata": {},
   "outputs": [],
   "source": [
    "# turn category into multiple columns for each value of category\n",
    "pivoted_df = df.pivot(index='h3_index', columns='category', values='travel_time').reset_index()\n",
    "# add municipality and population density\n",
    "pivoted_df = pivoted_df.merge(df[['h3_index','municipality','population_density']], on='h3_index')\n",
    "pivoted_df\n",
    "# "
   ]
  },
  {
   "cell_type": "code",
   "execution_count": null,
   "metadata": {},
   "outputs": [],
   "source": [
    "plot_df"
   ]
  },
  {
   "cell_type": "code",
   "execution_count": null,
   "metadata": {},
   "outputs": [],
   "source": [
    "plot_accessibility(df, municipalities[-1], 'pharmacy')"
   ]
  },
  {
   "cell_type": "code",
   "execution_count": null,
   "metadata": {},
   "outputs": [],
   "source": [
    "plot_accessibility(df, municipalities[-2], 'pharmacy')"
   ]
  },
  {
   "cell_type": "code",
   "execution_count": null,
   "metadata": {},
   "outputs": [],
   "source": [
    "plot_accessibility(df, municipalities[5], 'pharmacy')"
   ]
  },
  {
   "cell_type": "code",
   "execution_count": null,
   "metadata": {},
   "outputs": [],
   "source": [
    "for i in range(len(municipalities)):\n",
    "    plot_accessibility(df, municipalities[i], 'supermarket')"
   ]
  },
  {
   "cell_type": "code",
   "execution_count": null,
   "metadata": {},
   "outputs": [],
   "source": [
    "# get rows which contain a specific municipality\n",
    "area = '_'.join(municipalities[0])\n",
    "poi = 'supermarket'\n",
    "\n",
    "# get rows which contain a specific municipality and category\n",
    "plot_df = df[df['municipality'] == area]\n",
    "plot_df = plot_df[plot_df['category'] == poi]\n",
    "\n",
    "plot_df[['y','x']] = list(plot_df['h3_index'].apply(h3.h3_to_geo))\n",
    "    # Convert the pandas DataFrame to a GeoPandas DataFrame with a Point geometry column\n",
    "gdf = gpd.GeoDataFrame(plot_df, geometry=gpd.points_from_xy(plot_df.x, plot_df.y))\n",
    "\n",
    "fig, ax = plt.subplots(figsize=(10,10))\n",
    "gdf.plot(ax=ax, column='travel_time', categorical=False,\n",
    "            legend=True, markersize=50, alpha=0.5, cmap='Reds',\n",
    "            vmin=0, vmax=25)\n",
    "\n",
    "destinations = pd.read_csv('../resources/destinations/'+area+'_destinations_clean.csv')\n",
    "poi_df = destinations[destinations['category']==poi].copy()\n",
    "poi_df[['y','x']] = list(poi_df['h3_index'].apply(h3.h3_to_geo))\n",
    "# Convert the pandas DataFrame to a GeoPandas DataFrame with a Point geometry column\n",
    "gdf = gpd.GeoDataFrame(poi_df, geometry=gpd.points_from_xy(poi_df.x, poi_df.y))\n",
    "\n",
    "# Show the GeoPandas DataFrame\n",
    "gdf.plot(ax=ax, markersize=5, alpha=0.5)\n",
    "plt.title(f\"min travel time from residential areas (red) to supermarkets (in blue) {len(plot_df)} orgins\")\n",
    "cx.add_basemap(ax = ax, crs=\"EPSG:4326\")\n",
    "\n",
    "plt.savefig('figures/'+area+poi+'.png', dpi=300)"
   ]
  },
  {
   "cell_type": "code",
   "execution_count": null,
   "metadata": {},
   "outputs": [],
   "source": []
  },
  {
   "cell_type": "code",
   "execution_count": null,
   "metadata": {},
   "outputs": [],
   "source": [
    "# plot travel time on top of poi points\n",
    "plot_df = pd.DataFrame([(p,k,v) for p in mins.keys() for k,v in mins[p].items()],\n",
    "                        columns = ['poi_type','h3_index','mean_dist'])\n",
    "plot_df = plot_df[plot_df['category']=='supermarket']\n",
    "plot_df[['y','x']] = list(plot_df['h3_index'].apply(h3.h3_to_geo))\n",
    "    # Convert the pandas DataFrame to a GeoPandas DataFrame with a Point geometry column\n",
    "gdf = gpd.GeoDataFrame(plot_df, geometry=gpd.points_from_xy(plot_df.x, plot_df.y))\n",
    "\n",
    "fig, ax = plt.subplots(figsize=(10,10))\n",
    "gdf.plot(ax=ax, column='mean_dist', categorical=False,\n",
    "            legend=True, markersize=50, alpha=0.5, cmap='Reds',\n",
    "            vmin=0, vmax=25)\n",
    "\n",
    "#plot poi points\n",
    "poi_df = h3_df[h3_df['category']=='pharmacy'].copy()\n",
    "poi_df[['y','x']] = list(poi_df['h3_index'].apply(h3.h3_to_geo))\n",
    "# Convert the pandas DataFrame to a GeoPandas DataFrame with a Point geometry column\n",
    "gdf = gpd.GeoDataFrame(poi_df, geometry=gpd.points_from_xy(poi_df.x, poi_df.y))\n",
    "\n",
    "# Show the GeoPandas DataFrame\n",
    "gdf.plot(ax=ax, markersize=5, alpha=0.5)\n",
    "\n",
    "\n",
    "#plt.xlim(12.391681,12.737388)\n",
    "#plt.ylim(55.549206, 55.759991)\n",
    "plt.title(\"min travel time from residential areas (red) to supermarkets (in blue)\")\n",
    "cx.add_basemap(ax = ax, crs=\"EPSG:4326\")\n",
    "\n",
    "#plt.savefig('figures/supermarkets_1000.png', dpi=300)"
   ]
  },
  {
   "cell_type": "code",
   "execution_count": null,
   "metadata": {},
   "outputs": [],
   "source": [
    "mins = results['_'.join(municipalities[0])]['all']"
   ]
  },
  {
   "cell_type": "code",
   "execution_count": null,
   "metadata": {},
   "outputs": [],
   "source": [
    "sample_df = df.sample(1000) #df.sample(100)\n",
    "sample_df[['y','x']] = list(sample_df['h3_index'].apply(h3.h3_to_geo))\n",
    "# Convert the pandas DataFrame to a GeoPandas DataFrame with a Point geometry column\n",
    "# geopandas.points_from_xy(x, y, z=None, crs=None)\n",
    "gdf = gpd.GeoDataFrame(sample_df, geometry=gpd.points_from_xy(sample_df.x, sample_df.y))\n",
    "\n",
    "fig, ax = plt.subplots(figsize=(10,10))\n",
    "# Show the GeoPandas DataFrame\n",
    "gdf.plot(ax=ax, column='category', categorical=True, legend=True, markersize=10, alpha=0.5)\n",
    "\n",
    "# denmark\n",
    "#plt.xlim(12.391681,12.737388)\n",
    "#plt.ylim(55.549206, 55.759991)\n",
    "\n",
    "# middle east\n",
    "#plt.ylim(12.391681,12.737388)\n",
    "#plt.xlim(55.549206, 55.759991)\n",
    "\n",
    "cx.add_basemap(ax = ax, crs=\"EPSG:4326\")"
   ]
  },
  {
   "cell_type": "code",
   "execution_count": null,
   "metadata": {},
   "outputs": [],
   "source": [
    "h3_df['hex_type'] = 'poi'\n",
    "origins = pd.read_csv(h3_csv)\n",
    "origins = origins[origins['residential_bool']==1]\n",
    "origins['hex_type'] = 'building_type'\n",
    "combined = origins[['h3_index','hex_type']].append(h3_df[['h3_index','hex_type']])\n",
    "\n",
    "sample_df = combined.sample(1000) #df.sample(100)\n",
    "sample_df[['y','x']] = list(sample_df['h3_index'].apply(h3.h3_to_geo))\n",
    "# Convert the pandas DataFrame to a GeoPandas DataFrame with a Point geometry column\n",
    "gdf = gpd.GeoDataFrame(sample_df, geometry=gpd.points_from_xy(sample_df.x, sample_df.y))\n",
    "\n",
    "fig, ax = plt.subplots(figsize=(10,10))\n",
    "# Show the GeoPandas DataFrame\n",
    "gdf.plot(ax=ax, column='hex_type', categorical=True, legend=True, markersize=5, alpha=0.5)\n",
    "\n",
    "#plt.xlim(12.391681,12.737388)\n",
    "#plt.ylim(55.549206, 55.759991)\n",
    "\n",
    "cx.add_basemap(ax = ax, crs=\"EPSG:4326\")"
   ]
  },
  {
   "cell_type": "code",
   "execution_count": null,
   "metadata": {},
   "outputs": [],
   "source": [
    "category_travel_time_means={}\n",
    "category_travel_time_means[c] = np.nanmean(list(mins[c].values()))\n",
    "category_travel_time_means"
   ]
  },
  {
   "cell_type": "code",
   "execution_count": null,
   "metadata": {},
   "outputs": [],
   "source": [
    "# kde plot for travel times, grouped by layer\n",
    "import seaborn as sns\n",
    "\n",
    "# Set the color palette\n",
    "colors = sns.color_palette(\"husl\", len(category_set))\n",
    "\n",
    "fig, ax = plt.subplots(1, 1)\n",
    "ax.set_xlabel(\"Travel time (minutes)\")\n",
    "ax.set_title(f\"min travel time kde by poi type for {len(origins)} origins\")\n",
    "ax.set_box_aspect(1)\n",
    "ax.set_xlim(0, 60)\n",
    "#ax.set_ylim(0, 0.06)\n",
    "\n",
    "for i,c in enumerate(category_set):\n",
    "    sns.kdeplot(list(mins[c].values()), color=colors[i], fill=True, alpha=0.5, ax=ax)\n",
    "\n",
    "# Add a legend\n",
    "labels = category_set\n",
    "ax.legend(labels)\n",
    "\n",
    "plt.savefig(f'figures/kde_pois_{len(origins)}_origins.png', dpi=300)"
   ]
  },
  {
   "cell_type": "code",
   "execution_count": null,
   "metadata": {},
   "outputs": [],
   "source": [
    "# kde plot for travel times, grouped by layer\n",
    "import seaborn as sns\n",
    "\n",
    "# Set the color palette\n",
    "colors = sns.color_palette(\"husl\", len(category_set))\n",
    "\n",
    "fig, ax = plt.subplots(1, 1)\n",
    "ax.set_xlabel(\"Travel time (minutes)\")\n",
    "ax.set_title(f\"min travel time histogram by poi type for {len(origins)} origins\")\n",
    "ax.set_box_aspect(1)\n",
    "ax.set_xlim(0, 30)\n",
    "#ax.set_ylim(0, 0.06)\n",
    "\n",
    "for i,c in enumerate(category_set):\n",
    "    plt.hist(list(mins[c].values()), alpha=0.5, bins=300)\n",
    "\n",
    "# Add a legend\n",
    "labels = category_set\n",
    "ax.legend(labels)\n",
    "\n",
    "plt.savefig(f'figures/hist_pois{len(origins)}_origins.png', dpi=300)"
   ]
  },
  {
   "cell_type": "code",
   "execution_count": null,
   "metadata": {},
   "outputs": [],
   "source": [
    "# kde plot for travel times, grouped by layer\n",
    "import seaborn as sns\n",
    "\n",
    "# Set the color palette\n",
    "colors = sns.color_palette(\"husl\", len(category_set))\n",
    "\n",
    "fig, ax = plt.subplots(1, 1, figsize=(10,5))\n",
    "ax.set_xlabel(\"index\")\n",
    "ax.set_ylabel(\"travel_time\")\n",
    "ax.set_title(f\"min travel time scatter by poi type for {len(origins)} origins\")\n",
    "#ax.set_box_aspect(1)\n",
    "ax.set_xlim(-1, 400)\n",
    "ax.set_ylim(0, 0.06)\n",
    "\n",
    "for i,c in enumerate(category_set):\n",
    "    plt.scatter(range(len(mins[c].values())), np.sort(np.array(mins[c].values(), dtype=np.float64)), alpha=0.5)\n",
    "\n",
    "# Add a legend\n",
    "plt.yscale('log')\n",
    "labels = category_set\n",
    "ax.legend(labels)\n",
    "\n",
    "plt.savefig(f'figures/scatter_pois{len(origins)}_origins.png', dpi=300)"
   ]
  },
  {
   "cell_type": "code",
   "execution_count": null,
   "metadata": {},
   "outputs": [],
   "source": [
    "# kde plot for travel times, grouped by layer\n",
    "import seaborn as sns\n",
    "\n",
    "# Set the color palette\n",
    "colors = sns.color_palette(\"husl\", len(category_set))\n",
    "\n",
    "fig, ax = plt.subplots(1, 1, figsize=(10,5))\n",
    "ax.set_xlabel(\"index\")\n",
    "ax.set_ylabel(\"travel_time\")\n",
    "ax.set_title(f\"min travel time scatter by poi type for {len(origins)} origins\")\n",
    "#ax.set_box_aspect(1)\n",
    "ax.set_xlim(-1, 400)\n",
    "ax.set_ylim(1, 20)\n",
    "\n",
    "for i,c in enumerate(category_set):\n",
    "    plt.scatter(range(len(mins[c].values())), sorted(list(mins[c].values())), alpha=0.5)\n",
    "\n",
    "# Add a legend\n",
    "plt.yscale('log')\n",
    "labels = category_set\n",
    "ax.legend(labels)\n",
    "\n",
    "plt.savefig(f'figures/scatter_pois{len(origins)}_origins.png', dpi=300)"
   ]
  },
  {
   "cell_type": "code",
   "execution_count": null,
   "metadata": {},
   "outputs": [],
   "source": [
    "# kde plot for travel times, grouped by layer\n",
    "import seaborn as sns\n",
    "\n",
    "# Set the color palette\n",
    "colors = sns.color_palette(\"husl\", len(category_set))\n",
    "\n",
    "fig, ax = plt.subplots(1, 1, figsize=(10,5))\n",
    "ax.set_xlabel(\"index\")\n",
    "ax.set_ylabel(\"travel_time\")\n",
    "ax.set_title(f\"min travel time scatter by poi type for {len(origins)} origins\")\n",
    "#ax.set_box_aspect(1)\n",
    "ax.set_xlim(150, 250)\n",
    "ax.set_ylim(5, 15)\n",
    "\n",
    "for i,c in enumerate(category_set):\n",
    "    plt.scatter(range(len(mins[c].values())), np.sort(np.array(mins[c].values(), dtype=np.float64)), alpha=0.5)\n",
    "\n",
    "# Add a legend\n",
    "plt.yscale('log')\n",
    "labels = category_set\n",
    "ax.legend(labels)\n",
    "\n",
    "plt.savefig(f'figures/scatter_pois{len(origins)}_origins.png', dpi=300)"
   ]
  },
  {
   "cell_type": "code",
   "execution_count": null,
   "metadata": {},
   "outputs": [],
   "source": [
    "# plot travel time on top of poi points\n",
    "plot_df = pd.DataFrame([(p,k,v) for p in mins.keys() for k,v in mins[p].items()],\n",
    "                        columns = ['poi_type','h3_index','mean_dist'])\n",
    "plot_df = plot_df[plot_df['poi_type']=='supermarket']\n",
    "plot_df[['y','x']] = list(plot_df['h3_index'].apply(h3.h3_to_geo))\n",
    "    # Convert the pandas DataFrame to a GeoPandas DataFrame with a Point geometry column\n",
    "gdf = gpd.GeoDataFrame(plot_df, geometry=gpd.points_from_xy(plot_df.x, plot_df.y))\n",
    "\n",
    "fig, ax = plt.subplots(figsize=(10,10))\n",
    "gdf.plot(ax=ax, column='mean_dist', categorical=False,\n",
    "            legend=True, markersize=50, alpha=0.5, cmap='Reds',\n",
    "            vmin=0, vmax=25)\n",
    "\n",
    "#plot poi points\n",
    "poi_df = h3_df[h3_df['category']=='pharmacy'].copy()\n",
    "poi_df[['y','x']] = list(poi_df['h3_index'].apply(h3.h3_to_geo))\n",
    "# Convert the pandas DataFrame to a GeoPandas DataFrame with a Point geometry column\n",
    "gdf = gpd.GeoDataFrame(poi_df, geometry=gpd.points_from_xy(poi_df.x, poi_df.y))\n",
    "\n",
    "# Show the GeoPandas DataFrame\n",
    "gdf.plot(ax=ax, markersize=5, alpha=0.5)\n",
    "\n",
    "\n",
    "#plt.xlim(12.391681,12.737388)\n",
    "#plt.ylim(55.549206, 55.759991)\n",
    "plt.title(\"min travel time from residential areas (red) to supermarkets (in blue)\")\n",
    "cx.add_basemap(ax = ax, crs=\"EPSG:4326\")\n",
    "\n",
    "#plt.savefig('figures/supermarkets_1000.png', dpi=300)"
   ]
  },
  {
   "cell_type": "code",
   "execution_count": null,
   "metadata": {},
   "outputs": [],
   "source": [
    "fig, ax = plt.subplots(figsize=(10,10))\n",
    "\n",
    "#plot poi points\n",
    "poi_df = h3_df[h3_df['category'].isin(['school','supermarket'])].copy()\n",
    "poi_df[['y','x']] = list(poi_df['h3_index'].apply(h3.h3_to_geo))\n",
    "# Convert the pandas DataFrame to a GeoPandas DataFrame with a Point geometry column\n",
    "gdf = gpd.GeoDataFrame(poi_df, geometry=gpd.points_from_xy(poi_df.x, poi_df.y))\n",
    "\n",
    "# Show the GeoPandas DataFrame\n",
    "gdf.plot(ax=ax, column='category', markersize=5, alpha=0.5, legend=True)\n",
    "\n",
    "\n",
    "#plt.xlim(12.391681,12.737388)\n",
    "#plt.ylim(55.549206, 55.759991)\n",
    "plt.title(\"plot all schools and supermarkets\")\n",
    "cx.add_basemap(ax = ax, crs=\"EPSG:4326\")\n",
    "\n",
    "plt.savefig('figures/supermarkets_and_schools.png', dpi=300)"
   ]
  },
  {
   "cell_type": "code",
   "execution_count": null,
   "metadata": {},
   "outputs": [],
   "source": [
    "fig, ax = plt.subplots(figsize=(10,10))\n",
    "\n",
    "#plot poi points\n",
    "poi_df = h3_df[h3_df['category'].isin(['pharmacy','sport'])].copy()\n",
    "poi_df[['y','x']] = list(poi_df['h3_index'].apply(h3.h3_to_geo))\n",
    "# Convert the pandas DataFrame to a GeoPandas DataFrame with a Point geometry column\n",
    "gdf = gpd.GeoDataFrame(poi_df, geometry=gpd.points_from_xy(poi_df.x, poi_df.y))\n",
    "\n",
    "# Show the GeoPandas DataFrame\n",
    "gdf.plot(ax=ax, column='category', markersize=5, alpha=0.5, legend=True)\n",
    "\n",
    "\n",
    "#plt.xlim(12.391681,12.737388)\n",
    "#plt.ylim(55.549206, 55.759991)\n",
    "plt.title(\"plot all sport areas and pharmacies\")\n",
    "cx.add_basemap(ax = ax, crs=\"EPSG:4326\")\n",
    "\n",
    "plt.savefig('figures/sport_and_pharmacy.png', dpi=300)"
   ]
  },
  {
   "cell_type": "code",
   "execution_count": null,
   "metadata": {},
   "outputs": [],
   "source": [
    "plot_df = pd.DataFrame([(k,v) for k,v in mins.items()], columns = ['h3_index','mean_dist'])\n",
    "plot_hex_df(plot_df, markersize=100, color_column='mean_dist')"
   ]
  }
 ],
 "metadata": {
  "kernelspec": {
   "display_name": "graphs",
   "language": "python",
   "name": "python3"
  },
  "language_info": {
   "codemirror_mode": {
    "name": "ipython",
    "version": 3
   },
   "file_extension": ".py",
   "mimetype": "text/x-python",
   "name": "python",
   "nbconvert_exporter": "python",
   "pygments_lexer": "ipython3",
   "version": "3.10.9"
  },
  "orig_nbformat": 4,
  "vscode": {
   "interpreter": {
    "hash": "4a83c97c24042c2fe663cd87e7385deeb17cf9b0e1f514d52f4c1d593b8e283a"
   }
  }
 },
 "nbformat": 4,
 "nbformat_minor": 2
}
