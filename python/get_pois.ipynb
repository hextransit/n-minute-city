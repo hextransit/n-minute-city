{
 "cells": [
  {
   "cell_type": "code",
   "execution_count": null,
   "metadata": {},
   "outputs": [],
   "source": [
    "from pyrosm import OSM\n",
    "from pyrosm import get_data\n",
    "import osmnx as ox\n",
    "import pandas as pd\n",
    "import h3.api.numpy_int as h3 \n",
    "import shapely\n",
    "import matplotlib.pyplot as plt\n",
    "import geopandas as gpd\n",
    "from shapely.geometry import MultiPolygon\n",
    "from shapely.geometry import Polygon\n",
    "import contextily as cx\n",
    "\n",
    "\n",
    "def flatten(lst):\n",
    "    return [item for sublist in lst for item in (flatten(sublist) if isinstance(sublist, list) else [sublist])]\n",
    "\n",
    "def swap_xy(geom):\n",
    "    if geom.is_empty:\n",
    "        return geom\n",
    "\n",
    "    if geom.has_z:\n",
    "        def swap_xy_coords(coords):\n",
    "            for x, y, z in coords:\n",
    "                yield (y, x, z)\n",
    "    else:\n",
    "        def swap_xy_coords(coords):\n",
    "            for x, y in coords:\n",
    "                yield (y, x)\n",
    "\n",
    "    # Process coordinates from each supported geometry type\n",
    "    if geom.type in ('Point', 'LineString', 'LinearRing'):\n",
    "        return type(geom)(list(swap_xy_coords(geom.coords)))\n",
    "    elif geom.type == 'Polygon':\n",
    "        ring = geom.exterior\n",
    "        shell = type(ring)(list(swap_xy_coords(ring.coords)))\n",
    "        holes = list(geom.interiors)\n",
    "        for pos, ring in enumerate(holes):\n",
    "            holes[pos] = type(ring)(list(swap_xy_coords(ring.coords)))\n",
    "        return type(geom)(shell, holes)\n",
    "    elif geom.type.startswith('Multi') or geom.type == 'GeometryCollection':\n",
    "        # Recursive call\n",
    "        return type(geom)([swap_xy(part) for part in geom.geoms])\n",
    "    else:\n",
    "        raise ValueError('Type %r not recognized' % geom.type)\n",
    "\n",
    "def h3_list_to_multi_poly(h3_list):\n",
    "    h3_polygon = h3.h3_set_to_multi_polygon(h3_list)\n",
    "    # for some reason you can't go straight to multiploly ////:\n",
    "    return MultiPolygon([Polygon(p[0]) for p in h3_polygon])\n",
    "\n",
    "def LineString_to_hex(line, H3_RES):\n",
    "    l_coords = [x for x in line.coords]\n",
    "    start = h3.geo_to_h3(l_coords[0][0], l_coords[0][1], H3_RES)\n",
    "    end = h3.geo_to_h3(l_coords[-1][0], l_coords[-1][1], H3_RES)\n",
    "    return h3.h3_line(start,end)\n",
    "\n",
    "def all_shapley_geo_to_h3(obj, H3_RES):\n",
    "    geom_type = obj.geom_type\n",
    "    # assert geom_type valid at some point\n",
    "\n",
    "    # shapely and h3 swap x and y:\n",
    "    obj = swap_xy(obj)\n",
    "\n",
    "    if geom_type=='MultiPolygon':\n",
    "        # this will break in a different version of shapley, use this instead of iterating polys in multipoly: \n",
    "        # multi_poly.coords or .geoms\n",
    "        return [ind for p in obj.geoms for ind in h3.polyfill(shapely.geometry.mapping(p), H3_RES)] # loop through polys and flatten\n",
    "    elif geom_type=='Polygon':\n",
    "        return h3.polyfill(shapely.geometry.mapping(obj), H3_RES)\n",
    "    elif geom_type=='MultiLineString':\n",
    "        # this will break in a different version of shapley, use this instead of iterating lines in multi_line: \n",
    "        # obj.coords or obj.geoms\n",
    "        return [ind for l in obj.geoms for ind in LineString_to_hex(l,H3_RES)]\n",
    "    elif geom_type=='LineString':\n",
    "        return LineString_to_hex(obj, H3_RES)\n",
    "    elif geom_type=='Point':\n",
    "        return h3.geo_to_h3(obj.x, obj.y, H3_RES)\n",
    "    else:\n",
    "        print(f\"unimplemented geom type: {geom_type}\")\n",
    "    \n",
    "\n",
    "def plot_h3_and_geo(h3_index_list, shapely_geo):\n",
    "    p = gpd.GeoSeries(shapely_geo)\n",
    "    p2 = gpd.GeoSeries(h3_list_to_multi_poly(h3_index_list))\n",
    "    gdf1 = gpd.GeoDataFrame(geometry=p)\n",
    "    gdf2 = gpd.GeoDataFrame(geometry=p2)\n",
    "\n",
    "    # Create a figure and axis\n",
    "    fig, ax = plt.subplots()\n",
    "\n",
    "    # Plot the GeoDataFrames on the axis\n",
    "    gdf1.plot(ax=ax, color='blue', alpha=0.5)\n",
    "    gdf2.plot(ax=ax, color='red', alpha=0.5)\n",
    "\n",
    "    cx.add_basemap(ax = ax, crs=\"EPSG:4326\")\n",
    "\n",
    "    plt.show()\n",
    "\n",
    "\n",
    "def osm_to_manual_category(tag, osm_tag_mapping):\n",
    "    # faster than searching keys to try, except\n",
    "    try:\n",
    "        return osm_tag_mapping[tag]\n",
    "    except:\n",
    "        return tag\n",
    "\n",
    "# some tags don't have headers, find manually in tags\n",
    "def tag_conditions(tags, healthcare_list):\n",
    "    # search for healthcare tag substring, return match\n",
    "    s = [s for s in healthcare_list if s in tags]\n",
    "    if s:\n",
    "        return s[0]\n",
    "    elif \"sport\" in tags:\n",
    "        return \"sport\" \n",
    "    else:\n",
    "        return None\n",
    "\n",
    "def df_manipulations(pois, H3_RES, osm_filter, category_set, osm_tag_mapping):\n",
    "    '''\n",
    "    input: raw poi df direct from pyrosm\n",
    "    output: df with columns h3_index and category\n",
    "    '''\n",
    "\n",
    "    pois[\"poi_type\"] = pois[\"amenity\"]\n",
    "    pois[\"poi_type\"] = pois[\"poi_type\"].fillna(pois[\"shop\"])\n",
    "    pois[\"poi_type\"] = pois[\"poi_type\"].fillna(pois[\"leisure\"])\n",
    "\n",
    "    # some pois don't have a poi_type, find them in tags\n",
    "    pois['tags'] = pois['tags'].astype(str)\n",
    "    pois['no_header'] = pois.apply(lambda x: tag_conditions(x.tags, osm_filter['healthcare']), axis=1)\n",
    "    pois[\"poi_type\"] = pois[\"poi_type\"].fillna(pois[\"no_header\"])\n",
    "\n",
    "    # convert poi_type to n minute city category\n",
    "    pois['category'] = pois[\"poi_type\"].apply(lambda x: osm_to_manual_category(x, osm_tag_mapping))\n",
    "\n",
    "    # convert all geometry to h3\n",
    "    h3_df = pois[['category','poi_type','geometry']].copy()\n",
    "    h3_df['h3_index'] = pois.apply(lambda x: all_shapley_geo_to_h3(x.geometry, H3_RES), axis=1)\n",
    "    # make one h3 index on each row\n",
    "    h3_df = h3_df.explode('h3_index')\n",
    "    # for some reason other categories are still in the df - not many - put earlier for efficiency\n",
    "    h3_df = h3_df[h3_df['category'].isin(category_set)]\n",
    "    # get rid of nans\n",
    "    h3_df = h3_df[~h3_df['h3_index'].isna()]\n",
    "    \n",
    "    return h3_df[['h3_index','category']]\n",
    "\n",
    "def get_pois_h3(pbf_path, osm_filter, H3_RES, category_set, osm_tag_mapping):\n",
    "    osm = OSM(pbf_path)\n",
    "    pois = osm.get_pois(custom_filter=osm_filter)\n",
    "    return df_manipulations(pois, H3_RES, osm_filter, category_set, osm_tag_mapping)"
   ]
  },
  {
   "cell_type": "code",
   "execution_count": null,
   "metadata": {},
   "outputs": [],
   "source": [
    "pbf_path = \"../resources/osm/Læsø Kommune_processed.osm.pbf\"\n",
    "\n",
    "# idea: EVERYONE can use it and live a healthy life with this as their only source\n",
    "#check: doctors, clinic, health_food, food\n",
    "#essential filter will be the least restrictive!\n",
    "essential_filter = {\n",
    "    \"amenity\":[\"pharmacy\",\"dentist\",\"clinic\",\"doctors\",\"school\",\"library\"],\n",
    "    \"shop\":[\"supermarket\",\"greengrocer\",\"medical_supply\",\"grocery\",\"wholesale\"],\n",
    "    \"healthcare\":[\"clinic\",\"doctor\",\"pharmacy\",\"dentist\"],\n",
    "    \"leisure\":[\"park\",\"fitness_centre\",'fitness_station'],\n",
    "    \"sport\":['tennis','soccer','swimming_pool','sports_centre','pitch','track','golf_course','gymnastics','gym','fitness_centre','fitness_station']\n",
    "    }\n",
    "\n",
    "# parameters\n",
    "\n",
    "H3_RES = 12\n",
    "\n",
    "# n minute city must satisfy the following expression based on\n",
    "# the existence of certain tags within n minutes:\n",
    "category_set = set(['pharmacy','park','supermarket','sport','doctor','dentist','library'])\n",
    "\n",
    "# easy use case which is debateably also essential\n",
    "#education_filter = {\"amenity\":[\"school\"]}\n",
    "\n",
    "osm_tag_mapping = {\n",
    "    \"medical_supply\":\"pharmacy\",\n",
    "    \"greengrocer\":\"supermarket\",\n",
    "    \"wholesale\":\"supermarket\",\n",
    "    \"grocery\":\"supermarket\",\n",
    "    \"clinic\":\"doctor\",\n",
    "    \"doctors\":\"doctor\",\n",
    "    'pitch':'sport',\n",
    "    'track':'sport',\n",
    "    'sports_centre':'sport'\n",
    "}"
   ]
  },
  {
   "attachments": {},
   "cell_type": "markdown",
   "metadata": {},
   "source": [
    "# testing pyrosm bounding box"
   ]
  },
  {
   "cell_type": "code",
   "execution_count": null,
   "metadata": {},
   "outputs": [],
   "source": [
    "# testing all denmark and then cropping\n",
    "pbf_path = \"../resources/osm_unprocessed/denmark-latest.osm.pbf\"\n",
    "municipality = 'Randers Kommune'\n",
    "bbox = [9.7, 56.37, 10.47, 56.6]\n",
    "\n",
    "from ghsl_processing import city_boundaries_to_h3 \n",
    "city_bounds_h3, bbox, bbox_pois = city_boundaries_to_h3(municipality)\n",
    "osm = OSM(pbf_path, bounding_box=bbox)\n",
    "pois = osm.get_pois(custom_filter=essential_filter)"
   ]
  },
  {
   "cell_type": "code",
   "execution_count": null,
   "metadata": {},
   "outputs": [],
   "source": [
    "# testing all denmark and then cropping\n",
    "pbf_path = \"../resources/osm_unprocessed/denmark-latest.osm.pbf\"\n",
    "municipality = 'Ærø Kommune'\n",
    "bbox = [10.2, 54.8, 10.56, 54.97]\n",
    "\n",
    "from ghsl_processing import city_boundaries_to_h3 \n",
    "city_bounds_h3, bbox, bbox_pois = city_boundaries_to_h3(municipality)\n",
    "osm = OSM(pbf_path, bounding_box=bbox)\n",
    "pois = osm.get_pois(custom_filter=essential_filter)"
   ]
  },
  {
   "cell_type": "code",
   "execution_count": null,
   "metadata": {},
   "outputs": [],
   "source": [
    "# testing all denmark and then cropping\n",
    "pbf_path = \"../resources/osm/Ærø Kommune_processed.osm.pbf\"\n",
    "municipality = 'Ærø Kommune'\n",
    "bbox = [10.2, 54.8, 10.56, 54.97]\n",
    "\n",
    "from ghsl_processing import city_boundaries_to_h3 \n",
    "city_bounds_h3, bbox, bbox_pois = city_boundaries_to_h3(municipality)\n",
    "osm = OSM(pbf_path)\n",
    "pois = osm.get_pois(custom_filter=essential_filter)"
   ]
  },
  {
   "cell_type": "code",
   "execution_count": null,
   "metadata": {},
   "outputs": [],
   "source": [
    "test = get_pois_h3(pbf_path, essential_filter, H3_RES, category_set, osm_tag_mapping)\n",
    "test['category'].value_counts()"
   ]
  },
  {
   "cell_type": "code",
   "execution_count": null,
   "metadata": {},
   "outputs": [],
   "source": [
    "test = get_pois_h3(pbf_path, essential_filter, H3_RES, category_set, osm_tag_mapping)\n",
    "test['category'].value_counts()"
   ]
  },
  {
   "cell_type": "code",
   "execution_count": null,
   "metadata": {},
   "outputs": [],
   "source": [
    "test['category'].value_counts()"
   ]
  },
  {
   "attachments": {},
   "cell_type": "markdown",
   "metadata": {},
   "source": [
    "# testing pyrosm bounding box"
   ]
  },
  {
   "cell_type": "code",
   "execution_count": null,
   "metadata": {},
   "outputs": [],
   "source": [
    "# testing all denmark and then cropping\n",
    "pbf_path = \"../resources/osm_unprocessed/denmark-latest.osm.pbf\"\n",
    "municipality = 'Randers Kommune'\n",
    "bbox = [9.7, 56.37, 10.47, 56.6]\n",
    "\n",
    "from ghsl_processing import city_boundaries_to_h3 \n",
    "city_bounds_h3, bbox, bbox_pois = city_boundaries_to_h3(municipality)\n",
    "osm = OSM(pbf_path, bounding_box=bbox)\n",
    "pois = osm.get_pois(custom_filter=essential_filter)"
   ]
  },
  {
   "cell_type": "code",
   "execution_count": null,
   "metadata": {},
   "outputs": [],
   "source": [
    "# testing all denmark and then cropping\n",
    "pbf_path = \"../resources/osm_unprocessed/denmark-latest.osm.pbf\"\n",
    "municipality = 'Ærø Kommune'\n",
    "bbox = [10.2, 54.8, 10.56, 54.97]\n",
    "\n",
    "from ghsl_processing import city_boundaries_to_h3 \n",
    "city_bounds_h3, bbox, bbox_pois = city_boundaries_to_h3(municipality)\n",
    "osm = OSM(pbf_path, bounding_box=bbox)\n",
    "pois = osm.get_pois(custom_filter=essential_filter)"
   ]
  },
  {
   "cell_type": "code",
   "execution_count": null,
   "metadata": {},
   "outputs": [],
   "source": [
    "# testing all denmark and then cropping\n",
    "pbf_path = \"../resources/osm/Ærø Kommune_processed.osm.pbf\"\n",
    "municipality = 'Ærø Kommune'\n",
    "bbox = [10.2, 54.8, 10.56, 54.97]\n",
    "\n",
    "from ghsl_processing import city_boundaries_to_h3 \n",
    "city_bounds_h3, bbox, bbox_pois = city_boundaries_to_h3(municipality)\n",
    "osm = OSM(pbf_path)\n",
    "pois = osm.get_pois(custom_filter=essential_filter)"
   ]
  },
  {
   "cell_type": "code",
   "execution_count": null,
   "metadata": {},
   "outputs": [],
   "source": [
    "#from pois_to_h3 import get_pois_h3\n",
    "df = get_pois_h3(pbf_path, essential_filter, H3_RES, category_set, osm_tag_mapping)"
   ]
  },
  {
   "cell_type": "code",
   "execution_count": null,
   "metadata": {},
   "outputs": [],
   "source": [
    "pois[\"poi_type\"] = pois[\"amenity\"]\n",
    "pois[\"poi_type\"] = pois[\"poi_type\"].fillna(pois[\"shop\"])\n",
    "pois[\"poi_type\"] = pois[\"poi_type\"].fillna(pois[\"leisure\"])\n",
    "\n",
    "# some pois don't have a poi_type, find them in tags\n",
    "pois['tags'] = pois['tags'].astype(str)\n",
    "pois['no_header'] = pois.apply(lambda x: tag_conditions(x.tags, essential_filter['healthcare']), axis=1)\n",
    "pois[\"poi_type\"] = pois[\"poi_type\"].fillna(pois[\"no_header\"])\n",
    "\n",
    "# convert poi_type to n minute city category\n",
    "pois['category'] = pois[\"poi_type\"].apply(lambda x: osm_to_manual_category(x, osm_tag_mapping))\n",
    "\n",
    "# convert all geometry to h3\n",
    "h3_df = pois[['category','poi_type','geometry']].copy()\n",
    "h3_df.plot()"
   ]
  },
  {
   "cell_type": "code",
   "execution_count": null,
   "metadata": {},
   "outputs": [],
   "source": [
    "df['h3_index'] = pois.apply(lambda x: all_shapley_geo_to_h3(x.geometry, H3_RES), axis=1)\n",
    "sample_df = h3_df.copy()\n",
    "sample_df = sample_df.drop('geometry', axis=1)\n",
    "sample_df = sample_df.sample(1000)\n",
    "sample_df = sample_df['h3_index'].explode()\n",
    "sample_df = sample_df[~sample_df.isna()]\n",
    "sample_df = pd.DataFrame(list(sample_df.apply(h3.h3_to_geo)), columns=['y','x'])\n",
    "# Convert the pandas DataFrame to a GeoPandas DataFrame with a Point geometry column\n",
    "gdf = gpd.GeoDataFrame(sample_df, geometry=gpd.points_from_xy(sample_df.x, sample_df.y))"
   ]
  },
  {
   "cell_type": "code",
   "execution_count": null,
   "metadata": {},
   "outputs": [],
   "source": [
    "gdf.plot()"
   ]
  },
  {
   "cell_type": "code",
   "execution_count": null,
   "metadata": {},
   "outputs": [],
   "source": [
    "pois[\"poi_type\"] = pois[\"amenity\"]\n",
    "pois[\"poi_type\"] = pois[\"poi_type\"].fillna(pois[\"shop\"])\n",
    "pois[\"poi_type\"] = pois[\"poi_type\"].fillna(pois[\"leisure\"])\n",
    "\n",
    "# some pois don't have a poi_type, find them in tags\n",
    "pois['tags'] = pois['tags'].astype(str)\n",
    "pois['no_header'] = pois.apply(lambda x: tag_conditions(x.tags, essential_filter['healthcare']), axis=1)\n",
    "pois[\"poi_type\"] = pois[\"poi_type\"].fillna(pois[\"no_header\"])\n",
    "\n",
    "# convert poi_type to n minute city category\n",
    "pois['category'] = pois[\"poi_type\"].apply(lambda x: osm_to_manual_category(x, osm_tag_mapping))\n",
    "\n",
    "# convert all geometry to h3\n",
    "h3_df = pois[['category','poi_type','geometry']].copy()\n",
    "h3_df['h3_index'] = pois.apply(lambda x: all_shapley_geo_to_h3(x.geometry, H3_RES), axis=1)\n",
    "# make one h3 index on each row\n",
    "h3_df = h3_df.explode('h3_index')\n",
    "# for some reason other categories are still in the df - not many - put earlier for efficiency\n",
    "h3_df = h3_df[h3_df['category'].isin(category_set)]\n",
    "# get rid of nans\n",
    "h3_df = h3_df[~h3_df['h3_index'].isna()]"
   ]
  },
  {
   "cell_type": "code",
   "execution_count": null,
   "metadata": {},
   "outputs": [],
   "source": [
    "fig, ax = plt.subplots(figsize=(10,10))\n",
    "# Show the GeoPandas DataFrame\n",
    "sample_df = h3_df[['geom_type','h3_index']].sample(1000)\n",
    "sample_df[['y','x']] = list(sample_df['h3_index'].apply(h3.h3_to_geo))\n",
    "# Convert the pandas DataFrame to a GeoPandas DataFrame with a Point geometry column\n",
    "gdf = gpd.GeoDataFrame(sample_df, geometry=gpd.points_from_xy(sample_df.x, sample_df.y))\n",
    "gdf.geometry = gdf.geometry.map(swap_xy)\n",
    "gdf.plot(ax=ax, column='geom_type', categorical=True, legend=True, markersize=10, alpha=1)\n",
    "\n",
    "# denmark\n",
    "plt.xlim(12.391681,12.737388)\n",
    "plt.ylim(55.549206, 55.759991)\n",
    "\n",
    "# middle east\n",
    "#plt.ylim(12.391681,12.737388)\n",
    "#plt.xlim(55.549206, 55.759991)\n",
    "\n",
    "cx.add_basemap(ax = ax, crs=\"EPSG:4326\")"
   ]
  },
  {
   "cell_type": "code",
   "execution_count": null,
   "metadata": {},
   "outputs": [],
   "source": [
    "sample_df = df.sample(10000) #df.sample(100)\n",
    "sample_df[['y','x']] = list(sample_df['h3_index'].apply(h3.h3_to_geo))\n",
    "# Convert the pandas DataFrame to a GeoPandas DataFrame with a Point geometry column\n",
    "gdf = gpd.GeoDataFrame(sample_df, geometry=gpd.points_from_xy(sample_df.x, sample_df.y))\n",
    "\n",
    "fig, ax = plt.subplots(figsize=(10,10))\n",
    "# Show the GeoPandas DataFrame\n",
    "gdf.plot(ax=ax, column='category', categorical=True, legend=True, markersize=10, alpha=0.5)\n",
    "\n",
    "# denmark\n",
    "#plt.xlim(12.391681,12.737388)\n",
    "#plt.ylim(55.549206, 55.759991)\n",
    "\n",
    "# middle east\n",
    "#plt.ylim(12.391681,12.737388)\n",
    "#plt.xlim(55.549206, 55.759991)\n",
    "\n",
    "cx.add_basemap(ax = ax, crs=\"EPSG:4326\")"
   ]
  },
  {
   "cell_type": "code",
   "execution_count": null,
   "metadata": {},
   "outputs": [],
   "source": [
    "# tests\n",
    "polygon = pois[pois['geom_type']=='Polygon']['geometry'].values[0]\n",
    "multi_poly = pois[pois['geom_type']=='MultiPolygon']['geometry'].values[0]\n",
    "point = pois[pois['geom_type']=='Point']['geometry'].values[0]\n",
    "line = pois[pois['geom_type']=='LineString']['geometry'].values[0]\n",
    "multi_line = pois[pois['geom_type']=='MultiLineString']['geometry'].values[0]\n",
    "\n",
    "test_poly = all_shapley_geo_to_h3(polygon, H3_RES)\n",
    "test_multi_poly = all_shapley_geo_to_h3(multi_poly, H3_RES)\n",
    "test_point = all_shapley_geo_to_h3(point, H3_RES)\n",
    "test_line = all_shapley_geo_to_h3(line, H3_RES)\n",
    "# these are all parks\n",
    "# in order to test this yo uneed to plot a scatterplot of all hex cell centers bc converting to polygon fills in the holes\n",
    "test_multi_line = all_shapley_geo_to_h3(multi_line, H3_RES)"
   ]
  },
  {
   "cell_type": "code",
   "execution_count": null,
   "metadata": {},
   "outputs": [],
   "source": [
    "# misc filters\n",
    "'''\n",
    "check: marketplace, childcare, studio, food\n",
    "\n",
    "work_filter = {\"amenity\":[\"coworking_space\"]}\n",
    "\n",
    "elderly_care = {\"amenity\":[\"nursing_home\",\"retirement_home\"]}\n",
    "\n",
    "healthcare_filter = {\"amenity\": [\"hospital\",\"dentist\",\"doctors\",\"pharmacy\",\"clinic\"]}\n",
    "\n",
    "sport_filter = {\"amenity\": [\"climbing_wall\",\"dojo\"]}\n",
    "\n",
    "culture_filter = {\"amenity\":[\"cinema\",\"theatre\",\"events_venue\",\"arts_centre\",\"place_of_worship\",\"library\",\"music_venue\",\"community_centre\",\"dancing_school\",\"social_facility\",\"gallery\",\"social_centre\",\"conference_centre\",\"public_bath\"]}\n",
    "\n",
    "social_filter = {\"amenity\":[\"pub\",\"bar\",\"nightclub\",\"cafe\",\"internet_cafe\"]}\n",
    "\n",
    "food_filter = {\"amenity\":[\"restaurant\",\"kitchen\",\"food_court\"],\"shop\":[\"supermarket\",\"greengrocer\",\"confectionery\"]}\n",
    "\n",
    "education_filter = {\"amenity\":[\"school\",\"kindergarten\",\"language_school\"]}\n",
    "\n",
    "'''"
   ]
  },
  {
   "cell_type": "code",
   "execution_count": null,
   "metadata": {},
   "outputs": [],
   "source": [
    "# By default pyrosm reads all elements having \"amenity\", \"shop\" or \"tourism\" tag\n",
    "# Here, let's read only \"amenity\" and \"shop\" by applying a custom filter that\n",
    "# overrides the default filtering mechanism\n",
    "# https://wiki.openstreetmap.org/wiki/Map_features\n",
    "# there is overlap, basically no need to use building tag\n",
    "custom_filter = {\"amenity\": True, \"shop\": True, \"healthcare\": True, \"leisure\": True, \"sport\": True, \"building\": True}\n",
    "custom_filter = {\"amenity\": [\"doctors\"]}\n",
    "#custom_filter = {\"amenity\":[\"clinic\"]}\n",
    "\n",
    "#pois = osm.get_pois(custom_filter=custom_filter)\n",
    "\n",
    "# Gather info about POI type (combines the tag info from \"amenity\" and \"shop\")\n",
    "#pois[\"poi_type\"] = pois[\"amenity\"]\n",
    "#pois[\"poi_type\"] = pois[\"poi_type\"].fillna(pois[\"shop\"])"
   ]
  },
  {
   "cell_type": "code",
   "execution_count": null,
   "metadata": {},
   "outputs": [],
   "source": [
    "#pd.DataFrame(pois['poi_type'].value_counts()).to_csv(\"list_of_poi_types.csv\")"
   ]
  },
  {
   "cell_type": "code",
   "execution_count": null,
   "metadata": {},
   "outputs": [],
   "source": [
    "h3_df"
   ]
  },
  {
   "cell_type": "code",
   "execution_count": null,
   "metadata": {},
   "outputs": [],
   "source": [
    "ax = h3_df.plot(column='category', markersize=3, figsize=(12,12), legend=True, legend_kwds=dict(loc='upper left', ncol=5, bbox_to_anchor=(1, 1)))"
   ]
  },
  {
   "cell_type": "code",
   "execution_count": null,
   "metadata": {},
   "outputs": [],
   "source": [
    "ax = h3_df.plot(column='category', markersize=3, figsize=(12,12), legend=True, legend_kwds=dict(loc='upper left', ncol=5, bbox_to_anchor=(1, 1)))"
   ]
  },
  {
   "cell_type": "code",
   "execution_count": null,
   "metadata": {},
   "outputs": [],
   "source": [
    "# Plot\n",
    "ax = pois.plot(column='poi_type', markersize=3, figsize=(12,12), legend=True, legend_kwds=dict(loc='upper left', ncol=5, bbox_to_anchor=(1, 1)))"
   ]
  }
 ],
 "metadata": {
  "kernelspec": {
   "display_name": "pyrosm_env",
   "language": "python",
   "name": "python3"
  },
  "language_info": {
   "codemirror_mode": {
    "name": "ipython",
    "version": 3
   },
   "file_extension": ".py",
   "mimetype": "text/x-python",
   "name": "python",
   "nbconvert_exporter": "python",
   "pygments_lexer": "ipython3",
   "version": "3.10.9"
  },
  "orig_nbformat": 4,
  "vscode": {
   "interpreter": {
    "hash": "c87c9ac7f0f1b29b44d070892e731be3c5d8f179b83ef5a3b89313b6c13c9337"
   }
  }
 },
 "nbformat": 4,
 "nbformat_minor": 2
}
