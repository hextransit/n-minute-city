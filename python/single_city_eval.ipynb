{
 "cells": [
  {
   "attachments": {},
   "cell_type": "markdown",
   "metadata": {},
   "source": [
    "# Single city evaluation"
   ]
  },
  {
   "cell_type": "code",
   "execution_count": null,
   "metadata": {},
   "outputs": [],
   "source": [
    "# # denver, cl\n",
    "osm_file = \"../resources/denver/denver-processed.osm.pbf\"\n",
    "gtfs_files = [\"../resources/denver/denver_gtfs.zip\"]\n",
    "ghsl_file = \"../resources/GHS_BUILT_C_MSZ_E2018_GLOBE_R2022A_54009_10_V1_0_R5_C10.tif\"\n",
    "\n",
    "city_names = [\"Denver, Colorado\"]\n",
    "\n",
    "# copehagen, dk\n",
    "# osm_file = \"../resources/processed/København Kommune_processed.osm.pbf\"\n",
    "# gtfs_files = [\"../resources/copenhagen/rejseplanen.zip\"]\n",
    "# ghsl_file = \"../resources/GHS_BUILT_C_MSZ_E2018_GLOBE_R2022A_54009_10_V1_0_R3_C19_Denmark.tif\"\n",
    "\n",
    "# city_names = [\"København Kommune\", \"Frederiksberg Kommune\"]\n",
    "\n",
    "# city_names = [\"Dragør Kommune\"]\n",
    "# osm_file = \"../resources/processed/Dragør Kommune_processed.osm.pbf\"\n",
    "# gtfs_files = [\"../resources/copenhagen/rejseplanen.zip\"]\n",
    "# ghsl_file = \"../resources/GHS_BUILT_C_MSZ_E2018_GLOBE_R2022A_54009_10_V1_0_R3_C19_Denmark.tif\"\n",
    "\n",
    "# # Los Angeles\n",
    "# osm_file = \"../resources/la/la-processed.osm.pbf\"\n",
    "# gtfs_files = [\"../resources/la/gtfs_bus.zip\", \"../resources/la/gtfs_rail.zip\"]\n",
    "# ghsl_file = \"../resources/la/GHS_BUILT_C_MSZ_E2018_GLOBE_R2022A_54009_10_V1_0_R5_C8_SoCal.tif\"\n",
    "\n",
    "# city_names = [\"Los Angeles\"]"
   ]
  },
  {
   "cell_type": "code",
   "execution_count": null,
   "metadata": {},
   "outputs": [],
   "source": [
    "# Parameters\n",
    "\n",
    "# 12 is around 10 meter resolution\n",
    "H3_RES = 12\n",
    "\n",
    "# how many origins to sample\n",
    "num_origins = 1000\n",
    "\n",
    "#essential filter will be the least restrictive\n",
    "essential_filter = {\n",
    "    \"amenity\":[\"pharmacy\",\"dentist\",\"clinic\",\"doctors\",\"school\"],\n",
    "    \"shop\":[\"supermarket\",\"greengrocer\",\"medical_supply\",\"grocery\",\"wholesale\"],\n",
    "    \"healthcare\":[\"clinic\",\"doctor\",\"pharmacy\",\"dentist\"],\n",
    "    \"leisure\":[\"park\"], \"sport\":True\n",
    "}\n",
    "\n",
    "# categories considered for the n-minute calculation\n",
    "category_set = ['pharmacy','park','supermarket','sport', 'school']\n",
    "\n",
    "# how to map osm tags to categories\n",
    "osm_tag_mapping = {\n",
    "    \"medical_supply\":\"pharmacy\",\n",
    "    \"greengrocer\":\"supermarket\",\n",
    "    \"wholesale\":\"supermarket\",\n",
    "    \"grocery\":\"supermarket\",\n",
    "    \"clinic\":\"doctor\",\n",
    "    \"doctors\":\"doctor\",\n",
    "    'pitch':'sport',\n",
    "    'track':'sport',\n",
    "    'sports_centre':'sport'\n",
    "}"
   ]
  },
  {
   "cell_type": "code",
   "execution_count": null,
   "metadata": {},
   "outputs": [],
   "source": [
    "results = {}\n",
    "\n",
    "city_bounds_h3, bbox, bbox_pois = city_boundaries_to_h3([city_name])\n",
    "\n",
    "origins = get_origins(H3_RES, [city_name], bbox, ghsl_file, city_bounds_h3)\n",
    "print(\"origins\", len(origins))\n",
    "\n",
    "origins_sample = list(origins[origins['residential_bool']==1].sample(num_origins, replace=True)['h3_index'])\n",
    "\n",
    "\n",
    "destinations = get_pois_h3(osm_file, essential_filter, H3_RES, category_set, osm_tag_mapping, [city_name])\n",
    "\n",
    "for g_type in ['all', 'walk', 'walk+bike', 'walk+transit']:\n",
    "        print(g_type)\n",
    "        # build the graph\n",
    "        graph = PyH3Graph(bike_penalty=1, k_ring=2, layers=g_type)\n",
    "        graph.create(osm_path=osm_file,gtfs_paths=gtfs_files)\n",
    "        # do routing\n",
    "        category_means, route_mins = routing(category_set, origins_sample, destinations, num_origins, graph)\n",
    "        # save results as dictionary\n",
    "        results.update({g_type:{'category_means':category_means, 'route_mins':route_mins}})"
   ]
  },
  {
   "attachments": {},
   "cell_type": "markdown",
   "metadata": {},
   "source": [
    "### Single point routing"
   ]
  },
  {
   "cell_type": "code",
   "execution_count": null,
   "metadata": {},
   "outputs": [],
   "source": [
    "# From 1 point to all others\n",
    "\n",
    "# copehnagen hovedbanegard\n",
    "hbg = {'x': 55.674599, 'y': 12.564449}\n",
    "norreport = {'x': 55.683588, 'y': 12.571663}\n",
    "origin = hbg\n",
    "#convert point to h3\n",
    "origin_h3 = [h3.geo_to_h3(origin['x'], origin['y'], H3_RES)]\n",
    "\n",
    "results = {}\n",
    "\n",
    "city_bounds_h3, bbox, bbox_pois = city_boundaries_to_h3([city_name])\n",
    "origins_sample = origin_h3\n",
    "destinations = get_pois_h3(osm_file, essential_filter, H3_RES, category_set, osm_tag_mapping, [city_name])\n",
    "destinations = destinations['h3_index'].values"
   ]
  },
  {
   "cell_type": "code",
   "execution_count": null,
   "metadata": {},
   "outputs": [],
   "source": [
    "weight_options = {'bike_penalty': 1.0,\n",
    "                            'wait_time_multiplier': 1,\n",
    "                            'walk_speed': 1.4,\n",
    "                            'bike_speed': 4.5}\n",
    "\n",
    "for g_type in ['all', 'walk+transit']:\n",
    "        print(g_type)\n",
    "        # build the graph\n",
    "        graph = PyH3Graph(weight_options=weight_options, k_ring=5, layers=g_type)\n",
    "        graph.create(osm_path=osm_file,gtfs_paths=gtfs_files)\n",
    "        # do routing\n",
    "        ds = graph.matrix_distance(origins=destinations, destinations=origins_sample, dynamic_infinity=False)"
   ]
  },
  {
   "cell_type": "code",
   "execution_count": null,
   "metadata": {},
   "outputs": [],
   "source": [
    "pd.DataFrame(ds)"
   ]
  },
  {
   "cell_type": "code",
   "execution_count": null,
   "metadata": {},
   "outputs": [],
   "source": [
    "def kring_smoothing(df, hex_col, metric_col, k):\n",
    "    df['d'] = df.d2-df.d1\n",
    "    dfk = df[[hex_col]] \n",
    "    dfk.index = dfk[hex_col]\n",
    "    dfs =  (dfk[hex_col]\n",
    "                 .apply(lambda x: pd.Series(list(h3.k_ring(x,k)))).stack()\n",
    "                 .to_frame('hexk').reset_index(1, drop=True).reset_index()\n",
    "                 .merge(df[[hex_col,metric_col]]).fillna(0)\n",
    "                 .groupby(['hexk'])[[metric_col]].sum().divide((1 + 3 * k * (k + 1)))\n",
    "                 .reset_index()\n",
    "                 .rename(index=str, columns={\"hexk\": hex_col}))\n",
    "    dfs['lat_x'] = dfs[hex_col].apply(lambda x: h3.h3_to_geo(x)[0])\n",
    "    dfs['lon_x'] = dfs[hex_col].apply(lambda x: h3.h3_to_geo(x)[1]) \n",
    "    return dfs"
   ]
  },
  {
   "cell_type": "code",
   "execution_count": null,
   "metadata": {},
   "outputs": [],
   "source": [
    "ds.keys()"
   ]
  },
  {
   "cell_type": "code",
   "execution_count": null,
   "metadata": {},
   "outputs": [],
   "source": [
    "from graph_ds import PyH3Graph\n",
    "from pois_to_h3 import get_pois_h3\n",
    "from ghsl_processing import get_origins, city_boundaries_to_h3\n",
    "\n",
    "import h3.api.numpy_int as h3\n",
    "import geopandas as gpd\n",
    "import matplotlib.pyplot as plt\n",
    "import contextily as cx\n",
    "import numpy as np\n",
    "\n",
    "import polars as pl\n",
    "from lets_plot import *\n",
    "from lets_plot import tilesets\n",
    "\n",
    "LetsPlot.setup_html()"
   ]
  },
  {
   "cell_type": "code",
   "execution_count": null,
   "metadata": {},
   "outputs": [],
   "source": [
    "def routing(category_set, origins, destinations, num_origins, graph):\n",
    "    mins = {}\n",
    "    category_travel_time_means = {}\n",
    "    for c in category_set:\n",
    "        cat_destinations = list(destinations[destinations[\"category\"] == c][\"h3_index\"])\n",
    "        ds = graph.matrix_distance(\n",
    "            origins=origins,\n",
    "            destinations=cat_destinations,\n",
    "            dynamic_infinity=True,\n",
    "            hour_of_week=None,\n",
    "        )\n",
    "\n",
    "        # they might be different lengths, so we can't use a df\n",
    "        mins[c] = {\n",
    "            k: np.nanmin(np.array(v, dtype=np.float64)) for k, v in ds.items() if v\n",
    "        }\n",
    "        category_travel_time_means[c] = np.nanmean(list(mins[c].values()))\n",
    "\n",
    "    return category_travel_time_means, mins"
   ]
  },
  {
   "attachments": {},
   "cell_type": "markdown",
   "metadata": {},
   "source": [
    "## Parameters\n",
    "\n",
    "Select city name, osm file, ghsl file and gtfs feed"
   ]
  },
  {
   "cell_type": "code",
   "execution_count": null,
   "metadata": {},
   "outputs": [],
   "source": [
    "FRESH_RUN = False"
   ]
  },
  {
   "cell_type": "code",
   "execution_count": null,
   "metadata": {},
   "outputs": [],
   "source": [
    "# # denver, cl\n",
    "# osm_file = \"../resources/denver/denver-processed.osm.pbf\"\n",
    "# gtfs_files = [\"../resources/denver/denver_gtfs.zip\"]\n",
    "# ghsl_file = \"../resources/GHS_BUILT_C_MSZ_E2018_GLOBE_R2022A_54009_10_V1_0_R5_C10.tif\"\n",
    "\n",
    "# city_names = [\"Denver, Colorado\"]\n",
    "\n",
    "# copehagen, dk\n",
    "osm_file = \"../resources/processed/København Kommune_processed.osm.pbf\"\n",
    "gtfs_files = [\"../resources/copenhagen/rejseplanen.zip\"]\n",
    "ghsl_file = \"../resources/GHS_BUILT_C_MSZ_E2018_GLOBE_R2022A_54009_10_V1_0_R3_C19_Denmark.tif\"\n",
    "\n",
    "city_names = [\"København Kommune\", \"Frederiksberg Kommune\"]\n",
    "\n",
    "# city_names = [\"Dragør Kommune\"]\n",
    "# osm_file = \"../resources/processed/Dragør Kommune_processed.osm.pbf\"\n",
    "# gtfs_files = [\"../resources/copenhagen/rejseplanen.zip\"]\n",
    "# ghsl_file = \"../resources/GHS_BUILT_C_MSZ_E2018_GLOBE_R2022A_54009_10_V1_0_R3_C19_Denmark.tif\"\n",
    "\n",
    "# # Los Angeles\n",
    "# osm_file = \"../resources/la/la-processed.osm.pbf\"\n",
    "# gtfs_files = [\"../resources/la/gtfs_bus.zip\", \"../resources/la/gtfs_rail.zip\"]\n",
    "# ghsl_file = \"../resources/la/GHS_BUILT_C_MSZ_E2018_GLOBE_R2022A_54009_10_V1_0_R5_C8_SoCal.tif\"\n",
    "\n",
    "# city_names = [\"Los Angeles\"]"
   ]
  },
  {
   "cell_type": "code",
   "execution_count": null,
   "metadata": {},
   "outputs": [],
   "source": [
    "# Parameters\n",
    "\n",
    "# 12 is around 10 meter resolution\n",
    "H3_RES = 12\n",
    "\n",
    "# how many origins to sample\n",
    "num_origins = 10000\n",
    "\n",
    "# essential filter will be the least restrictive\n",
    "essential_filter = {\n",
    "    \"amenity\": [\"pharmacy\", \"dentist\", \"clinic\", \"doctors\", \"school\", \"library\"],\n",
    "    \"shop\": [\"supermarket\", \"greengrocer\", \"medical_supply\", \"grocery\", \"wholesale\"],\n",
    "    \"healthcare\": [\"clinic\", \"doctor\", \"pharmacy\", \"dentist\"],\n",
    "    \"leisure\": [\"park\", \"fitness_centre\", \"fitness_station\"],\n",
    "    \"sport\": [\n",
    "        \"tennis\",\n",
    "        \"soccer\",\n",
    "        \"swimming_pool\",\n",
    "        \"sports_centre\",\n",
    "        \"pitch\",\n",
    "        \"track\",\n",
    "        \"golf_course\",\n",
    "        \"gymnastics\",\n",
    "        \"gym\",\n",
    "        \"fitness_centre\",\n",
    "        \"fitness_station\",\n",
    "    ],\n",
    "}\n",
    "\n",
    "# categories considered for the n-minute calculation\n",
    "category_set = [\"pharmacy\", \"park\", \"supermarket\", \"sport\", \"school\", \"library\"]\n",
    "\n",
    "# how to map osm tags to categories\n",
    "osm_tag_mapping = {\n",
    "    \"medical_supply\": \"pharmacy\",\n",
    "    \"greengrocer\": \"supermarket\",\n",
    "    \"wholesale\": \"supermarket\",\n",
    "    \"grocery\": \"supermarket\",\n",
    "    \"clinic\": \"doctor\",\n",
    "    \"doctors\": \"doctor\",\n",
    "    \"pitch\": \"sport\",\n",
    "    \"track\": \"sport\",\n",
    "    \"sports_centre\": \"sport\",\n",
    "    \"fitness_centre\": \"sport\",\n",
    "    \"fitness_station\": \"sport\",\n",
    "}"
   ]
  },
  {
   "attachments": {},
   "cell_type": "markdown",
   "metadata": {},
   "source": [
    "## Run simulation"
   ]
  },
  {
   "cell_type": "code",
   "execution_count": null,
   "metadata": {},
   "outputs": [],
   "source": [
    "if FRESH_RUN:\n",
    "        results = {}\n",
    "\n",
    "        city_bounds_h3, bbox, bbox_pois = city_boundaries_to_h3(city_names)\n",
    "\n",
    "        origins = get_origins(H3_RES, city_names, bbox, ghsl_file, city_bounds_h3)\n",
    "        print(\"origins\", len(origins))\n",
    "\n",
    "        origins_sample = list(origins[origins['residential_bool']==1].sample(num_origins, replace=True)['h3_index'])\n",
    "\n",
    "        destinations = get_pois_h3(osm_file, essential_filter, H3_RES, category_set, osm_tag_mapping, city_names)\n",
    "\n",
    "        # for g_type in ['all', 'walk', 'walk+bike', 'walk+transit']:\n",
    "        for g_type in ['all']:\n",
    "                print(g_type)\n",
    "                # build the graph\n",
    "                graph = PyH3Graph(weight_options={}, k_ring=2, layers=g_type)\n",
    "                graph.create(osm_path=osm_file,gtfs_paths=gtfs_files)\n",
    "                # do routing\n",
    "                category_means, route_mins = routing(category_set, origins_sample, destinations, num_origins, graph)\n",
    "                # save results as dictionary\n",
    "                results.update({g_type:{'category_means':category_means, 'route_mins':route_mins}})\n",
    "\n",
    "        result_data = []\n",
    "        for g_type, result in results.items():\n",
    "                route_mins = result['route_mins']\n",
    "                for category, values in route_mins.items():\n",
    "                        for h3_index, value in values.items():\n",
    "                                lat, lon = h3.h3_to_geo(h3_index)\n",
    "                                result_data.append([g_type, category, h3_index, lat, lon, value])\n",
    "\n",
    "        result_df = pl.DataFrame(result_data, columns=['graph_type', 'category', 'h3', 'lat', 'lon', 'travel_time'])\n",
    "\n",
    "        result_df.write_ipc(f'results_{city_names[0]}.feather')\n",
    "else:\n",
    "        result_df = pl.read_ipc(f'results_{city_names[0]}.feather')"
   ]
  },
  {
   "cell_type": "code",
   "execution_count": null,
   "metadata": {},
   "outputs": [],
   "source": [
    "plot_df = result_df.filter((pl.col(\"travel_time\").is_not_nan()))"
   ]
  },
  {
   "cell_type": "code",
   "execution_count": null,
   "metadata": {},
   "outputs": [],
   "source": [
    "ggplot(plot_df.sample(1000)) + \\\n",
    "    geom_livemap(tiles=tilesets.CARTO_POSITRON_NO_LABELS) + \\\n",
    "    geom_point(aes(x='lon', y='lat'), size=1.5, alpha=0.7) + \\\n",
    "    ggtitle(f\"Origins in Copenhagen\") + \\\n",
    "    ggsize(1000, 800)"
   ]
  },
  {
   "cell_type": "code",
   "execution_count": null,
   "metadata": {},
   "outputs": [],
   "source": [
    "# ggplot(plot_df.filter(pl.col('travel_time') < 60)) + \\\n",
    "#     geom_point(aes(x='lon', y='lat', color='travel_time'), alpha=0.5) + \\\n",
    "#     scale_color_gradient(low='#f2f0f7', high='#54278f') + \\\n",
    "#     facet_wrap([\"graph_type\", \"category\"], ncol=6) + \\\n",
    "#     coord_fixed() + \\\n",
    "#     ggtitle(f\"Minimum travel times to essential services in [{city_names[0]}]\") + \\\n",
    "#     ggsize(1000, 700)"
   ]
  },
  {
   "attachments": {},
   "cell_type": "markdown",
   "metadata": {},
   "source": [
    "## N-minute values by POI category\n",
    "on the full network"
   ]
  },
  {
   "cell_type": "code",
   "execution_count": null,
   "metadata": {},
   "outputs": [],
   "source": [
    "plot_df.filter(pl.col(\"graph_type\") == \"all\").groupby(\"category\").agg(\n",
    "    pl.col(\"travel_time\").mean().alias(\"mean_travel_time\"),\n",
    "    pl.col(\"travel_time\").std().alias(\"std_travel_time\"),\n",
    "    pl.col(\"travel_time\").median().alias(\"median_travel_time\"),\n",
    "    pl.col(\"travel_time\").quantile(0.95).alias(\"95th_percentile_travel_time\"),\n",
    ")"
   ]
  },
  {
   "attachments": {},
   "cell_type": "markdown",
   "metadata": {},
   "source": [
    "## Dominant POI category distribution"
   ]
  },
  {
   "cell_type": "code",
   "execution_count": null,
   "metadata": {},
   "outputs": [],
   "source": [
    "cat_df = (\n",
    "    plot_df.filter((pl.col(\"graph_type\") == \"all\") & (pl.col(\"category\") != \"library\"))\n",
    "    .groupby(\"h3\")\n",
    "    .agg(\n",
    "        pl.col(\"travel_time\").arg_max().alias(\"max_travel_time\"),\n",
    "        pl.col(\"category\")\n",
    "        .take(pl.col(\"travel_time\").arg_max())\n",
    "        .alias(\"max_travel_time_category\"),\n",
    "    )\n",
    "    .groupby(\"max_travel_time_category\")\n",
    "    .agg(pl.col(\"h3\").count().alias(\"num_origins\"))\n",
    "    .with_columns(pl.col(\"num_origins\") / pl.col(\"num_origins\").sum() * 100)\n",
    ")\n",
    "\n",
    "ggplot(cat_df) + geom_bar(\n",
    "    aes(x=\"max_travel_time_category\", y=\"num_origins\"), stat=\"identity\"\n",
    ")"
   ]
  },
  {
   "attachments": {},
   "cell_type": "markdown",
   "metadata": {},
   "source": [
    "## Travel time benefits by network type"
   ]
  },
  {
   "cell_type": "code",
   "execution_count": null,
   "metadata": {},
   "outputs": [],
   "source": [
    "(\n",
    "    ggplot(plot_df)\n",
    "    + geom_density(aes(x=\"travel_time\", fill=\"category\"), alpha=0.3)\n",
    "    + xlim(0, 30)\n",
    "    + facet_wrap([\"graph_type\"], ncol=5)\n",
    "    + ggtitle(\n",
    "        f\"Minimum travel time to essential services in [{city_names[0]}], grouped by network type\"\n",
    "    )\n",
    ")"
   ]
  },
  {
   "cell_type": "code",
   "execution_count": null,
   "metadata": {},
   "outputs": [],
   "source": [
    "benefit_df = (\n",
    "    plot_df.groupby([\"h3\", \"category\"])\n",
    "    .agg(\n",
    "        pl.col(\"travel_time\"),\n",
    "        pl.col(\"travel_time\").len().alias(\"count\"),\n",
    "    )\n",
    "    .filter(pl.col(\"count\") == 4)\n",
    "    .groupby([\"h3\", \"category\"])\n",
    "    .agg(\n",
    "        (\n",
    "            pl.col(\"travel_time\").flatten().take(1)\n",
    "            - pl.col(\"travel_time\").flatten().take(2)\n",
    "        ).alias(\"bike_benefit\"),\n",
    "        (\n",
    "            pl.col(\"travel_time\").flatten().take(1)\n",
    "            - pl.col(\"travel_time\").flatten().take(3)\n",
    "        ).alias(\"transit_benefit\"),\n",
    "        (\n",
    "            pl.col(\"travel_time\").flatten().take(1)\n",
    "            - pl.col(\"travel_time\").flatten().take(0)\n",
    "        ).alias(\"multimodal_benefit\"),\n",
    "        (\n",
    "            pl.col(\"travel_time\").flatten().take(3)\n",
    "            - pl.col(\"travel_time\").flatten().take(2)\n",
    "        ).alias(\"transit_bike_benefit\"),\n",
    "    )\n",
    "    .sort(\"category\")\n",
    ")"
   ]
  },
  {
   "cell_type": "code",
   "execution_count": null,
   "metadata": {},
   "outputs": [],
   "source": [
    "p = (\n",
    "    ggplot(benefit_df)\n",
    "    + geom_histogram(aes(x=\"multimodal_benefit\", fill=\"category\"), alpha=0.5, bins=30)\n",
    "    + geom_vline(\n",
    "        xintercept=benefit_df[\"multimodal_benefit\"].quantile(0.5),\n",
    "        linetype=\"dashed\",\n",
    "        color=\"black\",\n",
    "    )\n",
    "    + geom_vline(\n",
    "        xintercept=benefit_df[\"multimodal_benefit\"].quantile(0.8),\n",
    "        linetype=\"dashed\",\n",
    "        color=\"black\",\n",
    "    )\n",
    "    + geom_vline(\n",
    "        xintercept=benefit_df[\"multimodal_benefit\"].quantile(0.9),\n",
    "        linetype=\"dashed\",\n",
    "        color=\"black\",\n",
    "    )\n",
    "    + xlim(0, 30)\n",
    "    + xlab(\"benefit in minutes\")\n",
    ")\n",
    "\n",
    "ggsave(p, f\"multimodal_benefit_{city_names[0]}.png\")\n",
    "\n",
    "p.show()"
   ]
  },
  {
   "cell_type": "code",
   "execution_count": null,
   "metadata": {},
   "outputs": [],
   "source": [
    "benefit_df.groupby(\"category\").agg(\n",
    "    pl.col(\"bike_benefit\").mean().alias(\"bike_benefit\"),\n",
    "    pl.col(\"transit_benefit\").mean().alias(\"transit_benefit\"),\n",
    "    pl.col(\"multimodal_benefit\").mean().alias(\"multimodal_benefit\"),\n",
    ")"
   ]
  },
  {
   "attachments": {},
   "cell_type": "markdown",
   "metadata": {},
   "source": [
    "## N-minute values for each network type"
   ]
  },
  {
   "cell_type": "code",
   "execution_count": null,
   "metadata": {},
   "outputs": [],
   "source": [
    "plot_df.filter(pl.col(\"category\") != \"library\").groupby([\"graph_type\", \"h3\"]).agg(\n",
    "    pl.col(\"travel_time\").max().alias(\"max_travel_time\"),\n",
    ").groupby(\"graph_type\").agg(\n",
    "    pl.col(\"max_travel_time\").median().alias(\"median_travel_time\"),\n",
    "    pl.col(\"max_travel_time\").quantile(0.95).alias(\"95th_percentile_travel_time\"),\n",
    ")"
   ]
  },
  {
   "cell_type": "code",
   "execution_count": null,
   "metadata": {},
   "outputs": [],
   "source": [
    "map_df = (\n",
    "    plot_df.groupby([\"graph_type\", \"h3\"])\n",
    "    .agg(\n",
    "        pl.col(\"travel_time\").max().alias(\"max_travel_time\"),\n",
    "        pl.col(\"lat\").first().alias(\"lat\"),\n",
    "        pl.col(\"lon\").first().alias(\"lon\"),\n",
    "    )\n",
    "    .filter(pl.col(\"graph_type\") == \"all\")\n",
    "    .filter(\n",
    "        (pl.col(\"max_travel_time\") < pl.col(\"max_travel_time\").quantile(0.95))\n",
    "        & (pl.col(\"max_travel_time\") > pl.col(\"max_travel_time\").quantile(0.05))\n",
    "    )\n",
    ")"
   ]
  },
  {
   "attachments": {},
   "cell_type": "markdown",
   "metadata": {},
   "source": [
    "## Maps"
   ]
  },
  {
   "cell_type": "code",
   "execution_count": null,
   "metadata": {},
   "outputs": [],
   "source": [
    "import geopandas as gpd\n",
    "\n",
    "if \"København Kommune\" in city_names:\n",
    "    # load data\n",
    "    neis = gpd.read_file(\n",
    "        \"https://wfs-kbhkort.kk.dk/k101/ows?service=WFS&version=1.0.0&request=GetFeature&typeName=k101:kvarter&outputFormat=json&SRSNAME=EPSG:4326\"\n",
    "    )[[\"kvarternavn\", \"geometry\"]]\n",
    "\n",
    "    frb = gpd.read_file(\n",
    "        \"https://admin.opendata.dk/dataset/f9cf5ee0-00bd-4ead-b5e8-4b3296b13e88/resource/5139ce4d-a08d-4f18-9fe0-6630661eb856/download/skoledistrikter.geojson\"\n",
    "    )\n",
    "    frb = frb.to_crs(neis.crs).rename(columns={\"navn\": \"kvarternavn\"})[\n",
    "        [\"kvarternavn\", \"geometry\"]\n",
    "    ]\n",
    "\n",
    "    neis = neis.append(frb)\n",
    "\n",
    "    crs = neis.crs\n",
    "    index = \"kvarternavn\"\n",
    "\n",
    "    \n",
    "\n",
    "elif \"Denver, Colorado\" in city_names:\n",
    "    print(\"loading Denver data\")\n",
    "    neis = gpd.read_file(\"https://raw.githubusercontent.com/sclement07/datasets/main/neighbourhoods_denver.geojson\")[[\"neighbourhood\", \"geometry\"]]\n",
    "\n",
    "    crs = neis.crs\n",
    "    index = \"neighbourhood\"\n",
    "\n",
    "\n",
    "data = gpd.GeoDataFrame(\n",
    "    map_df.to_pandas(),\n",
    "    geometry=gpd.points_from_xy(map_df[\"lon\"], map_df[\"lat\"]),\n",
    "    crs=crs,\n",
    ")\n",
    "\n",
    "nei_data = (\n",
    "        data.sjoin(neis, how=\"inner\", op=\"intersects\")\n",
    "        .groupby(index)\n",
    "        .median(\"max_travel_time\")\n",
    "        .reset_index()\n",
    "    )\n",
    "\n",
    "data_gdf = gpd.GeoDataFrame(\n",
    "    nei_data.set_index(index)\n",
    "    .join(neis.set_index(index), lsuffix=\"l\", rsuffix=\"r\")\n",
    "    .reset_index()[[index, \"max_travel_time\", \"geometry\"]],\n",
    "    crs=neis.crs,\n",
    ")\n",
    "\n",
    "p = (\n",
    "    ggplot()\n",
    "    + geom_livemap(tiles=tilesets.CARTO_POSITRON_NO_LABELS, zoom=11)\n",
    "    + geom_polygon(\n",
    "        aes(fill=\"n-minutes\"),\n",
    "        data=data_gdf.rename(columns={\"max_travel_time\": \"n-minutes\"}),\n",
    "        alpha=0.8,\n",
    "    )\n",
    "    + scale_fill_continuous(low=\"#0000d9\", high=\"#00d962\", limits=[5, 17])\n",
    "    + theme(legend_text=element_text(size=20), legend_title=element_text(size=20))\n",
    "    + ggsize(1000, 800)\n",
    ")\n",
    "\n",
    "p.show()"
   ]
  },
  {
   "cell_type": "code",
   "execution_count": null,
   "metadata": {},
   "outputs": [],
   "source": [
    "gpd.read_file(\"https://raw.githubusercontent.com/sclement07/datasets/main/neighbourhoods_denver.geojson\")\n"
   ]
  },
  {
   "cell_type": "code",
   "execution_count": null,
   "metadata": {},
   "outputs": [],
   "source": [
    "import plotly.figure_factory as ff\n",
    "import plotly.express as px\n",
    "import numpy as np\n",
    "\n",
    "fig = ff.create_hexbin_mapbox(\n",
    "    data_frame=map_df.filter(pl.col(\"graph_type\") == \"all\").to_pandas(),\n",
    "    lat=\"lat\",\n",
    "    lon=\"lon\",\n",
    "    nx_hexagon=60,\n",
    "    opacity=0.7,\n",
    "    labels={\"color\": \"n\"},\n",
    "    template=None,\n",
    "    color=\"max_travel_time\",\n",
    "    agg_func=np.mean,\n",
    "    color_continuous_scale=\"thermal\",\n",
    "    range_color=[0, 30],\n",
    ")\n",
    "fig.update_layout(mapbox_style=\"carto-positron\", width=1000, height=1000)\n",
    "fig.update_traces(marker=dict(line=dict(width=0)))\n",
    "fig.show()"
   ]
  }
 ],
 "metadata": {
  "kernelspec": {
   "display_name": "Python 3",
   "language": "python",
   "name": "python3"
  },
  "language_info": {
   "codemirror_mode": {
    "name": "ipython",
    "version": 3
   },
   "file_extension": ".py",
   "mimetype": "text/x-python",
   "name": "python",
   "nbconvert_exporter": "python",
   "pygments_lexer": "ipython3",
   "version": "3.10.9"
  },
  "orig_nbformat": 4
 },
 "nbformat": 4,
 "nbformat_minor": 2
}
