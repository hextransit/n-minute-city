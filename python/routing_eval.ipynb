{
 "cells": [
  {
   "attachments": {},
   "cell_type": "markdown",
   "metadata": {},
   "source": [
    "## Routing performance evaluation\n",
    "\n",
    "compare the results of our routing engine with rejseplanen"
   ]
  },
  {
   "cell_type": "code",
   "execution_count": null,
   "metadata": {},
   "outputs": [],
   "source": [
    "from graph_ds import PyH3Graph\n",
    "import h3.api.numpy_int as h3\n",
    "import numpy as np\n",
    "import pandas as pd\n",
    "import requests\n",
    "import time\n",
    "import datetime\n",
    "import tqdm\n",
    "\n",
    "from lets_plot import *\n",
    "LetsPlot.setup_html()\n"
   ]
  },
  {
   "cell_type": "code",
   "execution_count": null,
   "metadata": {},
   "outputs": [],
   "source": [
    "osm_path = \"../resources/processed/København Kommune_processed.osm.pbf\"\n",
    "gtfs_path = \"../resources/copenhagen/rejseplanen.zip\"\n",
    "\n",
    "# build the graph\n",
    "graph_all = PyH3Graph(weight_options={}, k_ring=2, layers=\"all\")\n",
    "graph_no_bike = PyH3Graph(weight_options={}, k_ring=2, layers=\"walk+transit\")\n",
    "graph_all.create(osm_path=osm_path, gtfs_paths=[gtfs_path])\n",
    "graph_no_bike.create(osm_path=osm_path, gtfs_paths=[gtfs_path])"
   ]
  },
  {
   "cell_type": "code",
   "execution_count": null,
   "metadata": {},
   "outputs": [],
   "source": [
    "def route_length(graph, start, end, hour_of_week):\n",
    "    res = graph.matrix_distance([start], [end], hour_of_week=hour_of_week)\n",
    "    return res[start][0]\n",
    "\n",
    "def rejseplanen_route(start, end):\n",
    "    url = \"https://rejseplanen.hexagonal.workers.dev/\"\n",
    "    payload = {\n",
    "        \"origin\": start,\n",
    "        \"destination\": end,\n",
    "    }\n",
    "    response = requests.post(url, data=payload, headers={\"Content-Type\": \"application/x-www-form-urlencoded\"})\n",
    "    # print(f\"[{response.status_code}] {response.url}\")\n",
    "\n",
    "    trip = response.json()[\"TripList\"][\"Trip\"][0]['Leg']\n",
    "\n",
    "    start_time, start_date = trip[0]['Origin']['time'], trip[0]['Origin']['date']\n",
    "    end_time, end_date = trip[-1]['Destination']['time'], trip[-1]['Destination']['date']\n",
    "\n",
    "    duration = datetime.datetime.strptime(end_time, \"%H:%M\") - datetime.datetime.strptime(start_time, \"%H:%M\")\n",
    "    return duration.seconds / 60.0\n",
    "\n",
    "\n",
    "current_hour_of_week = int(time.time() // 3600 % (24 * 7))\n"
   ]
  },
  {
   "cell_type": "code",
   "execution_count": null,
   "metadata": {},
   "outputs": [],
   "source": [
    "origins = []\n",
    "destinations = []\n",
    "our_times = []\n",
    "our_times_no_bike = []\n",
    "rejseplanen_times = []\n",
    "\n",
    "for i in tqdm.tqdm(range(200)):\n",
    "    start = graph_all.get_random_node()\n",
    "    end = graph_all.get_random_node()\n",
    "\n",
    "    try:\n",
    "        our_distance_all = route_length(graph_all, start, end, current_hour_of_week)\n",
    "        our_distance_no_bike = route_length(graph_no_bike, start, end, current_hour_of_week)\n",
    "\n",
    "        rejseplanen_distance = rejseplanen_route(start, end)\n",
    "    except:\n",
    "        continue\n",
    "\n",
    "    our_times.append(our_distance_all)\n",
    "    our_times_no_bike.append(our_distance_no_bike)\n",
    "    rejseplanen_times.append(rejseplanen_distance)\n",
    "    origins.append(start)\n",
    "    destinations.append(end)"
   ]
  },
  {
   "cell_type": "code",
   "execution_count": null,
   "metadata": {},
   "outputs": [],
   "source": [
    "valid_times = []\n",
    "for our, our_nb, rejseplanen, start, end in zip(our_times, our_times_no_bike, rejseplanen_times, origins, destinations):\n",
    "    if our != None and our != np.inf:\n",
    "        valid_times.append([our, our_nb, rejseplanen, our-rejseplanen, start, end])\n",
    "\n",
    "df = pd.DataFrame(valid_times, columns=[\"our\", \"our_no_bike\", \"rejseplanen\", \"difference\", \"start\", \"end\"]).sort_values(by='our').reset_index()\n",
    "df['index'] = df.index\n",
    "df.head()"
   ]
  },
  {
   "cell_type": "code",
   "execution_count": null,
   "metadata": {},
   "outputs": [],
   "source": [
    "# df.to_csv(\"../resources/routing_eval.csv\")\n",
    "df = pd.read_csv(\"../resources/routing_eval.csv\")\n",
    "\n",
    "df['no_bike_difference'] = df['our_no_bike'] - df['rejseplanen']\n",
    "df = df[df['our'] < 90]"
   ]
  },
  {
   "cell_type": "code",
   "execution_count": null,
   "metadata": {},
   "outputs": [],
   "source": [
    "# put 'our', 'our_no_bike' and 'rejseplanen' in one column and add a column for the type\n",
    "df_melted = df.melt(id_vars=['index', 'start', 'end'], value_vars=['our', 'our_no_bike', 'rejseplanen'], var_name='type', value_name='time')\n",
    "\n",
    "means = df_melted.groupby('type').mean().sort_values(by='time').reset_index()\n",
    "means['mean'] = means['time'].round()\n",
    "means['index'] = means.index * 4"
   ]
  },
  {
   "cell_type": "code",
   "execution_count": null,
   "metadata": {},
   "outputs": [],
   "source": [
    "p1 = ggplot(df_melted) + \\\n",
    "    geom_bar(aes(x='index', y='time', fill='type'), stat='identity', position='dodge', alpha=0.8, width=0.8) + \\\n",
    "    geom_point(aes(x='index', y='difference'), data=df, color='black', alpha=0.7) + \\\n",
    "    geom_hline(aes(color='type', yintercept='time'), data=means, linetype='dashed') + \\\n",
    "    geom_label(aes(x='index', y='time', label='mean', color='type'), data=means, size=7, alpha=0.7) + \\\n",
    "    scale_fill_manual(values=[\"#8071AD\", \"#5923FA\", \"#FAAE69\"]) + \\\n",
    "    scale_color_manual(values=[\"#8071AD\", \"#FAAE69\", \"#5923FA\"]) + \\\n",
    "    xlab('') + ylab('travel time in minutes') + \\\n",
    "    ggsize(1400, 400)\n",
    "\n",
    "p1.show()"
   ]
  },
  {
   "cell_type": "code",
   "execution_count": null,
   "metadata": {},
   "outputs": [],
   "source": [
    "p2 = ggplot(df) + \\\n",
    "    geom_density(aes(x='difference'), fill='#8071AD', color='#8071AD', alpha=0.5, label=\"graph_ds\") + \\\n",
    "    geom_density(aes(x='no_bike_difference'), fill='#5923FA', color='#5923FA', alpha=0.5, label=\"no bike\") + \\\n",
    "    geom_vline(xintercept=df['difference'].mean(), color='#5923FA', width=2) + \\\n",
    "    geom_vline(xintercept=df['no_bike_difference'].mean(), color='#5923FA', width=2) + \\\n",
    "    geom_label(x=df['difference'].mean() - 12, y=0.05, label=f\"All - Rejseplanen | µ={df['difference'].mean():.2f}\", color='#8071AD', size=7) + \\\n",
    "    geom_label(x=df['no_bike_difference'].mean() + 16, y=0.05, label=f\"Walk and Transit - Rejseplanen | µ={df['no_bike_difference'].mean():.2f}\", color='#5923FA', size=7) + \\\n",
    "    xlab(\"difference in minutes\") + \\\n",
    "    ggsize(700, 400)\n",
    "\n",
    "p2.show()"
   ]
  },
  {
   "cell_type": "code",
   "execution_count": null,
   "metadata": {},
   "outputs": [],
   "source": [
    "ggsave(p1, \"routing_eval.png\")\n",
    "ggsave(p2, \"routing_eval_diff.png\")"
   ]
  },
  {
   "cell_type": "code",
   "execution_count": null,
   "metadata": {},
   "outputs": [],
   "source": [
    "df['difference'].std(), df['no_bike_difference'].std()"
   ]
  }
 ],
 "metadata": {
  "kernelspec": {
   "display_name": "Python 3",
   "language": "python",
   "name": "python3"
  },
  "language_info": {
   "codemirror_mode": {
    "name": "ipython",
    "version": 3
   },
   "file_extension": ".py",
   "mimetype": "text/x-python",
   "name": "python",
   "nbconvert_exporter": "python",
   "pygments_lexer": "ipython3",
   "version": "3.10.9"
  },
  "orig_nbformat": 4
 },
 "nbformat": 4,
 "nbformat_minor": 2
}
